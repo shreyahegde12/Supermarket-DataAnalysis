{
 "cells": [
  {
   "cell_type": "code",
   "execution_count": 1,
   "id": "21bd6e0e",
   "metadata": {
    "_cell_guid": "b1076dfc-b9ad-4769-8c92-a6c4dae69d19",
    "_uuid": "8f2839f25d086af736a60e9eeb907d3b93b6e0e5",
    "execution": {
     "iopub.execute_input": "2022-11-14T16:23:54.577045Z",
     "iopub.status.busy": "2022-11-14T16:23:54.575867Z",
     "iopub.status.idle": "2022-11-14T16:23:55.637541Z",
     "shell.execute_reply": "2022-11-14T16:23:55.636330Z"
    },
    "papermill": {
     "duration": 1.084568,
     "end_time": "2022-11-14T16:23:55.640617",
     "exception": false,
     "start_time": "2022-11-14T16:23:54.556049",
     "status": "completed"
    },
    "tags": []
   },
   "outputs": [],
   "source": [
    "import pandas as pd\n",
    "import numpy as np\n",
    "import matplotlib.pyplot as plt\n",
    "import seaborn as sns\n"
   ]
  },
  {
   "cell_type": "code",
   "execution_count": 2,
   "id": "5ce7da35",
   "metadata": {
    "execution": {
     "iopub.execute_input": "2022-11-14T16:23:55.675695Z",
     "iopub.status.busy": "2022-11-14T16:23:55.675275Z",
     "iopub.status.idle": "2022-11-14T16:23:55.728790Z",
     "shell.execute_reply": "2022-11-14T16:23:55.727449Z"
    },
    "papermill": {
     "duration": 0.07336,
     "end_time": "2022-11-14T16:23:55.731954",
     "exception": false,
     "start_time": "2022-11-14T16:23:55.658594",
     "status": "completed"
    },
    "tags": []
   },
   "outputs": [
    {
     "data": {
      "text/html": [
       "<div>\n",
       "<style scoped>\n",
       "    .dataframe tbody tr th:only-of-type {\n",
       "        vertical-align: middle;\n",
       "    }\n",
       "\n",
       "    .dataframe tbody tr th {\n",
       "        vertical-align: top;\n",
       "    }\n",
       "\n",
       "    .dataframe thead th {\n",
       "        text-align: right;\n",
       "    }\n",
       "</style>\n",
       "<table border=\"1\" class=\"dataframe\">\n",
       "  <thead>\n",
       "    <tr style=\"text-align: right;\">\n",
       "      <th></th>\n",
       "      <th>Invoice ID</th>\n",
       "      <th>Branch</th>\n",
       "      <th>City</th>\n",
       "      <th>Customer type</th>\n",
       "      <th>Gender</th>\n",
       "      <th>Product line</th>\n",
       "      <th>Unit price</th>\n",
       "      <th>Quantity</th>\n",
       "      <th>Tax 5%</th>\n",
       "      <th>Total</th>\n",
       "      <th>Date</th>\n",
       "      <th>Time</th>\n",
       "      <th>Payment</th>\n",
       "      <th>cogs</th>\n",
       "      <th>gross margin percentage</th>\n",
       "      <th>gross income</th>\n",
       "      <th>Rating</th>\n",
       "    </tr>\n",
       "  </thead>\n",
       "  <tbody>\n",
       "    <tr>\n",
       "      <th>0</th>\n",
       "      <td>750-67-8428</td>\n",
       "      <td>A</td>\n",
       "      <td>Yangon</td>\n",
       "      <td>Member</td>\n",
       "      <td>Female</td>\n",
       "      <td>Health and beauty</td>\n",
       "      <td>74.69</td>\n",
       "      <td>7</td>\n",
       "      <td>26.1415</td>\n",
       "      <td>548.9715</td>\n",
       "      <td>1/5/2019</td>\n",
       "      <td>13:08</td>\n",
       "      <td>Ewallet</td>\n",
       "      <td>522.83</td>\n",
       "      <td>4.761905</td>\n",
       "      <td>26.1415</td>\n",
       "      <td>9.1</td>\n",
       "    </tr>\n",
       "    <tr>\n",
       "      <th>1</th>\n",
       "      <td>226-31-3081</td>\n",
       "      <td>C</td>\n",
       "      <td>Naypyitaw</td>\n",
       "      <td>Normal</td>\n",
       "      <td>Female</td>\n",
       "      <td>Electronic accessories</td>\n",
       "      <td>15.28</td>\n",
       "      <td>5</td>\n",
       "      <td>3.8200</td>\n",
       "      <td>80.2200</td>\n",
       "      <td>3/8/2019</td>\n",
       "      <td>10:29</td>\n",
       "      <td>Cash</td>\n",
       "      <td>76.40</td>\n",
       "      <td>4.761905</td>\n",
       "      <td>3.8200</td>\n",
       "      <td>9.6</td>\n",
       "    </tr>\n",
       "    <tr>\n",
       "      <th>2</th>\n",
       "      <td>631-41-3108</td>\n",
       "      <td>A</td>\n",
       "      <td>Yangon</td>\n",
       "      <td>Normal</td>\n",
       "      <td>Male</td>\n",
       "      <td>Home and lifestyle</td>\n",
       "      <td>46.33</td>\n",
       "      <td>7</td>\n",
       "      <td>16.2155</td>\n",
       "      <td>340.5255</td>\n",
       "      <td>3/3/2019</td>\n",
       "      <td>13:23</td>\n",
       "      <td>Credit card</td>\n",
       "      <td>324.31</td>\n",
       "      <td>4.761905</td>\n",
       "      <td>16.2155</td>\n",
       "      <td>7.4</td>\n",
       "    </tr>\n",
       "    <tr>\n",
       "      <th>3</th>\n",
       "      <td>123-19-1176</td>\n",
       "      <td>A</td>\n",
       "      <td>Yangon</td>\n",
       "      <td>Member</td>\n",
       "      <td>Male</td>\n",
       "      <td>Health and beauty</td>\n",
       "      <td>58.22</td>\n",
       "      <td>8</td>\n",
       "      <td>23.2880</td>\n",
       "      <td>489.0480</td>\n",
       "      <td>1/27/2019</td>\n",
       "      <td>20:33</td>\n",
       "      <td>Ewallet</td>\n",
       "      <td>465.76</td>\n",
       "      <td>4.761905</td>\n",
       "      <td>23.2880</td>\n",
       "      <td>8.4</td>\n",
       "    </tr>\n",
       "    <tr>\n",
       "      <th>4</th>\n",
       "      <td>373-73-7910</td>\n",
       "      <td>A</td>\n",
       "      <td>Yangon</td>\n",
       "      <td>Normal</td>\n",
       "      <td>Male</td>\n",
       "      <td>Sports and travel</td>\n",
       "      <td>86.31</td>\n",
       "      <td>7</td>\n",
       "      <td>30.2085</td>\n",
       "      <td>634.3785</td>\n",
       "      <td>2/8/2019</td>\n",
       "      <td>10:37</td>\n",
       "      <td>Ewallet</td>\n",
       "      <td>604.17</td>\n",
       "      <td>4.761905</td>\n",
       "      <td>30.2085</td>\n",
       "      <td>5.3</td>\n",
       "    </tr>\n",
       "  </tbody>\n",
       "</table>\n",
       "</div>"
      ],
      "text/plain": [
       "    Invoice ID Branch       City Customer type  Gender  \\\n",
       "0  750-67-8428      A     Yangon        Member  Female   \n",
       "1  226-31-3081      C  Naypyitaw        Normal  Female   \n",
       "2  631-41-3108      A     Yangon        Normal    Male   \n",
       "3  123-19-1176      A     Yangon        Member    Male   \n",
       "4  373-73-7910      A     Yangon        Normal    Male   \n",
       "\n",
       "             Product line  Unit price  Quantity   Tax 5%     Total       Date  \\\n",
       "0       Health and beauty       74.69         7  26.1415  548.9715   1/5/2019   \n",
       "1  Electronic accessories       15.28         5   3.8200   80.2200   3/8/2019   \n",
       "2      Home and lifestyle       46.33         7  16.2155  340.5255   3/3/2019   \n",
       "3       Health and beauty       58.22         8  23.2880  489.0480  1/27/2019   \n",
       "4       Sports and travel       86.31         7  30.2085  634.3785   2/8/2019   \n",
       "\n",
       "    Time      Payment    cogs  gross margin percentage  gross income  Rating  \n",
       "0  13:08      Ewallet  522.83                 4.761905       26.1415     9.1  \n",
       "1  10:29         Cash   76.40                 4.761905        3.8200     9.6  \n",
       "2  13:23  Credit card  324.31                 4.761905       16.2155     7.4  \n",
       "3  20:33      Ewallet  465.76                 4.761905       23.2880     8.4  \n",
       "4  10:37      Ewallet  604.17                 4.761905       30.2085     5.3  "
      ]
     },
     "execution_count": 2,
     "metadata": {},
     "output_type": "execute_result"
    }
   ],
   "source": [
    "df = pd.read_csv('../input/supermarket-sales/supermarket_sales - Sheet1.csv')\n",
    "df.head()"
   ]
  },
  {
   "cell_type": "code",
   "execution_count": 3,
   "id": "91a92b55",
   "metadata": {
    "execution": {
     "iopub.execute_input": "2022-11-14T16:23:55.765832Z",
     "iopub.status.busy": "2022-11-14T16:23:55.765378Z",
     "iopub.status.idle": "2022-11-14T16:23:55.792658Z",
     "shell.execute_reply": "2022-11-14T16:23:55.791133Z"
    },
    "papermill": {
     "duration": 0.048147,
     "end_time": "2022-11-14T16:23:55.796176",
     "exception": false,
     "start_time": "2022-11-14T16:23:55.748029",
     "status": "completed"
    },
    "tags": []
   },
   "outputs": [
    {
     "name": "stdout",
     "output_type": "stream",
     "text": [
      "<class 'pandas.core.frame.DataFrame'>\n",
      "RangeIndex: 1000 entries, 0 to 999\n",
      "Data columns (total 17 columns):\n",
      " #   Column                   Non-Null Count  Dtype  \n",
      "---  ------                   --------------  -----  \n",
      " 0   Invoice ID               1000 non-null   object \n",
      " 1   Branch                   1000 non-null   object \n",
      " 2   City                     1000 non-null   object \n",
      " 3   Customer type            1000 non-null   object \n",
      " 4   Gender                   1000 non-null   object \n",
      " 5   Product line             1000 non-null   object \n",
      " 6   Unit price               1000 non-null   float64\n",
      " 7   Quantity                 1000 non-null   int64  \n",
      " 8   Tax 5%                   1000 non-null   float64\n",
      " 9   Total                    1000 non-null   float64\n",
      " 10  Date                     1000 non-null   object \n",
      " 11  Time                     1000 non-null   object \n",
      " 12  Payment                  1000 non-null   object \n",
      " 13  cogs                     1000 non-null   float64\n",
      " 14  gross margin percentage  1000 non-null   float64\n",
      " 15  gross income             1000 non-null   float64\n",
      " 16  Rating                   1000 non-null   float64\n",
      "dtypes: float64(7), int64(1), object(9)\n",
      "memory usage: 132.9+ KB\n"
     ]
    }
   ],
   "source": [
    "df.info()"
   ]
  },
  {
   "cell_type": "code",
   "execution_count": 4,
   "id": "32b7d105",
   "metadata": {
    "execution": {
     "iopub.execute_input": "2022-11-14T16:23:55.832703Z",
     "iopub.status.busy": "2022-11-14T16:23:55.832290Z",
     "iopub.status.idle": "2022-11-14T16:23:55.879389Z",
     "shell.execute_reply": "2022-11-14T16:23:55.877912Z"
    },
    "papermill": {
     "duration": 0.07031,
     "end_time": "2022-11-14T16:23:55.883703",
     "exception": false,
     "start_time": "2022-11-14T16:23:55.813393",
     "status": "completed"
    },
    "tags": []
   },
   "outputs": [
    {
     "data": {
      "text/html": [
       "<div>\n",
       "<style scoped>\n",
       "    .dataframe tbody tr th:only-of-type {\n",
       "        vertical-align: middle;\n",
       "    }\n",
       "\n",
       "    .dataframe tbody tr th {\n",
       "        vertical-align: top;\n",
       "    }\n",
       "\n",
       "    .dataframe thead th {\n",
       "        text-align: right;\n",
       "    }\n",
       "</style>\n",
       "<table border=\"1\" class=\"dataframe\">\n",
       "  <thead>\n",
       "    <tr style=\"text-align: right;\">\n",
       "      <th></th>\n",
       "      <th>Unit price</th>\n",
       "      <th>Quantity</th>\n",
       "      <th>Tax 5%</th>\n",
       "      <th>Total</th>\n",
       "      <th>cogs</th>\n",
       "      <th>gross margin percentage</th>\n",
       "      <th>gross income</th>\n",
       "      <th>Rating</th>\n",
       "    </tr>\n",
       "  </thead>\n",
       "  <tbody>\n",
       "    <tr>\n",
       "      <th>count</th>\n",
       "      <td>1000.000000</td>\n",
       "      <td>1000.000000</td>\n",
       "      <td>1000.000000</td>\n",
       "      <td>1000.000000</td>\n",
       "      <td>1000.00000</td>\n",
       "      <td>1000.000000</td>\n",
       "      <td>1000.000000</td>\n",
       "      <td>1000.00000</td>\n",
       "    </tr>\n",
       "    <tr>\n",
       "      <th>mean</th>\n",
       "      <td>55.672130</td>\n",
       "      <td>5.510000</td>\n",
       "      <td>15.379369</td>\n",
       "      <td>322.966749</td>\n",
       "      <td>307.58738</td>\n",
       "      <td>4.761905</td>\n",
       "      <td>15.379369</td>\n",
       "      <td>6.97270</td>\n",
       "    </tr>\n",
       "    <tr>\n",
       "      <th>std</th>\n",
       "      <td>26.494628</td>\n",
       "      <td>2.923431</td>\n",
       "      <td>11.708825</td>\n",
       "      <td>245.885335</td>\n",
       "      <td>234.17651</td>\n",
       "      <td>0.000000</td>\n",
       "      <td>11.708825</td>\n",
       "      <td>1.71858</td>\n",
       "    </tr>\n",
       "    <tr>\n",
       "      <th>min</th>\n",
       "      <td>10.080000</td>\n",
       "      <td>1.000000</td>\n",
       "      <td>0.508500</td>\n",
       "      <td>10.678500</td>\n",
       "      <td>10.17000</td>\n",
       "      <td>4.761905</td>\n",
       "      <td>0.508500</td>\n",
       "      <td>4.00000</td>\n",
       "    </tr>\n",
       "    <tr>\n",
       "      <th>25%</th>\n",
       "      <td>32.875000</td>\n",
       "      <td>3.000000</td>\n",
       "      <td>5.924875</td>\n",
       "      <td>124.422375</td>\n",
       "      <td>118.49750</td>\n",
       "      <td>4.761905</td>\n",
       "      <td>5.924875</td>\n",
       "      <td>5.50000</td>\n",
       "    </tr>\n",
       "    <tr>\n",
       "      <th>50%</th>\n",
       "      <td>55.230000</td>\n",
       "      <td>5.000000</td>\n",
       "      <td>12.088000</td>\n",
       "      <td>253.848000</td>\n",
       "      <td>241.76000</td>\n",
       "      <td>4.761905</td>\n",
       "      <td>12.088000</td>\n",
       "      <td>7.00000</td>\n",
       "    </tr>\n",
       "    <tr>\n",
       "      <th>75%</th>\n",
       "      <td>77.935000</td>\n",
       "      <td>8.000000</td>\n",
       "      <td>22.445250</td>\n",
       "      <td>471.350250</td>\n",
       "      <td>448.90500</td>\n",
       "      <td>4.761905</td>\n",
       "      <td>22.445250</td>\n",
       "      <td>8.50000</td>\n",
       "    </tr>\n",
       "    <tr>\n",
       "      <th>max</th>\n",
       "      <td>99.960000</td>\n",
       "      <td>10.000000</td>\n",
       "      <td>49.650000</td>\n",
       "      <td>1042.650000</td>\n",
       "      <td>993.00000</td>\n",
       "      <td>4.761905</td>\n",
       "      <td>49.650000</td>\n",
       "      <td>10.00000</td>\n",
       "    </tr>\n",
       "  </tbody>\n",
       "</table>\n",
       "</div>"
      ],
      "text/plain": [
       "        Unit price     Quantity       Tax 5%        Total        cogs  \\\n",
       "count  1000.000000  1000.000000  1000.000000  1000.000000  1000.00000   \n",
       "mean     55.672130     5.510000    15.379369   322.966749   307.58738   \n",
       "std      26.494628     2.923431    11.708825   245.885335   234.17651   \n",
       "min      10.080000     1.000000     0.508500    10.678500    10.17000   \n",
       "25%      32.875000     3.000000     5.924875   124.422375   118.49750   \n",
       "50%      55.230000     5.000000    12.088000   253.848000   241.76000   \n",
       "75%      77.935000     8.000000    22.445250   471.350250   448.90500   \n",
       "max      99.960000    10.000000    49.650000  1042.650000   993.00000   \n",
       "\n",
       "       gross margin percentage  gross income      Rating  \n",
       "count              1000.000000   1000.000000  1000.00000  \n",
       "mean                  4.761905     15.379369     6.97270  \n",
       "std                   0.000000     11.708825     1.71858  \n",
       "min                   4.761905      0.508500     4.00000  \n",
       "25%                   4.761905      5.924875     5.50000  \n",
       "50%                   4.761905     12.088000     7.00000  \n",
       "75%                   4.761905     22.445250     8.50000  \n",
       "max                   4.761905     49.650000    10.00000  "
      ]
     },
     "execution_count": 4,
     "metadata": {},
     "output_type": "execute_result"
    }
   ],
   "source": [
    "df.describe()"
   ]
  },
  {
   "cell_type": "code",
   "execution_count": 5,
   "id": "b9136c2f",
   "metadata": {
    "execution": {
     "iopub.execute_input": "2022-11-14T16:23:55.942483Z",
     "iopub.status.busy": "2022-11-14T16:23:55.941466Z",
     "iopub.status.idle": "2022-11-14T16:23:55.951747Z",
     "shell.execute_reply": "2022-11-14T16:23:55.950194Z"
    },
    "papermill": {
     "duration": 0.042804,
     "end_time": "2022-11-14T16:23:55.955386",
     "exception": false,
     "start_time": "2022-11-14T16:23:55.912582",
     "status": "completed"
    },
    "tags": []
   },
   "outputs": [
    {
     "data": {
      "text/plain": [
       "1000"
      ]
     },
     "execution_count": 5,
     "metadata": {},
     "output_type": "execute_result"
    }
   ],
   "source": [
    "row=len(df.axes[0])\n",
    "row\n"
   ]
  },
  {
   "cell_type": "code",
   "execution_count": 6,
   "id": "622cbf9b",
   "metadata": {
    "execution": {
     "iopub.execute_input": "2022-11-14T16:23:55.999189Z",
     "iopub.status.busy": "2022-11-14T16:23:55.998156Z",
     "iopub.status.idle": "2022-11-14T16:23:56.007535Z",
     "shell.execute_reply": "2022-11-14T16:23:56.006090Z"
    },
    "papermill": {
     "duration": 0.031604,
     "end_time": "2022-11-14T16:23:56.011099",
     "exception": false,
     "start_time": "2022-11-14T16:23:55.979495",
     "status": "completed"
    },
    "tags": []
   },
   "outputs": [
    {
     "data": {
      "text/plain": [
       "17"
      ]
     },
     "execution_count": 6,
     "metadata": {},
     "output_type": "execute_result"
    }
   ],
   "source": [
    "column=len(df.axes[1])\n",
    "column"
   ]
  },
  {
   "cell_type": "code",
   "execution_count": 7,
   "id": "c96fdc96",
   "metadata": {
    "execution": {
     "iopub.execute_input": "2022-11-14T16:23:56.050728Z",
     "iopub.status.busy": "2022-11-14T16:23:56.049451Z",
     "iopub.status.idle": "2022-11-14T16:23:56.059310Z",
     "shell.execute_reply": "2022-11-14T16:23:56.058308Z"
    },
    "papermill": {
     "duration": 0.031182,
     "end_time": "2022-11-14T16:23:56.061875",
     "exception": false,
     "start_time": "2022-11-14T16:23:56.030693",
     "status": "completed"
    },
    "tags": []
   },
   "outputs": [
    {
     "data": {
      "text/plain": [
       "Invoice ID                 0\n",
       "Branch                     0\n",
       "City                       0\n",
       "Customer type              0\n",
       "Gender                     0\n",
       "Product line               0\n",
       "Unit price                 0\n",
       "Quantity                   0\n",
       "Tax 5%                     0\n",
       "Total                      0\n",
       "Date                       0\n",
       "Time                       0\n",
       "Payment                    0\n",
       "cogs                       0\n",
       "gross margin percentage    0\n",
       "gross income               0\n",
       "Rating                     0\n",
       "dtype: int64"
      ]
     },
     "execution_count": 7,
     "metadata": {},
     "output_type": "execute_result"
    }
   ],
   "source": [
    "df.isnull().sum()"
   ]
  },
  {
   "cell_type": "markdown",
   "id": "4fdd6a85",
   "metadata": {
    "papermill": {
     "duration": 0.016521,
     "end_time": "2022-11-14T16:23:56.095890",
     "exception": false,
     "start_time": "2022-11-14T16:23:56.079369",
     "status": "completed"
    },
    "tags": []
   },
   "source": [
    "**There are no null values in the dataset.**"
   ]
  },
  {
   "cell_type": "code",
   "execution_count": 8,
   "id": "bd29a1f0",
   "metadata": {
    "execution": {
     "iopub.execute_input": "2022-11-14T16:23:56.132964Z",
     "iopub.status.busy": "2022-11-14T16:23:56.132477Z",
     "iopub.status.idle": "2022-11-14T16:23:56.163472Z",
     "shell.execute_reply": "2022-11-14T16:23:56.162166Z"
    },
    "papermill": {
     "duration": 0.052712,
     "end_time": "2022-11-14T16:23:56.166122",
     "exception": false,
     "start_time": "2022-11-14T16:23:56.113410",
     "status": "completed"
    },
    "tags": []
   },
   "outputs": [
    {
     "data": {
      "text/html": [
       "<div>\n",
       "<style scoped>\n",
       "    .dataframe tbody tr th:only-of-type {\n",
       "        vertical-align: middle;\n",
       "    }\n",
       "\n",
       "    .dataframe tbody tr th {\n",
       "        vertical-align: top;\n",
       "    }\n",
       "\n",
       "    .dataframe thead th {\n",
       "        text-align: right;\n",
       "    }\n",
       "</style>\n",
       "<table border=\"1\" class=\"dataframe\">\n",
       "  <thead>\n",
       "    <tr style=\"text-align: right;\">\n",
       "      <th></th>\n",
       "      <th>Invoice ID</th>\n",
       "      <th>Branch</th>\n",
       "      <th>City</th>\n",
       "      <th>Customer type</th>\n",
       "      <th>Gender</th>\n",
       "      <th>Product line</th>\n",
       "      <th>Unit price</th>\n",
       "      <th>Quantity</th>\n",
       "      <th>Tax 5%</th>\n",
       "      <th>Total</th>\n",
       "      <th>Date</th>\n",
       "      <th>Time</th>\n",
       "      <th>Payment</th>\n",
       "      <th>cogs</th>\n",
       "      <th>gross margin percentage</th>\n",
       "      <th>gross income</th>\n",
       "      <th>Rating</th>\n",
       "    </tr>\n",
       "  </thead>\n",
       "  <tbody>\n",
       "    <tr>\n",
       "      <th>0</th>\n",
       "      <td>750-67-8428</td>\n",
       "      <td>A</td>\n",
       "      <td>Yangon</td>\n",
       "      <td>Member</td>\n",
       "      <td>Female</td>\n",
       "      <td>Health and beauty</td>\n",
       "      <td>74.69</td>\n",
       "      <td>7</td>\n",
       "      <td>26.1415</td>\n",
       "      <td>548.9715</td>\n",
       "      <td>1/5/2019</td>\n",
       "      <td>13:08</td>\n",
       "      <td>Ewallet</td>\n",
       "      <td>522.83</td>\n",
       "      <td>4.761905</td>\n",
       "      <td>26.1415</td>\n",
       "      <td>9.1</td>\n",
       "    </tr>\n",
       "    <tr>\n",
       "      <th>1</th>\n",
       "      <td>226-31-3081</td>\n",
       "      <td>C</td>\n",
       "      <td>Naypyitaw</td>\n",
       "      <td>Normal</td>\n",
       "      <td>Female</td>\n",
       "      <td>Electronic accessories</td>\n",
       "      <td>15.28</td>\n",
       "      <td>5</td>\n",
       "      <td>3.8200</td>\n",
       "      <td>80.2200</td>\n",
       "      <td>3/8/2019</td>\n",
       "      <td>10:29</td>\n",
       "      <td>Cash</td>\n",
       "      <td>76.40</td>\n",
       "      <td>4.761905</td>\n",
       "      <td>3.8200</td>\n",
       "      <td>9.6</td>\n",
       "    </tr>\n",
       "    <tr>\n",
       "      <th>2</th>\n",
       "      <td>631-41-3108</td>\n",
       "      <td>A</td>\n",
       "      <td>Yangon</td>\n",
       "      <td>Normal</td>\n",
       "      <td>Male</td>\n",
       "      <td>Home and lifestyle</td>\n",
       "      <td>46.33</td>\n",
       "      <td>7</td>\n",
       "      <td>16.2155</td>\n",
       "      <td>340.5255</td>\n",
       "      <td>3/3/2019</td>\n",
       "      <td>13:23</td>\n",
       "      <td>Credit card</td>\n",
       "      <td>324.31</td>\n",
       "      <td>4.761905</td>\n",
       "      <td>16.2155</td>\n",
       "      <td>7.4</td>\n",
       "    </tr>\n",
       "    <tr>\n",
       "      <th>3</th>\n",
       "      <td>123-19-1176</td>\n",
       "      <td>A</td>\n",
       "      <td>Yangon</td>\n",
       "      <td>Member</td>\n",
       "      <td>Male</td>\n",
       "      <td>Health and beauty</td>\n",
       "      <td>58.22</td>\n",
       "      <td>8</td>\n",
       "      <td>23.2880</td>\n",
       "      <td>489.0480</td>\n",
       "      <td>1/27/2019</td>\n",
       "      <td>20:33</td>\n",
       "      <td>Ewallet</td>\n",
       "      <td>465.76</td>\n",
       "      <td>4.761905</td>\n",
       "      <td>23.2880</td>\n",
       "      <td>8.4</td>\n",
       "    </tr>\n",
       "    <tr>\n",
       "      <th>4</th>\n",
       "      <td>373-73-7910</td>\n",
       "      <td>A</td>\n",
       "      <td>Yangon</td>\n",
       "      <td>Normal</td>\n",
       "      <td>Male</td>\n",
       "      <td>Sports and travel</td>\n",
       "      <td>86.31</td>\n",
       "      <td>7</td>\n",
       "      <td>30.2085</td>\n",
       "      <td>634.3785</td>\n",
       "      <td>2/8/2019</td>\n",
       "      <td>10:37</td>\n",
       "      <td>Ewallet</td>\n",
       "      <td>604.17</td>\n",
       "      <td>4.761905</td>\n",
       "      <td>30.2085</td>\n",
       "      <td>5.3</td>\n",
       "    </tr>\n",
       "    <tr>\n",
       "      <th>5</th>\n",
       "      <td>699-14-3026</td>\n",
       "      <td>C</td>\n",
       "      <td>Naypyitaw</td>\n",
       "      <td>Normal</td>\n",
       "      <td>Male</td>\n",
       "      <td>Electronic accessories</td>\n",
       "      <td>85.39</td>\n",
       "      <td>7</td>\n",
       "      <td>29.8865</td>\n",
       "      <td>627.6165</td>\n",
       "      <td>3/25/2019</td>\n",
       "      <td>18:30</td>\n",
       "      <td>Ewallet</td>\n",
       "      <td>597.73</td>\n",
       "      <td>4.761905</td>\n",
       "      <td>29.8865</td>\n",
       "      <td>4.1</td>\n",
       "    </tr>\n",
       "    <tr>\n",
       "      <th>6</th>\n",
       "      <td>355-53-5943</td>\n",
       "      <td>A</td>\n",
       "      <td>Yangon</td>\n",
       "      <td>Member</td>\n",
       "      <td>Female</td>\n",
       "      <td>Electronic accessories</td>\n",
       "      <td>68.84</td>\n",
       "      <td>6</td>\n",
       "      <td>20.6520</td>\n",
       "      <td>433.6920</td>\n",
       "      <td>2/25/2019</td>\n",
       "      <td>14:36</td>\n",
       "      <td>Ewallet</td>\n",
       "      <td>413.04</td>\n",
       "      <td>4.761905</td>\n",
       "      <td>20.6520</td>\n",
       "      <td>5.8</td>\n",
       "    </tr>\n",
       "    <tr>\n",
       "      <th>7</th>\n",
       "      <td>315-22-5665</td>\n",
       "      <td>C</td>\n",
       "      <td>Naypyitaw</td>\n",
       "      <td>Normal</td>\n",
       "      <td>Female</td>\n",
       "      <td>Home and lifestyle</td>\n",
       "      <td>73.56</td>\n",
       "      <td>10</td>\n",
       "      <td>36.7800</td>\n",
       "      <td>772.3800</td>\n",
       "      <td>2/24/2019</td>\n",
       "      <td>11:38</td>\n",
       "      <td>Ewallet</td>\n",
       "      <td>735.60</td>\n",
       "      <td>4.761905</td>\n",
       "      <td>36.7800</td>\n",
       "      <td>8.0</td>\n",
       "    </tr>\n",
       "    <tr>\n",
       "      <th>8</th>\n",
       "      <td>665-32-9167</td>\n",
       "      <td>A</td>\n",
       "      <td>Yangon</td>\n",
       "      <td>Member</td>\n",
       "      <td>Female</td>\n",
       "      <td>Health and beauty</td>\n",
       "      <td>36.26</td>\n",
       "      <td>2</td>\n",
       "      <td>3.6260</td>\n",
       "      <td>76.1460</td>\n",
       "      <td>1/10/2019</td>\n",
       "      <td>17:15</td>\n",
       "      <td>Credit card</td>\n",
       "      <td>72.52</td>\n",
       "      <td>4.761905</td>\n",
       "      <td>3.6260</td>\n",
       "      <td>7.2</td>\n",
       "    </tr>\n",
       "    <tr>\n",
       "      <th>9</th>\n",
       "      <td>692-92-5582</td>\n",
       "      <td>B</td>\n",
       "      <td>Mandalay</td>\n",
       "      <td>Member</td>\n",
       "      <td>Female</td>\n",
       "      <td>Food and beverages</td>\n",
       "      <td>54.84</td>\n",
       "      <td>3</td>\n",
       "      <td>8.2260</td>\n",
       "      <td>172.7460</td>\n",
       "      <td>2/20/2019</td>\n",
       "      <td>13:27</td>\n",
       "      <td>Credit card</td>\n",
       "      <td>164.52</td>\n",
       "      <td>4.761905</td>\n",
       "      <td>8.2260</td>\n",
       "      <td>5.9</td>\n",
       "    </tr>\n",
       "    <tr>\n",
       "      <th>10</th>\n",
       "      <td>351-62-0822</td>\n",
       "      <td>B</td>\n",
       "      <td>Mandalay</td>\n",
       "      <td>Member</td>\n",
       "      <td>Female</td>\n",
       "      <td>Fashion accessories</td>\n",
       "      <td>14.48</td>\n",
       "      <td>4</td>\n",
       "      <td>2.8960</td>\n",
       "      <td>60.8160</td>\n",
       "      <td>2/6/2019</td>\n",
       "      <td>18:07</td>\n",
       "      <td>Ewallet</td>\n",
       "      <td>57.92</td>\n",
       "      <td>4.761905</td>\n",
       "      <td>2.8960</td>\n",
       "      <td>4.5</td>\n",
       "    </tr>\n",
       "    <tr>\n",
       "      <th>11</th>\n",
       "      <td>529-56-3974</td>\n",
       "      <td>B</td>\n",
       "      <td>Mandalay</td>\n",
       "      <td>Member</td>\n",
       "      <td>Male</td>\n",
       "      <td>Electronic accessories</td>\n",
       "      <td>25.51</td>\n",
       "      <td>4</td>\n",
       "      <td>5.1020</td>\n",
       "      <td>107.1420</td>\n",
       "      <td>3/9/2019</td>\n",
       "      <td>17:03</td>\n",
       "      <td>Cash</td>\n",
       "      <td>102.04</td>\n",
       "      <td>4.761905</td>\n",
       "      <td>5.1020</td>\n",
       "      <td>6.8</td>\n",
       "    </tr>\n",
       "    <tr>\n",
       "      <th>12</th>\n",
       "      <td>365-64-0515</td>\n",
       "      <td>A</td>\n",
       "      <td>Yangon</td>\n",
       "      <td>Normal</td>\n",
       "      <td>Female</td>\n",
       "      <td>Electronic accessories</td>\n",
       "      <td>46.95</td>\n",
       "      <td>5</td>\n",
       "      <td>11.7375</td>\n",
       "      <td>246.4875</td>\n",
       "      <td>2/12/2019</td>\n",
       "      <td>10:25</td>\n",
       "      <td>Ewallet</td>\n",
       "      <td>234.75</td>\n",
       "      <td>4.761905</td>\n",
       "      <td>11.7375</td>\n",
       "      <td>7.1</td>\n",
       "    </tr>\n",
       "    <tr>\n",
       "      <th>13</th>\n",
       "      <td>252-56-2699</td>\n",
       "      <td>A</td>\n",
       "      <td>Yangon</td>\n",
       "      <td>Normal</td>\n",
       "      <td>Male</td>\n",
       "      <td>Food and beverages</td>\n",
       "      <td>43.19</td>\n",
       "      <td>10</td>\n",
       "      <td>21.5950</td>\n",
       "      <td>453.4950</td>\n",
       "      <td>2/7/2019</td>\n",
       "      <td>16:48</td>\n",
       "      <td>Ewallet</td>\n",
       "      <td>431.90</td>\n",
       "      <td>4.761905</td>\n",
       "      <td>21.5950</td>\n",
       "      <td>8.2</td>\n",
       "    </tr>\n",
       "    <tr>\n",
       "      <th>14</th>\n",
       "      <td>829-34-3910</td>\n",
       "      <td>A</td>\n",
       "      <td>Yangon</td>\n",
       "      <td>Normal</td>\n",
       "      <td>Female</td>\n",
       "      <td>Health and beauty</td>\n",
       "      <td>71.38</td>\n",
       "      <td>10</td>\n",
       "      <td>35.6900</td>\n",
       "      <td>749.4900</td>\n",
       "      <td>3/29/2019</td>\n",
       "      <td>19:21</td>\n",
       "      <td>Cash</td>\n",
       "      <td>713.80</td>\n",
       "      <td>4.761905</td>\n",
       "      <td>35.6900</td>\n",
       "      <td>5.7</td>\n",
       "    </tr>\n",
       "  </tbody>\n",
       "</table>\n",
       "</div>"
      ],
      "text/plain": [
       "     Invoice ID Branch       City Customer type  Gender  \\\n",
       "0   750-67-8428      A     Yangon        Member  Female   \n",
       "1   226-31-3081      C  Naypyitaw        Normal  Female   \n",
       "2   631-41-3108      A     Yangon        Normal    Male   \n",
       "3   123-19-1176      A     Yangon        Member    Male   \n",
       "4   373-73-7910      A     Yangon        Normal    Male   \n",
       "5   699-14-3026      C  Naypyitaw        Normal    Male   \n",
       "6   355-53-5943      A     Yangon        Member  Female   \n",
       "7   315-22-5665      C  Naypyitaw        Normal  Female   \n",
       "8   665-32-9167      A     Yangon        Member  Female   \n",
       "9   692-92-5582      B   Mandalay        Member  Female   \n",
       "10  351-62-0822      B   Mandalay        Member  Female   \n",
       "11  529-56-3974      B   Mandalay        Member    Male   \n",
       "12  365-64-0515      A     Yangon        Normal  Female   \n",
       "13  252-56-2699      A     Yangon        Normal    Male   \n",
       "14  829-34-3910      A     Yangon        Normal  Female   \n",
       "\n",
       "              Product line  Unit price  Quantity   Tax 5%     Total  \\\n",
       "0        Health and beauty       74.69         7  26.1415  548.9715   \n",
       "1   Electronic accessories       15.28         5   3.8200   80.2200   \n",
       "2       Home and lifestyle       46.33         7  16.2155  340.5255   \n",
       "3        Health and beauty       58.22         8  23.2880  489.0480   \n",
       "4        Sports and travel       86.31         7  30.2085  634.3785   \n",
       "5   Electronic accessories       85.39         7  29.8865  627.6165   \n",
       "6   Electronic accessories       68.84         6  20.6520  433.6920   \n",
       "7       Home and lifestyle       73.56        10  36.7800  772.3800   \n",
       "8        Health and beauty       36.26         2   3.6260   76.1460   \n",
       "9       Food and beverages       54.84         3   8.2260  172.7460   \n",
       "10     Fashion accessories       14.48         4   2.8960   60.8160   \n",
       "11  Electronic accessories       25.51         4   5.1020  107.1420   \n",
       "12  Electronic accessories       46.95         5  11.7375  246.4875   \n",
       "13      Food and beverages       43.19        10  21.5950  453.4950   \n",
       "14       Health and beauty       71.38        10  35.6900  749.4900   \n",
       "\n",
       "         Date   Time      Payment    cogs  gross margin percentage  \\\n",
       "0    1/5/2019  13:08      Ewallet  522.83                 4.761905   \n",
       "1    3/8/2019  10:29         Cash   76.40                 4.761905   \n",
       "2    3/3/2019  13:23  Credit card  324.31                 4.761905   \n",
       "3   1/27/2019  20:33      Ewallet  465.76                 4.761905   \n",
       "4    2/8/2019  10:37      Ewallet  604.17                 4.761905   \n",
       "5   3/25/2019  18:30      Ewallet  597.73                 4.761905   \n",
       "6   2/25/2019  14:36      Ewallet  413.04                 4.761905   \n",
       "7   2/24/2019  11:38      Ewallet  735.60                 4.761905   \n",
       "8   1/10/2019  17:15  Credit card   72.52                 4.761905   \n",
       "9   2/20/2019  13:27  Credit card  164.52                 4.761905   \n",
       "10   2/6/2019  18:07      Ewallet   57.92                 4.761905   \n",
       "11   3/9/2019  17:03         Cash  102.04                 4.761905   \n",
       "12  2/12/2019  10:25      Ewallet  234.75                 4.761905   \n",
       "13   2/7/2019  16:48      Ewallet  431.90                 4.761905   \n",
       "14  3/29/2019  19:21         Cash  713.80                 4.761905   \n",
       "\n",
       "    gross income  Rating  \n",
       "0        26.1415     9.1  \n",
       "1         3.8200     9.6  \n",
       "2        16.2155     7.4  \n",
       "3        23.2880     8.4  \n",
       "4        30.2085     5.3  \n",
       "5        29.8865     4.1  \n",
       "6        20.6520     5.8  \n",
       "7        36.7800     8.0  \n",
       "8         3.6260     7.2  \n",
       "9         8.2260     5.9  \n",
       "10        2.8960     4.5  \n",
       "11        5.1020     6.8  \n",
       "12       11.7375     7.1  \n",
       "13       21.5950     8.2  \n",
       "14       35.6900     5.7  "
      ]
     },
     "execution_count": 8,
     "metadata": {},
     "output_type": "execute_result"
    }
   ],
   "source": [
    "df.head(15)"
   ]
  },
  {
   "cell_type": "code",
   "execution_count": 9,
   "id": "54f26cf1",
   "metadata": {
    "execution": {
     "iopub.execute_input": "2022-11-14T16:23:56.205967Z",
     "iopub.status.busy": "2022-11-14T16:23:56.204779Z",
     "iopub.status.idle": "2022-11-14T16:23:56.427678Z",
     "shell.execute_reply": "2022-11-14T16:23:56.426693Z"
    },
    "papermill": {
     "duration": 0.24484,
     "end_time": "2022-11-14T16:23:56.430399",
     "exception": false,
     "start_time": "2022-11-14T16:23:56.185559",
     "status": "completed"
    },
    "tags": []
   },
   "outputs": [
    {
     "data": {
      "text/plain": [
       "<AxesSubplot:ylabel='Total'>"
      ]
     },
     "execution_count": 9,
     "metadata": {},
     "output_type": "execute_result"
    },
    {
     "data": {
      "image/png": "[encoded data removed]",
      "text/plain": [
       "<Figure size 288x576 with 1 Axes>"
      ]
     },
     "metadata": {
      "needs_background": "light"
     },
     "output_type": "display_data"
    }
   ],
   "source": [
    "plt.figure(figsize = (4,8))\n",
    "sns.boxplot(y = df.Total)"
   ]
  },
  {
   "cell_type": "code",
   "execution_count": 10,
   "id": "fe1334bf",
   "metadata": {
    "execution": {
     "iopub.execute_input": "2022-11-14T16:23:56.470001Z",
     "iopub.status.busy": "2022-11-14T16:23:56.468839Z",
     "iopub.status.idle": "2022-11-14T16:23:56.661007Z",
     "shell.execute_reply": "2022-11-14T16:23:56.659718Z"
    },
    "papermill": {
     "duration": 0.214531,
     "end_time": "2022-11-14T16:23:56.663707",
     "exception": false,
     "start_time": "2022-11-14T16:23:56.449176",
     "status": "completed"
    },
    "tags": []
   },
   "outputs": [
    {
     "data": {
      "text/plain": [
       "<AxesSubplot:ylabel='cogs'>"
      ]
     },
     "execution_count": 10,
     "metadata": {},
     "output_type": "execute_result"
    },
    {
     "data": {
      "image/png": "[encoded data removed]",
      "text/plain": [
       "<Figure size 288x720 with 1 Axes>"
      ]
     },
     "metadata": {
      "needs_background": "light"
     },
     "output_type": "display_data"
    }
   ],
   "source": [
    "plt.figure(figsize = (4,10))\n",
    "sns.boxplot(y = df.cogs)"
   ]
  },
  {
   "cell_type": "code",
   "execution_count": 11,
   "id": "f14cdbbc",
   "metadata": {
    "execution": {
     "iopub.execute_input": "2022-11-14T16:23:56.701975Z",
     "iopub.status.busy": "2022-11-14T16:23:56.701543Z",
     "iopub.status.idle": "2022-11-14T16:23:56.708526Z",
     "shell.execute_reply": "2022-11-14T16:23:56.707145Z"
    },
    "papermill": {
     "duration": 0.028981,
     "end_time": "2022-11-14T16:23:56.711148",
     "exception": false,
     "start_time": "2022-11-14T16:23:56.682167",
     "status": "completed"
    },
    "tags": []
   },
   "outputs": [],
   "source": [
    "def find_outliers_IQR(df):\n",
    "\n",
    "   q1=df.quantile(0.25)\n",
    "\n",
    "   q3=df.quantile(0.75)\n",
    "\n",
    "   IQR=q3-q1\n",
    "\n",
    "   outliers = df[((df<(q1-1.5*IQR)) | (df>(q3+1.5*IQR)))]\n",
    "\n",
    "   return outliers"
   ]
  },
  {
   "cell_type": "code",
   "execution_count": 12,
   "id": "58413726",
   "metadata": {
    "execution": {
     "iopub.execute_input": "2022-11-14T16:23:56.751208Z",
     "iopub.status.busy": "2022-11-14T16:23:56.750775Z",
     "iopub.status.idle": "2022-11-14T16:23:56.760960Z",
     "shell.execute_reply": "2022-11-14T16:23:56.759784Z"
    },
    "papermill": {
     "duration": 0.033216,
     "end_time": "2022-11-14T16:23:56.763495",
     "exception": false,
     "start_time": "2022-11-14T16:23:56.730279",
     "status": "completed"
    },
    "tags": []
   },
   "outputs": [
    {
     "name": "stdout",
     "output_type": "stream",
     "text": [
      "number of outliers: 9\n"
     ]
    }
   ],
   "source": [
    "outliers = find_outliers_IQR(df[\"Total\"])\n",
    "\n",
    "print(\"number of outliers: \"+ str(len(outliers)))"
   ]
  },
  {
   "cell_type": "code",
   "execution_count": 13,
   "id": "d7f51269",
   "metadata": {
    "execution": {
     "iopub.execute_input": "2022-11-14T16:23:56.803946Z",
     "iopub.status.busy": "2022-11-14T16:23:56.802811Z",
     "iopub.status.idle": "2022-11-14T16:23:56.813249Z",
     "shell.execute_reply": "2022-11-14T16:23:56.812048Z"
    },
    "papermill": {
     "duration": 0.033037,
     "end_time": "2022-11-14T16:23:56.816399",
     "exception": false,
     "start_time": "2022-11-14T16:23:56.783362",
     "status": "completed"
    },
    "tags": []
   },
   "outputs": [
    {
     "name": "stdout",
     "output_type": "stream",
     "text": [
      "number of outliers: 9\n"
     ]
    }
   ],
   "source": [
    "outliers = find_outliers_IQR(df[\"cogs\"])\n",
    "\n",
    "print(\"number of outliers: \"+ str(len(outliers)))"
   ]
  },
  {
   "cell_type": "markdown",
   "id": "7cf6b261",
   "metadata": {
    "papermill": {
     "duration": 0.017477,
     "end_time": "2022-11-14T16:23:56.852946",
     "exception": false,
     "start_time": "2022-11-14T16:23:56.835469",
     "status": "completed"
    },
    "tags": []
   },
   "source": [
    "**Inconsistent ,Incorrect data**"
   ]
  },
  {
   "cell_type": "code",
   "execution_count": 14,
   "id": "f3cde646",
   "metadata": {
    "execution": {
     "iopub.execute_input": "2022-11-14T16:23:56.891757Z",
     "iopub.status.busy": "2022-11-14T16:23:56.890836Z",
     "iopub.status.idle": "2022-11-14T16:23:56.902597Z",
     "shell.execute_reply": "2022-11-14T16:23:56.901359Z"
    },
    "papermill": {
     "duration": 0.034098,
     "end_time": "2022-11-14T16:23:56.905151",
     "exception": false,
     "start_time": "2022-11-14T16:23:56.871053",
     "status": "completed"
    },
    "tags": []
   },
   "outputs": [
    {
     "data": {
      "text/plain": [
       "0      False\n",
       "1       True\n",
       "2       True\n",
       "3       True\n",
       "4       True\n",
       "       ...  \n",
       "995     True\n",
       "996     True\n",
       "997     True\n",
       "998     True\n",
       "999     True\n",
       "Name: gross margin percentage, Length: 1000, dtype: bool"
      ]
     },
     "execution_count": 14,
     "metadata": {},
     "output_type": "execute_result"
    }
   ],
   "source": [
    "df['gross margin percentage'].duplicated()"
   ]
  },
  {
   "cell_type": "code",
   "execution_count": 15,
   "id": "590c6aa5",
   "metadata": {
    "execution": {
     "iopub.execute_input": "2022-11-14T16:23:56.942749Z",
     "iopub.status.busy": "2022-11-14T16:23:56.941975Z",
     "iopub.status.idle": "2022-11-14T16:23:56.950537Z",
     "shell.execute_reply": "2022-11-14T16:23:56.949273Z"
    },
    "papermill": {
     "duration": 0.03015,
     "end_time": "2022-11-14T16:23:56.952932",
     "exception": false,
     "start_time": "2022-11-14T16:23:56.922782",
     "status": "completed"
    },
    "tags": []
   },
   "outputs": [
    {
     "data": {
      "text/plain": [
       "array([4.76190476])"
      ]
     },
     "execution_count": 15,
     "metadata": {},
     "output_type": "execute_result"
    }
   ],
   "source": [
    "df['gross margin percentage'].unique()"
   ]
  },
  {
   "cell_type": "code",
   "execution_count": 16,
   "id": "9c03934e",
   "metadata": {
    "execution": {
     "iopub.execute_input": "2022-11-14T16:23:56.991381Z",
     "iopub.status.busy": "2022-11-14T16:23:56.990919Z",
     "iopub.status.idle": "2022-11-14T16:23:56.997757Z",
     "shell.execute_reply": "2022-11-14T16:23:56.996521Z"
    },
    "papermill": {
     "duration": 0.02919,
     "end_time": "2022-11-14T16:23:57.000204",
     "exception": false,
     "start_time": "2022-11-14T16:23:56.971014",
     "status": "completed"
    },
    "tags": []
   },
   "outputs": [],
   "source": [
    "df = df.drop(['Invoice ID', 'Date'], axis = 1)"
   ]
  },
  {
   "cell_type": "code",
   "execution_count": 17,
   "id": "33ad676d",
   "metadata": {
    "execution": {
     "iopub.execute_input": "2022-11-14T16:23:57.037536Z",
     "iopub.status.busy": "2022-11-14T16:23:57.037085Z",
     "iopub.status.idle": "2022-11-14T16:23:57.043772Z",
     "shell.execute_reply": "2022-11-14T16:23:57.042815Z"
    },
    "papermill": {
     "duration": 0.027982,
     "end_time": "2022-11-14T16:23:57.045950",
     "exception": false,
     "start_time": "2022-11-14T16:23:57.017968",
     "status": "completed"
    },
    "tags": []
   },
   "outputs": [],
   "source": [
    "df = df.drop(['gross margin percentage'], axis = 1)"
   ]
  },
  {
   "cell_type": "code",
   "execution_count": 18,
   "id": "1027557e",
   "metadata": {
    "execution": {
     "iopub.execute_input": "2022-11-14T16:23:57.084127Z",
     "iopub.status.busy": "2022-11-14T16:23:57.083668Z",
     "iopub.status.idle": "2022-11-14T16:23:57.114768Z",
     "shell.execute_reply": "2022-11-14T16:23:57.113635Z"
    },
    "papermill": {
     "duration": 0.052946,
     "end_time": "2022-11-14T16:23:57.116961",
     "exception": false,
     "start_time": "2022-11-14T16:23:57.064015",
     "status": "completed"
    },
    "tags": []
   },
   "outputs": [
    {
     "data": {
      "text/html": [
       "<div>\n",
       "<style scoped>\n",
       "    .dataframe tbody tr th:only-of-type {\n",
       "        vertical-align: middle;\n",
       "    }\n",
       "\n",
       "    .dataframe tbody tr th {\n",
       "        vertical-align: top;\n",
       "    }\n",
       "\n",
       "    .dataframe thead th {\n",
       "        text-align: right;\n",
       "    }\n",
       "</style>\n",
       "<table border=\"1\" class=\"dataframe\">\n",
       "  <thead>\n",
       "    <tr style=\"text-align: right;\">\n",
       "      <th></th>\n",
       "      <th>Branch</th>\n",
       "      <th>City</th>\n",
       "      <th>Customer type</th>\n",
       "      <th>Gender</th>\n",
       "      <th>Product line</th>\n",
       "      <th>Unit price</th>\n",
       "      <th>Quantity</th>\n",
       "      <th>Tax 5%</th>\n",
       "      <th>Total</th>\n",
       "      <th>Time</th>\n",
       "      <th>Payment</th>\n",
       "      <th>cogs</th>\n",
       "      <th>gross income</th>\n",
       "      <th>Rating</th>\n",
       "    </tr>\n",
       "  </thead>\n",
       "  <tbody>\n",
       "    <tr>\n",
       "      <th>0</th>\n",
       "      <td>A</td>\n",
       "      <td>Yangon</td>\n",
       "      <td>Member</td>\n",
       "      <td>Female</td>\n",
       "      <td>Health and beauty</td>\n",
       "      <td>74.69</td>\n",
       "      <td>7</td>\n",
       "      <td>26.1415</td>\n",
       "      <td>548.9715</td>\n",
       "      <td>13:08</td>\n",
       "      <td>Ewallet</td>\n",
       "      <td>522.83</td>\n",
       "      <td>26.1415</td>\n",
       "      <td>9.1</td>\n",
       "    </tr>\n",
       "    <tr>\n",
       "      <th>1</th>\n",
       "      <td>C</td>\n",
       "      <td>Naypyitaw</td>\n",
       "      <td>Normal</td>\n",
       "      <td>Female</td>\n",
       "      <td>Electronic accessories</td>\n",
       "      <td>15.28</td>\n",
       "      <td>5</td>\n",
       "      <td>3.8200</td>\n",
       "      <td>80.2200</td>\n",
       "      <td>10:29</td>\n",
       "      <td>Cash</td>\n",
       "      <td>76.40</td>\n",
       "      <td>3.8200</td>\n",
       "      <td>9.6</td>\n",
       "    </tr>\n",
       "    <tr>\n",
       "      <th>2</th>\n",
       "      <td>A</td>\n",
       "      <td>Yangon</td>\n",
       "      <td>Normal</td>\n",
       "      <td>Male</td>\n",
       "      <td>Home and lifestyle</td>\n",
       "      <td>46.33</td>\n",
       "      <td>7</td>\n",
       "      <td>16.2155</td>\n",
       "      <td>340.5255</td>\n",
       "      <td>13:23</td>\n",
       "      <td>Credit card</td>\n",
       "      <td>324.31</td>\n",
       "      <td>16.2155</td>\n",
       "      <td>7.4</td>\n",
       "    </tr>\n",
       "    <tr>\n",
       "      <th>3</th>\n",
       "      <td>A</td>\n",
       "      <td>Yangon</td>\n",
       "      <td>Member</td>\n",
       "      <td>Male</td>\n",
       "      <td>Health and beauty</td>\n",
       "      <td>58.22</td>\n",
       "      <td>8</td>\n",
       "      <td>23.2880</td>\n",
       "      <td>489.0480</td>\n",
       "      <td>20:33</td>\n",
       "      <td>Ewallet</td>\n",
       "      <td>465.76</td>\n",
       "      <td>23.2880</td>\n",
       "      <td>8.4</td>\n",
       "    </tr>\n",
       "    <tr>\n",
       "      <th>4</th>\n",
       "      <td>A</td>\n",
       "      <td>Yangon</td>\n",
       "      <td>Normal</td>\n",
       "      <td>Male</td>\n",
       "      <td>Sports and travel</td>\n",
       "      <td>86.31</td>\n",
       "      <td>7</td>\n",
       "      <td>30.2085</td>\n",
       "      <td>634.3785</td>\n",
       "      <td>10:37</td>\n",
       "      <td>Ewallet</td>\n",
       "      <td>604.17</td>\n",
       "      <td>30.2085</td>\n",
       "      <td>5.3</td>\n",
       "    </tr>\n",
       "    <tr>\n",
       "      <th>...</th>\n",
       "      <td>...</td>\n",
       "      <td>...</td>\n",
       "      <td>...</td>\n",
       "      <td>...</td>\n",
       "      <td>...</td>\n",
       "      <td>...</td>\n",
       "      <td>...</td>\n",
       "      <td>...</td>\n",
       "      <td>...</td>\n",
       "      <td>...</td>\n",
       "      <td>...</td>\n",
       "      <td>...</td>\n",
       "      <td>...</td>\n",
       "      <td>...</td>\n",
       "    </tr>\n",
       "    <tr>\n",
       "      <th>995</th>\n",
       "      <td>C</td>\n",
       "      <td>Naypyitaw</td>\n",
       "      <td>Normal</td>\n",
       "      <td>Male</td>\n",
       "      <td>Health and beauty</td>\n",
       "      <td>40.35</td>\n",
       "      <td>1</td>\n",
       "      <td>2.0175</td>\n",
       "      <td>42.3675</td>\n",
       "      <td>13:46</td>\n",
       "      <td>Ewallet</td>\n",
       "      <td>40.35</td>\n",
       "      <td>2.0175</td>\n",
       "      <td>6.2</td>\n",
       "    </tr>\n",
       "    <tr>\n",
       "      <th>996</th>\n",
       "      <td>B</td>\n",
       "      <td>Mandalay</td>\n",
       "      <td>Normal</td>\n",
       "      <td>Female</td>\n",
       "      <td>Home and lifestyle</td>\n",
       "      <td>97.38</td>\n",
       "      <td>10</td>\n",
       "      <td>48.6900</td>\n",
       "      <td>1022.4900</td>\n",
       "      <td>17:16</td>\n",
       "      <td>Ewallet</td>\n",
       "      <td>973.80</td>\n",
       "      <td>48.6900</td>\n",
       "      <td>4.4</td>\n",
       "    </tr>\n",
       "    <tr>\n",
       "      <th>997</th>\n",
       "      <td>A</td>\n",
       "      <td>Yangon</td>\n",
       "      <td>Member</td>\n",
       "      <td>Male</td>\n",
       "      <td>Food and beverages</td>\n",
       "      <td>31.84</td>\n",
       "      <td>1</td>\n",
       "      <td>1.5920</td>\n",
       "      <td>33.4320</td>\n",
       "      <td>13:22</td>\n",
       "      <td>Cash</td>\n",
       "      <td>31.84</td>\n",
       "      <td>1.5920</td>\n",
       "      <td>7.7</td>\n",
       "    </tr>\n",
       "    <tr>\n",
       "      <th>998</th>\n",
       "      <td>A</td>\n",
       "      <td>Yangon</td>\n",
       "      <td>Normal</td>\n",
       "      <td>Male</td>\n",
       "      <td>Home and lifestyle</td>\n",
       "      <td>65.82</td>\n",
       "      <td>1</td>\n",
       "      <td>3.2910</td>\n",
       "      <td>69.1110</td>\n",
       "      <td>15:33</td>\n",
       "      <td>Cash</td>\n",
       "      <td>65.82</td>\n",
       "      <td>3.2910</td>\n",
       "      <td>4.1</td>\n",
       "    </tr>\n",
       "    <tr>\n",
       "      <th>999</th>\n",
       "      <td>A</td>\n",
       "      <td>Yangon</td>\n",
       "      <td>Member</td>\n",
       "      <td>Female</td>\n",
       "      <td>Fashion accessories</td>\n",
       "      <td>88.34</td>\n",
       "      <td>7</td>\n",
       "      <td>30.9190</td>\n",
       "      <td>649.2990</td>\n",
       "      <td>13:28</td>\n",
       "      <td>Cash</td>\n",
       "      <td>618.38</td>\n",
       "      <td>30.9190</td>\n",
       "      <td>6.6</td>\n",
       "    </tr>\n",
       "  </tbody>\n",
       "</table>\n",
       "<p>1000 rows × 14 columns</p>\n",
       "</div>"
      ],
      "text/plain": [
       "    Branch       City Customer type  Gender            Product line  \\\n",
       "0        A     Yangon        Member  Female       Health and beauty   \n",
       "1        C  Naypyitaw        Normal  Female  Electronic accessories   \n",
       "2        A     Yangon        Normal    Male      Home and lifestyle   \n",
       "3        A     Yangon        Member    Male       Health and beauty   \n",
       "4        A     Yangon        Normal    Male       Sports and travel   \n",
       "..     ...        ...           ...     ...                     ...   \n",
       "995      C  Naypyitaw        Normal    Male       Health and beauty   \n",
       "996      B   Mandalay        Normal  Female      Home and lifestyle   \n",
       "997      A     Yangon        Member    Male      Food and beverages   \n",
       "998      A     Yangon        Normal    Male      Home and lifestyle   \n",
       "999      A     Yangon        Member  Female     Fashion accessories   \n",
       "\n",
       "     Unit price  Quantity   Tax 5%      Total   Time      Payment    cogs  \\\n",
       "0         74.69         7  26.1415   548.9715  13:08      Ewallet  522.83   \n",
       "1         15.28         5   3.8200    80.2200  10:29         Cash   76.40   \n",
       "2         46.33         7  16.2155   340.5255  13:23  Credit card  324.31   \n",
       "3         58.22         8  23.2880   489.0480  20:33      Ewallet  465.76   \n",
       "4         86.31         7  30.2085   634.3785  10:37      Ewallet  604.17   \n",
       "..          ...       ...      ...        ...    ...          ...     ...   \n",
       "995       40.35         1   2.0175    42.3675  13:46      Ewallet   40.35   \n",
       "996       97.38        10  48.6900  1022.4900  17:16      Ewallet  973.80   \n",
       "997       31.84         1   1.5920    33.4320  13:22         Cash   31.84   \n",
       "998       65.82         1   3.2910    69.1110  15:33         Cash   65.82   \n",
       "999       88.34         7  30.9190   649.2990  13:28         Cash  618.38   \n",
       "\n",
       "     gross income  Rating  \n",
       "0         26.1415     9.1  \n",
       "1          3.8200     9.6  \n",
       "2         16.2155     7.4  \n",
       "3         23.2880     8.4  \n",
       "4         30.2085     5.3  \n",
       "..            ...     ...  \n",
       "995        2.0175     6.2  \n",
       "996       48.6900     4.4  \n",
       "997        1.5920     7.7  \n",
       "998        3.2910     4.1  \n",
       "999       30.9190     6.6  \n",
       "\n",
       "[1000 rows x 14 columns]"
      ]
     },
     "execution_count": 18,
     "metadata": {},
     "output_type": "execute_result"
    }
   ],
   "source": [
    "df"
   ]
  },
  {
   "cell_type": "code",
   "execution_count": 19,
   "id": "e9fd9522",
   "metadata": {
    "execution": {
     "iopub.execute_input": "2022-11-14T16:23:57.156973Z",
     "iopub.status.busy": "2022-11-14T16:23:57.156568Z",
     "iopub.status.idle": "2022-11-14T16:23:57.209183Z",
     "shell.execute_reply": "2022-11-14T16:23:57.208004Z"
    },
    "papermill": {
     "duration": 0.075784,
     "end_time": "2022-11-14T16:23:57.212024",
     "exception": false,
     "start_time": "2022-11-14T16:23:57.136240",
     "status": "completed"
    },
    "tags": []
   },
   "outputs": [],
   "source": [
    "df['Time'] = pd.to_datetime(df['Time'])"
   ]
  },
  {
   "cell_type": "code",
   "execution_count": 20,
   "id": "0ea32c0d",
   "metadata": {
    "execution": {
     "iopub.execute_input": "2022-11-14T16:23:57.252052Z",
     "iopub.status.busy": "2022-11-14T16:23:57.250651Z",
     "iopub.status.idle": "2022-11-14T16:23:57.258112Z",
     "shell.execute_reply": "2022-11-14T16:23:57.257186Z"
    },
    "papermill": {
     "duration": 0.029558,
     "end_time": "2022-11-14T16:23:57.260751",
     "exception": false,
     "start_time": "2022-11-14T16:23:57.231193",
     "status": "completed"
    },
    "tags": []
   },
   "outputs": [],
   "source": [
    "df['Hour'] = (df['Time']).dt.hour    #type(sales['Time'])"
   ]
  },
  {
   "cell_type": "code",
   "execution_count": 21,
   "id": "5750dcb7",
   "metadata": {
    "execution": {
     "iopub.execute_input": "2022-11-14T16:23:57.299703Z",
     "iopub.status.busy": "2022-11-14T16:23:57.298882Z",
     "iopub.status.idle": "2022-11-14T16:23:57.309292Z",
     "shell.execute_reply": "2022-11-14T16:23:57.307836Z"
    },
    "papermill": {
     "duration": 0.032954,
     "end_time": "2022-11-14T16:23:57.311796",
     "exception": false,
     "start_time": "2022-11-14T16:23:57.278842",
     "status": "completed"
    },
    "tags": []
   },
   "outputs": [
    {
     "data": {
      "text/plain": [
       "11"
      ]
     },
     "execution_count": 21,
     "metadata": {},
     "output_type": "execute_result"
    }
   ],
   "source": [
    "df['Hour'].nunique()  #gives us the number of unique hours "
   ]
  },
  {
   "cell_type": "markdown",
   "id": "bfd8813e",
   "metadata": {
    "papermill": {
     "duration": 0.018393,
     "end_time": "2022-11-14T16:23:57.349772",
     "exception": false,
     "start_time": "2022-11-14T16:23:57.331379",
     "status": "completed"
    },
    "tags": []
   },
   "source": [
    "**Correlation between columns**"
   ]
  },
  {
   "cell_type": "code",
   "execution_count": 22,
   "id": "78471905",
   "metadata": {
    "execution": {
     "iopub.execute_input": "2022-11-14T16:23:57.390657Z",
     "iopub.status.busy": "2022-11-14T16:23:57.389591Z",
     "iopub.status.idle": "2022-11-14T16:23:57.411738Z",
     "shell.execute_reply": "2022-11-14T16:23:57.410128Z"
    },
    "papermill": {
     "duration": 0.044632,
     "end_time": "2022-11-14T16:23:57.414547",
     "exception": false,
     "start_time": "2022-11-14T16:23:57.369915",
     "status": "completed"
    },
    "tags": []
   },
   "outputs": [
    {
     "data": {
      "text/html": [
       "<div>\n",
       "<style scoped>\n",
       "    .dataframe tbody tr th:only-of-type {\n",
       "        vertical-align: middle;\n",
       "    }\n",
       "\n",
       "    .dataframe tbody tr th {\n",
       "        vertical-align: top;\n",
       "    }\n",
       "\n",
       "    .dataframe thead th {\n",
       "        text-align: right;\n",
       "    }\n",
       "</style>\n",
       "<table border=\"1\" class=\"dataframe\">\n",
       "  <thead>\n",
       "    <tr style=\"text-align: right;\">\n",
       "      <th></th>\n",
       "      <th>Unit price</th>\n",
       "      <th>Quantity</th>\n",
       "      <th>Tax 5%</th>\n",
       "      <th>Total</th>\n",
       "      <th>cogs</th>\n",
       "      <th>gross income</th>\n",
       "      <th>Rating</th>\n",
       "      <th>Hour</th>\n",
       "    </tr>\n",
       "  </thead>\n",
       "  <tbody>\n",
       "    <tr>\n",
       "      <th>Unit price</th>\n",
       "      <td>1.000000</td>\n",
       "      <td>0.010778</td>\n",
       "      <td>0.633962</td>\n",
       "      <td>0.633962</td>\n",
       "      <td>0.633962</td>\n",
       "      <td>0.633962</td>\n",
       "      <td>-0.008778</td>\n",
       "      <td>0.008242</td>\n",
       "    </tr>\n",
       "    <tr>\n",
       "      <th>Quantity</th>\n",
       "      <td>0.010778</td>\n",
       "      <td>1.000000</td>\n",
       "      <td>0.705510</td>\n",
       "      <td>0.705510</td>\n",
       "      <td>0.705510</td>\n",
       "      <td>0.705510</td>\n",
       "      <td>-0.015815</td>\n",
       "      <td>-0.007317</td>\n",
       "    </tr>\n",
       "    <tr>\n",
       "      <th>Tax 5%</th>\n",
       "      <td>0.633962</td>\n",
       "      <td>0.705510</td>\n",
       "      <td>1.000000</td>\n",
       "      <td>1.000000</td>\n",
       "      <td>1.000000</td>\n",
       "      <td>1.000000</td>\n",
       "      <td>-0.036442</td>\n",
       "      <td>-0.002770</td>\n",
       "    </tr>\n",
       "    <tr>\n",
       "      <th>Total</th>\n",
       "      <td>0.633962</td>\n",
       "      <td>0.705510</td>\n",
       "      <td>1.000000</td>\n",
       "      <td>1.000000</td>\n",
       "      <td>1.000000</td>\n",
       "      <td>1.000000</td>\n",
       "      <td>-0.036442</td>\n",
       "      <td>-0.002770</td>\n",
       "    </tr>\n",
       "    <tr>\n",
       "      <th>cogs</th>\n",
       "      <td>0.633962</td>\n",
       "      <td>0.705510</td>\n",
       "      <td>1.000000</td>\n",
       "      <td>1.000000</td>\n",
       "      <td>1.000000</td>\n",
       "      <td>1.000000</td>\n",
       "      <td>-0.036442</td>\n",
       "      <td>-0.002770</td>\n",
       "    </tr>\n",
       "    <tr>\n",
       "      <th>gross income</th>\n",
       "      <td>0.633962</td>\n",
       "      <td>0.705510</td>\n",
       "      <td>1.000000</td>\n",
       "      <td>1.000000</td>\n",
       "      <td>1.000000</td>\n",
       "      <td>1.000000</td>\n",
       "      <td>-0.036442</td>\n",
       "      <td>-0.002770</td>\n",
       "    </tr>\n",
       "    <tr>\n",
       "      <th>Rating</th>\n",
       "      <td>-0.008778</td>\n",
       "      <td>-0.015815</td>\n",
       "      <td>-0.036442</td>\n",
       "      <td>-0.036442</td>\n",
       "      <td>-0.036442</td>\n",
       "      <td>-0.036442</td>\n",
       "      <td>1.000000</td>\n",
       "      <td>-0.030588</td>\n",
       "    </tr>\n",
       "    <tr>\n",
       "      <th>Hour</th>\n",
       "      <td>0.008242</td>\n",
       "      <td>-0.007317</td>\n",
       "      <td>-0.002770</td>\n",
       "      <td>-0.002770</td>\n",
       "      <td>-0.002770</td>\n",
       "      <td>-0.002770</td>\n",
       "      <td>-0.030588</td>\n",
       "      <td>1.000000</td>\n",
       "    </tr>\n",
       "  </tbody>\n",
       "</table>\n",
       "</div>"
      ],
      "text/plain": [
       "              Unit price  Quantity    Tax 5%     Total      cogs  \\\n",
       "Unit price      1.000000  0.010778  0.633962  0.633962  0.633962   \n",
       "Quantity        0.010778  1.000000  0.705510  0.705510  0.705510   \n",
       "Tax 5%          0.633962  0.705510  1.000000  1.000000  1.000000   \n",
       "Total           0.633962  0.705510  1.000000  1.000000  1.000000   \n",
       "cogs            0.633962  0.705510  1.000000  1.000000  1.000000   \n",
       "gross income    0.633962  0.705510  1.000000  1.000000  1.000000   \n",
       "Rating         -0.008778 -0.015815 -0.036442 -0.036442 -0.036442   \n",
       "Hour            0.008242 -0.007317 -0.002770 -0.002770 -0.002770   \n",
       "\n",
       "              gross income    Rating      Hour  \n",
       "Unit price        0.633962 -0.008778  0.008242  \n",
       "Quantity          0.705510 -0.015815 -0.007317  \n",
       "Tax 5%            1.000000 -0.036442 -0.002770  \n",
       "Total             1.000000 -0.036442 -0.002770  \n",
       "cogs              1.000000 -0.036442 -0.002770  \n",
       "gross income      1.000000 -0.036442 -0.002770  \n",
       "Rating           -0.036442  1.000000 -0.030588  \n",
       "Hour             -0.002770 -0.030588  1.000000  "
      ]
     },
     "execution_count": 22,
     "metadata": {},
     "output_type": "execute_result"
    }
   ],
   "source": [
    "df.corr(method ='pearson')"
   ]
  },
  {
   "cell_type": "markdown",
   "id": "c1e43781",
   "metadata": {
    "papermill": {
     "duration": 0.019835,
     "end_time": "2022-11-14T16:23:57.454160",
     "exception": false,
     "start_time": "2022-11-14T16:23:57.434325",
     "status": "completed"
    },
    "tags": []
   },
   "source": [
    "**Plotting heatmap to check if any correlation between columns**"
   ]
  },
  {
   "cell_type": "code",
   "execution_count": 23,
   "id": "6a4846d4",
   "metadata": {
    "execution": {
     "iopub.execute_input": "2022-11-14T16:23:57.498286Z",
     "iopub.status.busy": "2022-11-14T16:23:57.497253Z",
     "iopub.status.idle": "2022-11-14T16:23:58.176057Z",
     "shell.execute_reply": "2022-11-14T16:23:58.174423Z"
    },
    "papermill": {
     "duration": 0.701869,
     "end_time": "2022-11-14T16:23:58.178800",
     "exception": false,
     "start_time": "2022-11-14T16:23:57.476931",
     "status": "completed"
    },
    "tags": []
   },
   "outputs": [
    {
     "data": {
      "text/plain": [
       "<AxesSubplot:>"
      ]
     },
     "execution_count": 23,
     "metadata": {},
     "output_type": "execute_result"
    },
    {
     "data": {
      "image/png": "[encoded data removed]",
      "text/plain": [
       "<Figure size 432x288 with 2 Axes>"
      ]
     },
     "metadata": {
      "needs_background": "light"
     },
     "output_type": "display_data"
    }
   ],
   "source": [
    "sns.heatmap(df.corr(), annot=True)"
   ]
  },
  {
   "cell_type": "markdown",
   "id": "eb2c2729",
   "metadata": {
    "papermill": {
     "duration": 0.020096,
     "end_time": "2022-11-14T16:23:58.220153",
     "exception": false,
     "start_time": "2022-11-14T16:23:58.200057",
     "status": "completed"
    },
    "tags": []
   },
   "source": [
    "**Data Visualisation**\n"
   ]
  },
  {
   "cell_type": "code",
   "execution_count": 24,
   "id": "18ae79d5",
   "metadata": {
    "execution": {
     "iopub.execute_input": "2022-11-14T16:23:58.262190Z",
     "iopub.status.busy": "2022-11-14T16:23:58.261734Z",
     "iopub.status.idle": "2022-11-14T16:23:58.522749Z",
     "shell.execute_reply": "2022-11-14T16:23:58.521423Z"
    },
    "papermill": {
     "duration": 0.285136,
     "end_time": "2022-11-14T16:23:58.525809",
     "exception": false,
     "start_time": "2022-11-14T16:23:58.240673",
     "status": "completed"
    },
    "tags": []
   },
   "outputs": [
    {
     "data": {
      "text/plain": [
       "array([[<AxesSubplot:title={'center':'cogs'}>]], dtype=object)"
      ]
     },
     "execution_count": 24,
     "metadata": {},
     "output_type": "execute_result"
    },
    {
     "data": {
      "image/png": "[encoded data removed]",
      "text/plain": [
       "<Figure size 432x288 with 1 Axes>"
      ]
     },
     "metadata": {
      "needs_background": "light"
     },
     "output_type": "display_data"
    }
   ],
   "source": [
    "df.hist(column = \"cogs\")"
   ]
  },
  {
   "cell_type": "markdown",
   "id": "f3cead1f",
   "metadata": {
    "papermill": {
     "duration": 0.020754,
     "end_time": "2022-11-14T16:23:58.567947",
     "exception": false,
     "start_time": "2022-11-14T16:23:58.547193",
     "status": "completed"
    },
    "tags": []
   },
   "source": [
    "# Uni-variate analysis"
   ]
  },
  {
   "cell_type": "code",
   "execution_count": 25,
   "id": "9a5cea86",
   "metadata": {
    "execution": {
     "iopub.execute_input": "2022-11-14T16:23:58.611870Z",
     "iopub.status.busy": "2022-11-14T16:23:58.611429Z",
     "iopub.status.idle": "2022-11-14T16:23:58.961708Z",
     "shell.execute_reply": "2022-11-14T16:23:58.960472Z"
    },
    "papermill": {
     "duration": 0.374992,
     "end_time": "2022-11-14T16:23:58.964576",
     "exception": false,
     "start_time": "2022-11-14T16:23:58.589584",
     "status": "completed"
    },
    "tags": []
   },
   "outputs": [
    {
     "name": "stderr",
     "output_type": "stream",
     "text": [
      "/opt/conda/lib/python3.7/site-packages/seaborn/distributions.py:2619: FutureWarning: `distplot` is a deprecated function and will be removed in a future version. Please adapt your code to use either `displot` (a figure-level function with similar flexibility) or `histplot` (an axes-level function for histograms).\n",
      "  warnings.warn(msg, FutureWarning)\n"
     ]
    },
    {
     "data": {
      "text/plain": [
       "<matplotlib.legend.Legend at 0x7fa86284fb50>"
      ]
     },
     "execution_count": 25,
     "metadata": {},
     "output_type": "execute_result"
    },
    {
     "data": {
      "image/png": "[encoded data removed]",
      "text/plain": [
       "<Figure size 432x288 with 1 Axes>"
      ]
     },
     "metadata": {
      "needs_background": "light"
     },
     "output_type": "display_data"
    }
   ],
   "source": [
    "sns.distplot(df['Rating'])\n",
    "plt.axvline(x=np.mean(df['Rating']), c='red', ls='--', label='mean')\n",
    "plt.axvline(x=np.percentile(df['Rating'],25),c='green', ls='--', label = '25th percentile:Q1')\n",
    "plt.axvline(x=np.percentile(df['Rating'],75),c='orange', ls='--',label = '75th percentile:Q3' )\n",
    "plt.legend()"
   ]
  },
  {
   "cell_type": "markdown",
   "id": "86ea031f",
   "metadata": {
    "papermill": {
     "duration": 0.021237,
     "end_time": "2022-11-14T16:23:59.008517",
     "exception": false,
     "start_time": "2022-11-14T16:23:58.987280",
     "status": "completed"
    },
    "tags": []
   },
   "source": [
    "The rating distribution looks uniform and there seems to be no skewness on the left or right side of the distribution. The red dotted line is the mean and the green and orange lines indicate the 25th and 75th percentiles respectively.The mean rating is ~7 across products."
   ]
  },
  {
   "cell_type": "markdown",
   "id": "e1e36dc9",
   "metadata": {
    "papermill": {
     "duration": 0.019715,
     "end_time": "2022-11-14T16:23:59.049212",
     "exception": false,
     "start_time": "2022-11-14T16:23:59.029497",
     "status": "completed"
    },
    "tags": []
   },
   "source": [
    "# Below graph shows count of females and males is almost same"
   ]
  },
  {
   "cell_type": "code",
   "execution_count": 26,
   "id": "180cf82b",
   "metadata": {
    "execution": {
     "iopub.execute_input": "2022-11-14T16:23:59.091414Z",
     "iopub.status.busy": "2022-11-14T16:23:59.090591Z",
     "iopub.status.idle": "2022-11-14T16:23:59.102162Z",
     "shell.execute_reply": "2022-11-14T16:23:59.100436Z"
    },
    "papermill": {
     "duration": 0.035897,
     "end_time": "2022-11-14T16:23:59.105036",
     "exception": false,
     "start_time": "2022-11-14T16:23:59.069139",
     "status": "completed"
    },
    "tags": []
   },
   "outputs": [
    {
     "name": "stdout",
     "output_type": "stream",
     "text": [
      "(1000, 15)\n"
     ]
    },
    {
     "data": {
      "text/plain": [
       "Female    501\n",
       "Male      499\n",
       "Name: Gender, dtype: int64"
      ]
     },
     "execution_count": 26,
     "metadata": {},
     "output_type": "execute_result"
    }
   ],
   "source": [
    "print(df.shape)\n",
    "df['Gender'].value_counts()"
   ]
  },
  {
   "cell_type": "code",
   "execution_count": 27,
   "id": "249b611d",
   "metadata": {
    "execution": {
     "iopub.execute_input": "2022-11-14T16:23:59.152509Z",
     "iopub.status.busy": "2022-11-14T16:23:59.151461Z",
     "iopub.status.idle": "2022-11-14T16:23:59.349580Z",
     "shell.execute_reply": "2022-11-14T16:23:59.348154Z"
    },
    "papermill": {
     "duration": 0.22423,
     "end_time": "2022-11-14T16:23:59.352772",
     "exception": false,
     "start_time": "2022-11-14T16:23:59.128542",
     "status": "completed"
    },
    "tags": []
   },
   "outputs": [
    {
     "name": "stderr",
     "output_type": "stream",
     "text": [
      "/opt/conda/lib/python3.7/site-packages/seaborn/_decorators.py:43: FutureWarning: Pass the following variable as a keyword arg: x. From version 0.12, the only valid positional argument will be `data`, and passing other arguments without an explicit keyword will result in an error or misinterpretation.\n",
      "  FutureWarning\n"
     ]
    },
    {
     "data": {
      "text/plain": [
       "<AxesSubplot:xlabel='Gender', ylabel='count'>"
      ]
     },
     "execution_count": 27,
     "metadata": {},
     "output_type": "execute_result"
    },
    {
     "data": {
      "image/png": "[encoded data removed]",
      "text/plain": [
       "<Figure size 432x288 with 1 Axes>"
      ]
     },
     "metadata": {
      "needs_background": "light"
     },
     "output_type": "display_data"
    }
   ],
   "source": [
    "sns.countplot('Gender' , data = df)"
   ]
  },
  {
   "cell_type": "markdown",
   "id": "8439703a",
   "metadata": {
    "papermill": {
     "duration": 0.022728,
     "end_time": "2022-11-14T16:23:59.399017",
     "exception": false,
     "start_time": "2022-11-14T16:23:59.376289",
     "status": "completed"
    },
    "tags": []
   },
   "source": [
    "**Creating dummies for Gender column for getting numeric data for seaborn bar plot**"
   ]
  },
  {
   "cell_type": "code",
   "execution_count": 28,
   "id": "367f6ac5",
   "metadata": {
    "execution": {
     "iopub.execute_input": "2022-11-14T16:23:59.449509Z",
     "iopub.status.busy": "2022-11-14T16:23:59.448727Z",
     "iopub.status.idle": "2022-11-14T16:23:59.462405Z",
     "shell.execute_reply": "2022-11-14T16:23:59.461004Z"
    },
    "papermill": {
     "duration": 0.042418,
     "end_time": "2022-11-14T16:23:59.465246",
     "exception": false,
     "start_time": "2022-11-14T16:23:59.422828",
     "status": "completed"
    },
    "tags": []
   },
   "outputs": [
    {
     "data": {
      "text/html": [
       "<div>\n",
       "<style scoped>\n",
       "    .dataframe tbody tr th:only-of-type {\n",
       "        vertical-align: middle;\n",
       "    }\n",
       "\n",
       "    .dataframe tbody tr th {\n",
       "        vertical-align: top;\n",
       "    }\n",
       "\n",
       "    .dataframe thead th {\n",
       "        text-align: right;\n",
       "    }\n",
       "</style>\n",
       "<table border=\"1\" class=\"dataframe\">\n",
       "  <thead>\n",
       "    <tr style=\"text-align: right;\">\n",
       "      <th></th>\n",
       "      <th>Female</th>\n",
       "      <th>Male</th>\n",
       "    </tr>\n",
       "  </thead>\n",
       "  <tbody>\n",
       "    <tr>\n",
       "      <th>0</th>\n",
       "      <td>1</td>\n",
       "      <td>0</td>\n",
       "    </tr>\n",
       "    <tr>\n",
       "      <th>1</th>\n",
       "      <td>1</td>\n",
       "      <td>0</td>\n",
       "    </tr>\n",
       "    <tr>\n",
       "      <th>2</th>\n",
       "      <td>0</td>\n",
       "      <td>1</td>\n",
       "    </tr>\n",
       "    <tr>\n",
       "      <th>3</th>\n",
       "      <td>0</td>\n",
       "      <td>1</td>\n",
       "    </tr>\n",
       "    <tr>\n",
       "      <th>4</th>\n",
       "      <td>0</td>\n",
       "      <td>1</td>\n",
       "    </tr>\n",
       "  </tbody>\n",
       "</table>\n",
       "</div>"
      ],
      "text/plain": [
       "   Female  Male\n",
       "0       1     0\n",
       "1       1     0\n",
       "2       0     1\n",
       "3       0     1\n",
       "4       0     1"
      ]
     },
     "execution_count": 28,
     "metadata": {},
     "output_type": "execute_result"
    }
   ],
   "source": [
    "gender_dummies  = pd.get_dummies(df['Gender'])\n",
    "gender_dummies.head()"
   ]
  },
  {
   "cell_type": "markdown",
   "id": "e21637e3",
   "metadata": {
    "papermill": {
     "duration": 0.022688,
     "end_time": "2022-11-14T16:23:59.511337",
     "exception": false,
     "start_time": "2022-11-14T16:23:59.488649",
     "status": "completed"
    },
    "tags": []
   },
   "source": [
    "**Joining original data frame (df) with gender dummies data frame (gender_dummies)**"
   ]
  },
  {
   "cell_type": "code",
   "execution_count": 29,
   "id": "361869e2",
   "metadata": {
    "execution": {
     "iopub.execute_input": "2022-11-14T16:23:59.558226Z",
     "iopub.status.busy": "2022-11-14T16:23:59.557798Z",
     "iopub.status.idle": "2022-11-14T16:23:59.585626Z",
     "shell.execute_reply": "2022-11-14T16:23:59.584239Z"
    },
    "papermill": {
     "duration": 0.054375,
     "end_time": "2022-11-14T16:23:59.588693",
     "exception": false,
     "start_time": "2022-11-14T16:23:59.534318",
     "status": "completed"
    },
    "tags": []
   },
   "outputs": [
    {
     "data": {
      "text/html": [
       "<div>\n",
       "<style scoped>\n",
       "    .dataframe tbody tr th:only-of-type {\n",
       "        vertical-align: middle;\n",
       "    }\n",
       "\n",
       "    .dataframe tbody tr th {\n",
       "        vertical-align: top;\n",
       "    }\n",
       "\n",
       "    .dataframe thead th {\n",
       "        text-align: right;\n",
       "    }\n",
       "</style>\n",
       "<table border=\"1\" class=\"dataframe\">\n",
       "  <thead>\n",
       "    <tr style=\"text-align: right;\">\n",
       "      <th></th>\n",
       "      <th>Branch</th>\n",
       "      <th>City</th>\n",
       "      <th>Customer type</th>\n",
       "      <th>Gender</th>\n",
       "      <th>Product line</th>\n",
       "      <th>Unit price</th>\n",
       "      <th>Quantity</th>\n",
       "      <th>Tax 5%</th>\n",
       "      <th>Total</th>\n",
       "      <th>Time</th>\n",
       "      <th>Payment</th>\n",
       "      <th>cogs</th>\n",
       "      <th>gross income</th>\n",
       "      <th>Rating</th>\n",
       "      <th>Hour</th>\n",
       "      <th>Female</th>\n",
       "      <th>Male</th>\n",
       "    </tr>\n",
       "  </thead>\n",
       "  <tbody>\n",
       "    <tr>\n",
       "      <th>0</th>\n",
       "      <td>A</td>\n",
       "      <td>Yangon</td>\n",
       "      <td>Member</td>\n",
       "      <td>Female</td>\n",
       "      <td>Health and beauty</td>\n",
       "      <td>74.69</td>\n",
       "      <td>7</td>\n",
       "      <td>26.1415</td>\n",
       "      <td>548.9715</td>\n",
       "      <td>2022-11-14 13:08:00</td>\n",
       "      <td>Ewallet</td>\n",
       "      <td>522.83</td>\n",
       "      <td>26.1415</td>\n",
       "      <td>9.1</td>\n",
       "      <td>13</td>\n",
       "      <td>1</td>\n",
       "      <td>0</td>\n",
       "    </tr>\n",
       "    <tr>\n",
       "      <th>1</th>\n",
       "      <td>C</td>\n",
       "      <td>Naypyitaw</td>\n",
       "      <td>Normal</td>\n",
       "      <td>Female</td>\n",
       "      <td>Electronic accessories</td>\n",
       "      <td>15.28</td>\n",
       "      <td>5</td>\n",
       "      <td>3.8200</td>\n",
       "      <td>80.2200</td>\n",
       "      <td>2022-11-14 10:29:00</td>\n",
       "      <td>Cash</td>\n",
       "      <td>76.40</td>\n",
       "      <td>3.8200</td>\n",
       "      <td>9.6</td>\n",
       "      <td>10</td>\n",
       "      <td>1</td>\n",
       "      <td>0</td>\n",
       "    </tr>\n",
       "    <tr>\n",
       "      <th>2</th>\n",
       "      <td>A</td>\n",
       "      <td>Yangon</td>\n",
       "      <td>Normal</td>\n",
       "      <td>Male</td>\n",
       "      <td>Home and lifestyle</td>\n",
       "      <td>46.33</td>\n",
       "      <td>7</td>\n",
       "      <td>16.2155</td>\n",
       "      <td>340.5255</td>\n",
       "      <td>2022-11-14 13:23:00</td>\n",
       "      <td>Credit card</td>\n",
       "      <td>324.31</td>\n",
       "      <td>16.2155</td>\n",
       "      <td>7.4</td>\n",
       "      <td>13</td>\n",
       "      <td>0</td>\n",
       "      <td>1</td>\n",
       "    </tr>\n",
       "    <tr>\n",
       "      <th>3</th>\n",
       "      <td>A</td>\n",
       "      <td>Yangon</td>\n",
       "      <td>Member</td>\n",
       "      <td>Male</td>\n",
       "      <td>Health and beauty</td>\n",
       "      <td>58.22</td>\n",
       "      <td>8</td>\n",
       "      <td>23.2880</td>\n",
       "      <td>489.0480</td>\n",
       "      <td>2022-11-14 20:33:00</td>\n",
       "      <td>Ewallet</td>\n",
       "      <td>465.76</td>\n",
       "      <td>23.2880</td>\n",
       "      <td>8.4</td>\n",
       "      <td>20</td>\n",
       "      <td>0</td>\n",
       "      <td>1</td>\n",
       "    </tr>\n",
       "    <tr>\n",
       "      <th>4</th>\n",
       "      <td>A</td>\n",
       "      <td>Yangon</td>\n",
       "      <td>Normal</td>\n",
       "      <td>Male</td>\n",
       "      <td>Sports and travel</td>\n",
       "      <td>86.31</td>\n",
       "      <td>7</td>\n",
       "      <td>30.2085</td>\n",
       "      <td>634.3785</td>\n",
       "      <td>2022-11-14 10:37:00</td>\n",
       "      <td>Ewallet</td>\n",
       "      <td>604.17</td>\n",
       "      <td>30.2085</td>\n",
       "      <td>5.3</td>\n",
       "      <td>10</td>\n",
       "      <td>0</td>\n",
       "      <td>1</td>\n",
       "    </tr>\n",
       "  </tbody>\n",
       "</table>\n",
       "</div>"
      ],
      "text/plain": [
       "  Branch       City Customer type  Gender            Product line  Unit price  \\\n",
       "0      A     Yangon        Member  Female       Health and beauty       74.69   \n",
       "1      C  Naypyitaw        Normal  Female  Electronic accessories       15.28   \n",
       "2      A     Yangon        Normal    Male      Home and lifestyle       46.33   \n",
       "3      A     Yangon        Member    Male       Health and beauty       58.22   \n",
       "4      A     Yangon        Normal    Male       Sports and travel       86.31   \n",
       "\n",
       "   Quantity   Tax 5%     Total                Time      Payment    cogs  \\\n",
       "0         7  26.1415  548.9715 2022-11-14 13:08:00      Ewallet  522.83   \n",
       "1         5   3.8200   80.2200 2022-11-14 10:29:00         Cash   76.40   \n",
       "2         7  16.2155  340.5255 2022-11-14 13:23:00  Credit card  324.31   \n",
       "3         8  23.2880  489.0480 2022-11-14 20:33:00      Ewallet  465.76   \n",
       "4         7  30.2085  634.3785 2022-11-14 10:37:00      Ewallet  604.17   \n",
       "\n",
       "   gross income  Rating  Hour  Female  Male  \n",
       "0       26.1415     9.1    13       1     0  \n",
       "1        3.8200     9.6    10       1     0  \n",
       "2       16.2155     7.4    13       0     1  \n",
       "3       23.2880     8.4    20       0     1  \n",
       "4       30.2085     5.3    10       0     1  "
      ]
     },
     "execution_count": 29,
     "metadata": {},
     "output_type": "execute_result"
    }
   ],
   "source": [
    "df = pd.concat([df, gender_dummies], axis = 1)\n",
    "df.head()"
   ]
  },
  {
   "cell_type": "code",
   "execution_count": 30,
   "id": "792fa55c",
   "metadata": {
    "execution": {
     "iopub.execute_input": "2022-11-14T16:23:59.641979Z",
     "iopub.status.busy": "2022-11-14T16:23:59.641476Z",
     "iopub.status.idle": "2022-11-14T16:24:00.150854Z",
     "shell.execute_reply": "2022-11-14T16:24:00.149362Z"
    },
    "papermill": {
     "duration": 0.541387,
     "end_time": "2022-11-14T16:24:00.153838",
     "exception": false,
     "start_time": "2022-11-14T16:23:59.612451",
     "status": "completed"
    },
    "tags": []
   },
   "outputs": [
    {
     "data": {
      "image/png": "[encoded data removed]",
      "text/plain": [
       "<Figure size 432x288 with 1 Axes>"
      ]
     },
     "metadata": {
      "needs_background": "light"
     },
     "output_type": "display_data"
    }
   ],
   "source": [
    "genderCount  = sns.lineplot(x=\"Hour\",  y = 'Quantity',data =df).set_title(\"Product Sales per Hour\")"
   ]
  },
  {
   "cell_type": "markdown",
   "id": "af3662f3",
   "metadata": {
    "papermill": {
     "duration": 0.023826,
     "end_time": "2022-11-14T16:24:00.200630",
     "exception": false,
     "start_time": "2022-11-14T16:24:00.176804",
     "status": "completed"
    },
    "tags": []
   },
   "source": [
    "Peak is observed in the 14th hour i.e 2 pm of the day. Hence, sales is typically higher in the afternoons."
   ]
  },
  {
   "cell_type": "markdown",
   "id": "912e21b6",
   "metadata": {
    "papermill": {
     "duration": 0.022646,
     "end_time": "2022-11-14T16:24:00.246317",
     "exception": false,
     "start_time": "2022-11-14T16:24:00.223671",
     "status": "completed"
    },
    "tags": []
   },
   "source": [
    "# Bi-variate Analysis"
   ]
  },
  {
   "cell_type": "code",
   "execution_count": 31,
   "id": "a8b681f1",
   "metadata": {
    "execution": {
     "iopub.execute_input": "2022-11-14T16:24:00.295154Z",
     "iopub.status.busy": "2022-11-14T16:24:00.294661Z",
     "iopub.status.idle": "2022-11-14T16:24:00.571440Z",
     "shell.execute_reply": "2022-11-14T16:24:00.569769Z"
    },
    "papermill": {
     "duration": 0.304359,
     "end_time": "2022-11-14T16:24:00.574534",
     "exception": false,
     "start_time": "2022-11-14T16:24:00.270175",
     "status": "completed"
    },
    "tags": []
   },
   "outputs": [
    {
     "name": "stderr",
     "output_type": "stream",
     "text": [
      "/opt/conda/lib/python3.7/site-packages/seaborn/_decorators.py:43: FutureWarning: Pass the following variables as keyword args: x, y. From version 0.12, the only valid positional argument will be `data`, and passing other arguments without an explicit keyword will result in an error or misinterpretation.\n",
      "  FutureWarning\n"
     ]
    },
    {
     "data": {
      "text/plain": [
       "<AxesSubplot:xlabel='Rating', ylabel='gross income'>"
      ]
     },
     "execution_count": 31,
     "metadata": {},
     "output_type": "execute_result"
    },
    {
     "data": {
      "image/png": "[encoded data removed]",
      "text/plain": [
       "<Figure size 432x288 with 1 Axes>"
      ]
     },
     "metadata": {
      "needs_background": "light"
     },
     "output_type": "display_data"
    }
   ],
   "source": [
    "sns.scatterplot(df['Rating'], df['gross income'])"
   ]
  },
  {
   "cell_type": "markdown",
   "id": "f23874a9",
   "metadata": {
    "papermill": {
     "duration": 0.023453,
     "end_time": "2022-11-14T16:24:00.622258",
     "exception": false,
     "start_time": "2022-11-14T16:24:00.598805",
     "status": "completed"
    },
    "tags": []
   },
   "source": [
    "There is no relationship between gross income of a customer and his rating."
   ]
  },
  {
   "cell_type": "code",
   "execution_count": 32,
   "id": "e15da4d2",
   "metadata": {
    "execution": {
     "iopub.execute_input": "2022-11-14T16:24:00.670591Z",
     "iopub.status.busy": "2022-11-14T16:24:00.670114Z",
     "iopub.status.idle": "2022-11-14T16:24:00.915145Z",
     "shell.execute_reply": "2022-11-14T16:24:00.913338Z"
    },
    "papermill": {
     "duration": 0.274235,
     "end_time": "2022-11-14T16:24:00.919038",
     "exception": false,
     "start_time": "2022-11-14T16:24:00.644803",
     "status": "completed"
    },
    "tags": []
   },
   "outputs": [
    {
     "data": {
      "text/plain": [
       "<AxesSubplot:xlabel='Branch', ylabel='gross income'>"
      ]
     },
     "execution_count": 32,
     "metadata": {},
     "output_type": "execute_result"
    },
    {
     "data": {
      "image/png": "[encoded data removed]",
      "text/plain": [
       "<Figure size 432x288 with 1 Axes>"
      ]
     },
     "metadata": {
      "needs_background": "light"
     },
     "output_type": "display_data"
    }
   ],
   "source": [
    "sns.boxplot(x=df['Branch'], y=df['gross income'])"
   ]
  },
  {
   "cell_type": "markdown",
   "id": "19873cd5",
   "metadata": {
    "papermill": {
     "duration": 0.027562,
     "end_time": "2022-11-14T16:24:00.974697",
     "exception": false,
     "start_time": "2022-11-14T16:24:00.947135",
     "status": "completed"
    },
    "tags": []
   },
   "source": [
    "There is not much difference in gross income by branches at an average level. Branch C has a slightly higher income than A or B. Naypyitaw is the most profitable branch in terms of gross income."
   ]
  },
  {
   "cell_type": "markdown",
   "id": "da6052a7",
   "metadata": {
    "papermill": {
     "duration": 0.02585,
     "end_time": "2022-11-14T16:24:01.025607",
     "exception": false,
     "start_time": "2022-11-14T16:24:00.999757",
     "status": "completed"
    },
    "tags": []
   },
   "source": [
    "# **Product Analysis**"
   ]
  },
  {
   "cell_type": "markdown",
   "id": "248304a6",
   "metadata": {
    "papermill": {
     "duration": 0.026182,
     "end_time": "2022-11-14T16:24:01.078322",
     "exception": false,
     "start_time": "2022-11-14T16:24:01.052140",
     "status": "completed"
    },
    "tags": []
   },
   "source": [
    "Let's look at the various products' performance."
   ]
  },
  {
   "cell_type": "code",
   "execution_count": 33,
   "id": "60992ff5",
   "metadata": {
    "execution": {
     "iopub.execute_input": "2022-11-14T16:24:01.130134Z",
     "iopub.status.busy": "2022-11-14T16:24:01.128811Z",
     "iopub.status.idle": "2022-11-14T16:24:01.417529Z",
     "shell.execute_reply": "2022-11-14T16:24:01.416035Z"
    },
    "papermill": {
     "duration": 0.317106,
     "end_time": "2022-11-14T16:24:01.420427",
     "exception": false,
     "start_time": "2022-11-14T16:24:01.103321",
     "status": "completed"
    },
    "tags": []
   },
   "outputs": [
    {
     "data": {
      "text/plain": [
       "<AxesSubplot:xlabel='Quantity', ylabel='Product line'>"
      ]
     },
     "execution_count": 33,
     "metadata": {},
     "output_type": "execute_result"
    },
    {
     "data": {
      "image/png": "[encoded data removed]",
      "text/plain": [
       "<Figure size 432x288 with 1 Axes>"
      ]
     },
     "metadata": {
      "needs_background": "light"
     },
     "output_type": "display_data"
    }
   ],
   "source": [
    "sns.boxenplot(y = 'Product line', x = 'Quantity', data=df )"
   ]
  },
  {
   "cell_type": "markdown",
   "id": "bbb6b91f",
   "metadata": {
    "papermill": {
     "duration": 0.02358,
     "end_time": "2022-11-14T16:24:01.470407",
     "exception": false,
     "start_time": "2022-11-14T16:24:01.446827",
     "status": "completed"
    },
    "tags": []
   },
   "source": [
    "From the above visual, Health and Beauty,Electronic accessories, Home and lifestyle, Sports and travel have a better average quantity sales"
   ]
  },
  {
   "cell_type": "code",
   "execution_count": 34,
   "id": "1723fff5",
   "metadata": {
    "execution": {
     "iopub.execute_input": "2022-11-14T16:24:01.525327Z",
     "iopub.status.busy": "2022-11-14T16:24:01.524046Z",
     "iopub.status.idle": "2022-11-14T16:24:01.780289Z",
     "shell.execute_reply": "2022-11-14T16:24:01.779134Z"
    },
    "papermill": {
     "duration": 0.287391,
     "end_time": "2022-11-14T16:24:01.783332",
     "exception": false,
     "start_time": "2022-11-14T16:24:01.495941",
     "status": "completed"
    },
    "tags": []
   },
   "outputs": [
    {
     "data": {
      "text/plain": [
       "<AxesSubplot:xlabel='count', ylabel='Product line'>"
      ]
     },
     "execution_count": 34,
     "metadata": {},
     "output_type": "execute_result"
    },
    {
     "data": {
      "image/png": "[encoded data removed]",
      "text/plain": [
       "<Figure size 432x288 with 1 Axes>"
      ]
     },
     "metadata": {
      "needs_background": "light"
     },
     "output_type": "display_data"
    }
   ],
   "source": [
    "sns.countplot(y = 'Product line', data=df, order = df['Product line'].value_counts().index )"
   ]
  },
  {
   "cell_type": "markdown",
   "id": "e44bbf40",
   "metadata": {
    "papermill": {
     "duration": 0.02612,
     "end_time": "2022-11-14T16:24:01.836808",
     "exception": false,
     "start_time": "2022-11-14T16:24:01.810688",
     "status": "completed"
    },
    "tags": []
   },
   "source": [
    "The above image shows the top product line item type sold in the given dataset. Fashion Accessories is the highest while Health and beauty is the lowest"
   ]
  },
  {
   "cell_type": "code",
   "execution_count": 35,
   "id": "a7d05766",
   "metadata": {
    "execution": {
     "iopub.execute_input": "2022-11-14T16:24:01.893246Z",
     "iopub.status.busy": "2022-11-14T16:24:01.892705Z",
     "iopub.status.idle": "2022-11-14T16:24:02.211300Z",
     "shell.execute_reply": "2022-11-14T16:24:02.209889Z"
    },
    "papermill": {
     "duration": 0.351219,
     "end_time": "2022-11-14T16:24:02.214175",
     "exception": false,
     "start_time": "2022-11-14T16:24:01.862956",
     "status": "completed"
    },
    "tags": []
   },
   "outputs": [
    {
     "data": {
      "text/plain": [
       "<AxesSubplot:xlabel='Rating', ylabel='Product line'>"
      ]
     },
     "execution_count": 35,
     "metadata": {},
     "output_type": "execute_result"
    },
    {
     "data": {
      "image/png": "[encoded data removed]",
      "text/plain": [
       "<Figure size 432x288 with 1 Axes>"
      ]
     },
     "metadata": {
      "needs_background": "light"
     },
     "output_type": "display_data"
    }
   ],
   "source": [
    "sns.boxenplot(y = 'Product line', x = 'Rating', data=df )"
   ]
  },
  {
   "cell_type": "markdown",
   "id": "42c44cd4",
   "metadata": {
    "papermill": {
     "duration": 0.027034,
     "end_time": "2022-11-14T16:24:02.266189",
     "exception": false,
     "start_time": "2022-11-14T16:24:02.239155",
     "status": "completed"
    },
    "tags": []
   },
   "source": [
    "Food and Beverages have the highest average rating while sports and travel the lowest."
   ]
  },
  {
   "cell_type": "code",
   "execution_count": 36,
   "id": "f74f87aa",
   "metadata": {
    "execution": {
     "iopub.execute_input": "2022-11-14T16:24:02.319847Z",
     "iopub.status.busy": "2022-11-14T16:24:02.319338Z",
     "iopub.status.idle": "2022-11-14T16:24:02.737002Z",
     "shell.execute_reply": "2022-11-14T16:24:02.735820Z"
    },
    "papermill": {
     "duration": 0.448035,
     "end_time": "2022-11-14T16:24:02.739671",
     "exception": false,
     "start_time": "2022-11-14T16:24:02.291636",
     "status": "completed"
    },
    "tags": []
   },
   "outputs": [
    {
     "data": {
      "text/plain": [
       "<AxesSubplot:xlabel='Product line', ylabel='Female'>"
      ]
     },
     "execution_count": 36,
     "metadata": {},
     "output_type": "execute_result"
    },
    {
     "data": {
      "image/png": "[encoded data removed]",
      "text/plain": [
       "<Figure size 864x432 with 1 Axes>"
      ]
     },
     "metadata": {
      "needs_background": "light"
     },
     "output_type": "display_data"
    }
   ],
   "source": [
    "plt.figure(figsize = (12,6))\n",
    "sns.barplot(x = 'Product line', y = 'Female', data = df)"
   ]
  },
  {
   "cell_type": "markdown",
   "id": "9ecbfb71",
   "metadata": {
    "papermill": {
     "duration": 0.033837,
     "end_time": "2022-11-14T16:24:02.805895",
     "exception": false,
     "start_time": "2022-11-14T16:24:02.772058",
     "status": "completed"
    },
    "tags": []
   },
   "source": [
    "Popularity of different product lines in female category."
   ]
  },
  {
   "cell_type": "code",
   "execution_count": 37,
   "id": "b02d0e5a",
   "metadata": {
    "execution": {
     "iopub.execute_input": "2022-11-14T16:24:02.865613Z",
     "iopub.status.busy": "2022-11-14T16:24:02.865088Z",
     "iopub.status.idle": "2022-11-14T16:24:03.185320Z",
     "shell.execute_reply": "2022-11-14T16:24:03.183679Z"
    },
    "papermill": {
     "duration": 0.35041,
     "end_time": "2022-11-14T16:24:03.188526",
     "exception": false,
     "start_time": "2022-11-14T16:24:02.838116",
     "status": "completed"
    },
    "tags": []
   },
   "outputs": [
    {
     "name": "stderr",
     "output_type": "stream",
     "text": [
      "/opt/conda/lib/python3.7/site-packages/seaborn/_decorators.py:43: FutureWarning: Pass the following variable as a keyword arg: x. From version 0.12, the only valid positional argument will be `data`, and passing other arguments without an explicit keyword will result in an error or misinterpretation.\n",
      "  FutureWarning\n"
     ]
    },
    {
     "data": {
      "text/plain": [
       "<AxesSubplot:title={'center':'Total Monthly transaction by Gender'}, xlabel='Product line', ylabel='count'>"
      ]
     },
     "execution_count": 37,
     "metadata": {},
     "output_type": "execute_result"
    },
    {
     "data": {
      "image/png": "[encoded data removed]",
      "text/plain": [
       "<Figure size 864x432 with 1 Axes>"
      ]
     },
     "metadata": {
      "needs_background": "light"
     },
     "output_type": "display_data"
    }
   ],
   "source": [
    "plt.figure(figsize=(12, 6))\n",
    "plt.title('Total Monthly transaction by Gender')\n",
    "sns.countplot(df['Product line'], hue = df.Gender)"
   ]
  },
  {
   "cell_type": "code",
   "execution_count": 38,
   "id": "d5612156",
   "metadata": {
    "execution": {
     "iopub.execute_input": "2022-11-14T16:24:03.248372Z",
     "iopub.status.busy": "2022-11-14T16:24:03.247618Z",
     "iopub.status.idle": "2022-11-14T16:24:03.666097Z",
     "shell.execute_reply": "2022-11-14T16:24:03.665223Z"
    },
    "papermill": {
     "duration": 0.449245,
     "end_time": "2022-11-14T16:24:03.670119",
     "exception": false,
     "start_time": "2022-11-14T16:24:03.220874",
     "status": "completed"
    },
    "tags": []
   },
   "outputs": [
    {
     "data": {
      "text/plain": [
       "<AxesSubplot:xlabel='Product line', ylabel='gross income'>"
      ]
     },
     "execution_count": 38,
     "metadata": {},
     "output_type": "execute_result"
    },
    {
     "data": {
      "image/png": "[encoded data removed]",
      "text/plain": [
       "<Figure size 936x432 with 1 Axes>"
      ]
     },
     "metadata": {
      "needs_background": "light"
     },
     "output_type": "display_data"
    }
   ],
   "source": [
    "cat=df[[\"Product line\", \"gross income\"]].groupby(['Product line'], as_index=False).sum().sort_values(by='gross income', ascending=False)\n",
    "plt.figure(figsize=(13,6))\n",
    "sns.barplot(x='Product line', y='gross income', data=cat)"
   ]
  },
  {
   "cell_type": "markdown",
   "id": "a850ee89",
   "metadata": {
    "papermill": {
     "duration": 0.027535,
     "end_time": "2022-11-14T16:24:03.727019",
     "exception": false,
     "start_time": "2022-11-14T16:24:03.699484",
     "status": "completed"
    },
    "tags": []
   },
   "source": [
    "Gross income is highest in sports and travel."
   ]
  },
  {
   "cell_type": "markdown",
   "id": "ebfafceb",
   "metadata": {
    "papermill": {
     "duration": 0.026367,
     "end_time": "2022-11-14T16:24:03.779488",
     "exception": false,
     "start_time": "2022-11-14T16:24:03.753121",
     "status": "completed"
    },
    "tags": []
   },
   "source": [
    "# Plotting Customers per city"
   ]
  },
  {
   "cell_type": "code",
   "execution_count": 39,
   "id": "2d99db47",
   "metadata": {
    "execution": {
     "iopub.execute_input": "2022-11-14T16:24:03.842964Z",
     "iopub.status.busy": "2022-11-14T16:24:03.842105Z",
     "iopub.status.idle": "2022-11-14T16:24:03.855829Z",
     "shell.execute_reply": "2022-11-14T16:24:03.853405Z"
    },
    "papermill": {
     "duration": 0.049996,
     "end_time": "2022-11-14T16:24:03.858997",
     "exception": false,
     "start_time": "2022-11-14T16:24:03.809001",
     "status": "completed"
    },
    "tags": []
   },
   "outputs": [
    {
     "data": {
      "text/html": [
       "<div>\n",
       "<style scoped>\n",
       "    .dataframe tbody tr th:only-of-type {\n",
       "        vertical-align: middle;\n",
       "    }\n",
       "\n",
       "    .dataframe tbody tr th {\n",
       "        vertical-align: top;\n",
       "    }\n",
       "\n",
       "    .dataframe thead th {\n",
       "        text-align: right;\n",
       "    }\n",
       "</style>\n",
       "<table border=\"1\" class=\"dataframe\">\n",
       "  <thead>\n",
       "    <tr style=\"text-align: right;\">\n",
       "      <th></th>\n",
       "      <th>City</th>\n",
       "    </tr>\n",
       "  </thead>\n",
       "  <tbody>\n",
       "    <tr>\n",
       "      <th>Yangon</th>\n",
       "      <td>340</td>\n",
       "    </tr>\n",
       "    <tr>\n",
       "      <th>Mandalay</th>\n",
       "      <td>332</td>\n",
       "    </tr>\n",
       "    <tr>\n",
       "      <th>Naypyitaw</th>\n",
       "      <td>328</td>\n",
       "    </tr>\n",
       "  </tbody>\n",
       "</table>\n",
       "</div>"
      ],
      "text/plain": [
       "           City\n",
       "Yangon      340\n",
       "Mandalay    332\n",
       "Naypyitaw   328"
      ]
     },
     "execution_count": 39,
     "metadata": {},
     "output_type": "execute_result"
    }
   ],
   "source": [
    "place_df = pd.DataFrame(df['City'].value_counts())\n",
    "place_df"
   ]
  },
  {
   "cell_type": "code",
   "execution_count": 40,
   "id": "64025afc",
   "metadata": {
    "execution": {
     "iopub.execute_input": "2022-11-14T16:24:03.915795Z",
     "iopub.status.busy": "2022-11-14T16:24:03.915380Z",
     "iopub.status.idle": "2022-11-14T16:24:04.130270Z",
     "shell.execute_reply": "2022-11-14T16:24:04.128977Z"
    },
    "papermill": {
     "duration": 0.245509,
     "end_time": "2022-11-14T16:24:04.133043",
     "exception": false,
     "start_time": "2022-11-14T16:24:03.887534",
     "status": "completed"
    },
    "tags": []
   },
   "outputs": [
    {
     "data": {
      "text/plain": [
       "<AxesSubplot:ylabel='City'>"
      ]
     },
     "execution_count": 40,
     "metadata": {},
     "output_type": "execute_result"
    },
    {
     "data": {
      "image/png": "[encoded data removed]",
      "text/plain": [
       "<Figure size 432x288 with 1 Axes>"
      ]
     },
     "metadata": {
      "needs_background": "light"
     },
     "output_type": "display_data"
    }
   ],
   "source": [
    "sns.barplot(x = place_df.index  , y = place_df['City'], palette = 'hot')"
   ]
  },
  {
   "cell_type": "markdown",
   "id": "158da8b0",
   "metadata": {
    "papermill": {
     "duration": 0.025951,
     "end_time": "2022-11-14T16:24:04.185755",
     "exception": false,
     "start_time": "2022-11-14T16:24:04.159804",
     "status": "completed"
    },
    "tags": []
   },
   "source": [
    "# Plotting different payment methods count"
   ]
  },
  {
   "cell_type": "code",
   "execution_count": 41,
   "id": "6c4d0f4e",
   "metadata": {
    "execution": {
     "iopub.execute_input": "2022-11-14T16:24:04.239314Z",
     "iopub.status.busy": "2022-11-14T16:24:04.238909Z",
     "iopub.status.idle": "2022-11-14T16:24:04.250108Z",
     "shell.execute_reply": "2022-11-14T16:24:04.248936Z"
    },
    "papermill": {
     "duration": 0.041012,
     "end_time": "2022-11-14T16:24:04.252428",
     "exception": false,
     "start_time": "2022-11-14T16:24:04.211416",
     "status": "completed"
    },
    "tags": []
   },
   "outputs": [
    {
     "data": {
      "text/html": [
       "<div>\n",
       "<style scoped>\n",
       "    .dataframe tbody tr th:only-of-type {\n",
       "        vertical-align: middle;\n",
       "    }\n",
       "\n",
       "    .dataframe tbody tr th {\n",
       "        vertical-align: top;\n",
       "    }\n",
       "\n",
       "    .dataframe thead th {\n",
       "        text-align: right;\n",
       "    }\n",
       "</style>\n",
       "<table border=\"1\" class=\"dataframe\">\n",
       "  <thead>\n",
       "    <tr style=\"text-align: right;\">\n",
       "      <th></th>\n",
       "      <th>Payment</th>\n",
       "    </tr>\n",
       "  </thead>\n",
       "  <tbody>\n",
       "    <tr>\n",
       "      <th>Ewallet</th>\n",
       "      <td>345</td>\n",
       "    </tr>\n",
       "    <tr>\n",
       "      <th>Cash</th>\n",
       "      <td>344</td>\n",
       "    </tr>\n",
       "    <tr>\n",
       "      <th>Credit card</th>\n",
       "      <td>311</td>\n",
       "    </tr>\n",
       "  </tbody>\n",
       "</table>\n",
       "</div>"
      ],
      "text/plain": [
       "             Payment\n",
       "Ewallet          345\n",
       "Cash             344\n",
       "Credit card      311"
      ]
     },
     "execution_count": 41,
     "metadata": {},
     "output_type": "execute_result"
    }
   ],
   "source": [
    "payment_df = pd.DataFrame(df['Payment'].value_counts())\n",
    "payment_df"
   ]
  },
  {
   "cell_type": "code",
   "execution_count": 42,
   "id": "fcc20ffa",
   "metadata": {
    "execution": {
     "iopub.execute_input": "2022-11-14T16:24:04.307231Z",
     "iopub.status.busy": "2022-11-14T16:24:04.306753Z",
     "iopub.status.idle": "2022-11-14T16:24:04.534685Z",
     "shell.execute_reply": "2022-11-14T16:24:04.533369Z"
    },
    "papermill": {
     "duration": 0.259003,
     "end_time": "2022-11-14T16:24:04.537928",
     "exception": false,
     "start_time": "2022-11-14T16:24:04.278925",
     "status": "completed"
    },
    "tags": []
   },
   "outputs": [
    {
     "data": {
      "text/plain": [
       "<AxesSubplot:ylabel='Payment'>"
      ]
     },
     "execution_count": 42,
     "metadata": {},
     "output_type": "execute_result"
    },
    {
     "data": {
      "image/png": "[encoded data removed]",
      "text/plain": [
       "<Figure size 432x288 with 1 Axes>"
      ]
     },
     "metadata": {
      "needs_background": "light"
     },
     "output_type": "display_data"
    }
   ],
   "source": [
    "sns.barplot(x =payment_df.index , y = payment_df.Payment)"
   ]
  },
  {
   "cell_type": "markdown",
   "id": "252347df",
   "metadata": {
    "papermill": {
     "duration": 0.028074,
     "end_time": "2022-11-14T16:24:04.595229",
     "exception": false,
     "start_time": "2022-11-14T16:24:04.567155",
     "status": "completed"
    },
    "tags": []
   },
   "source": [
    "# Getting Gross Income Plot for each product line"
   ]
  },
  {
   "cell_type": "code",
   "execution_count": 43,
   "id": "d40c34f3",
   "metadata": {
    "execution": {
     "iopub.execute_input": "2022-11-14T16:24:04.660948Z",
     "iopub.status.busy": "2022-11-14T16:24:04.660370Z",
     "iopub.status.idle": "2022-11-14T16:24:05.096876Z",
     "shell.execute_reply": "2022-11-14T16:24:05.095495Z"
    },
    "papermill": {
     "duration": 0.475038,
     "end_time": "2022-11-14T16:24:05.100033",
     "exception": false,
     "start_time": "2022-11-14T16:24:04.624995",
     "status": "completed"
    },
    "tags": []
   },
   "outputs": [
    {
     "data": {
      "text/plain": [
       "<AxesSubplot:xlabel='Product line', ylabel='gross income'>"
      ]
     },
     "execution_count": 43,
     "metadata": {},
     "output_type": "execute_result"
    },
    {
     "data": {
      "image/png": "[encoded data removed]",
      "text/plain": [
       "<Figure size 828x432 with 1 Axes>"
      ]
     },
     "metadata": {
      "needs_background": "light"
     },
     "output_type": "display_data"
    }
   ],
   "source": [
    "plt.figure(figsize= (11.5,6))\n",
    "sns.barplot(x = df['Product line'], y = df['gross income'])"
   ]
  },
  {
   "cell_type": "markdown",
   "id": "d8022aff",
   "metadata": {
    "papermill": {
     "duration": 0.032354,
     "end_time": "2022-11-14T16:24:05.164891",
     "exception": false,
     "start_time": "2022-11-14T16:24:05.132537",
     "status": "completed"
    },
    "tags": []
   },
   "source": [
    "# Getting Rating Plot for each product line"
   ]
  },
  {
   "cell_type": "code",
   "execution_count": 44,
   "id": "9d1d7ed6",
   "metadata": {
    "execution": {
     "iopub.execute_input": "2022-11-14T16:24:05.228398Z",
     "iopub.status.busy": "2022-11-14T16:24:05.227494Z",
     "iopub.status.idle": "2022-11-14T16:24:05.681156Z",
     "shell.execute_reply": "2022-11-14T16:24:05.679385Z"
    },
    "papermill": {
     "duration": 0.489633,
     "end_time": "2022-11-14T16:24:05.685021",
     "exception": false,
     "start_time": "2022-11-14T16:24:05.195388",
     "status": "completed"
    },
    "tags": []
   },
   "outputs": [
    {
     "data": {
      "text/plain": [
       "([<matplotlib.axis.XTick at 0x7fa85a081a90>,\n",
       "  <matplotlib.axis.XTick at 0x7fa85a1c98d0>,\n",
       "  <matplotlib.axis.XTick at 0x7fa85a07d110>,\n",
       "  <matplotlib.axis.XTick at 0x7fa85a06e250>,\n",
       "  <matplotlib.axis.XTick at 0x7fa85a05c5d0>,\n",
       "  <matplotlib.axis.XTick at 0x7fa85a06e2d0>,\n",
       "  <matplotlib.axis.XTick at 0x7fa85a06e450>,\n",
       "  <matplotlib.axis.XTick at 0x7fa859ff8050>,\n",
       "  <matplotlib.axis.XTick at 0x7fa859ff8110>,\n",
       "  <matplotlib.axis.XTick at 0x7fa859ff8810>,\n",
       "  <matplotlib.axis.XTick at 0x7fa85a001110>],\n",
       " [Text(0, 0, ''),\n",
       "  Text(0, 0, ''),\n",
       "  Text(0, 0, ''),\n",
       "  Text(0, 0, ''),\n",
       "  Text(0, 0, ''),\n",
       "  Text(0, 0, ''),\n",
       "  Text(0, 0, ''),\n",
       "  Text(0, 0, ''),\n",
       "  Text(0, 0, ''),\n",
       "  Text(0, 0, ''),\n",
       "  Text(0, 0, '')])"
      ]
     },
     "execution_count": 44,
     "metadata": {},
     "output_type": "execute_result"
    },
    {
     "data": {
      "image/png": "[encoded data removed]",
      "text/plain": [
       "<Figure size 864x432 with 1 Axes>"
      ]
     },
     "metadata": {
      "needs_background": "light"
     },
     "output_type": "display_data"
    }
   ],
   "source": [
    "xdata = [0,1,2,3,4,5,6,7,8,9,10]\n",
    "plt.figure(figsize = (12,6))\n",
    "sns.barplot(y = df['Product line'], x = df['Rating'])\n",
    "plt.xticks(xdata)"
   ]
  },
  {
   "cell_type": "markdown",
   "id": "5f59fd6f",
   "metadata": {
    "papermill": {
     "duration": 0.031906,
     "end_time": "2022-11-14T16:24:05.749210",
     "exception": false,
     "start_time": "2022-11-14T16:24:05.717304",
     "status": "completed"
    },
    "tags": []
   },
   "source": [
    "# Total bill in each product line"
   ]
  },
  {
   "cell_type": "code",
   "execution_count": 45,
   "id": "27e7a713",
   "metadata": {
    "execution": {
     "iopub.execute_input": "2022-11-14T16:24:05.811438Z",
     "iopub.status.busy": "2022-11-14T16:24:05.810667Z",
     "iopub.status.idle": "2022-11-14T16:24:06.259183Z",
     "shell.execute_reply": "2022-11-14T16:24:06.257737Z"
    },
    "papermill": {
     "duration": 0.482159,
     "end_time": "2022-11-14T16:24:06.262140",
     "exception": false,
     "start_time": "2022-11-14T16:24:05.779981",
     "status": "completed"
    },
    "tags": []
   },
   "outputs": [
    {
     "data": {
      "text/plain": [
       "<AxesSubplot:xlabel='Total', ylabel='Product line'>"
      ]
     },
     "execution_count": 45,
     "metadata": {},
     "output_type": "execute_result"
    },
    {
     "data": {
      "image/png": "[encoded data removed]",
      "text/plain": [
       "<Figure size 864x432 with 1 Axes>"
      ]
     },
     "metadata": {
      "needs_background": "light"
     },
     "output_type": "display_data"
    }
   ],
   "source": [
    "plt.figure(figsize = (12,6))\n",
    "sns.barplot(x = df['Total'] , y = df['Product line'])"
   ]
  },
  {
   "cell_type": "markdown",
   "id": "00c1bd8b",
   "metadata": {
    "papermill": {
     "duration": 0.029435,
     "end_time": "2022-11-14T16:24:06.322540",
     "exception": false,
     "start_time": "2022-11-14T16:24:06.293105",
     "status": "completed"
    },
    "tags": []
   },
   "source": [
    "**Exploring Quantity Column**"
   ]
  },
  {
   "cell_type": "code",
   "execution_count": 46,
   "id": "3825b142",
   "metadata": {
    "execution": {
     "iopub.execute_input": "2022-11-14T16:24:06.385010Z",
     "iopub.status.busy": "2022-11-14T16:24:06.383054Z",
     "iopub.status.idle": "2022-11-14T16:24:06.706764Z",
     "shell.execute_reply": "2022-11-14T16:24:06.705184Z"
    },
    "papermill": {
     "duration": 0.358144,
     "end_time": "2022-11-14T16:24:06.710205",
     "exception": false,
     "start_time": "2022-11-14T16:24:06.352061",
     "status": "completed"
    },
    "tags": []
   },
   "outputs": [
    {
     "name": "stderr",
     "output_type": "stream",
     "text": [
      "/opt/conda/lib/python3.7/site-packages/seaborn/distributions.py:2619: FutureWarning: `distplot` is a deprecated function and will be removed in a future version. Please adapt your code to use either `displot` (a figure-level function with similar flexibility) or `histplot` (an axes-level function for histograms).\n",
      "  warnings.warn(msg, FutureWarning)\n"
     ]
    },
    {
     "data": {
      "text/plain": [
       "([<matplotlib.axis.XTick at 0x7fa859ff8c10>,\n",
       "  <matplotlib.axis.XTick at 0x7fa859f46090>,\n",
       "  <matplotlib.axis.XTick at 0x7fa859f09f50>,\n",
       "  <matplotlib.axis.XTick at 0x7fa859f250d0>,\n",
       "  <matplotlib.axis.XTick at 0x7fa859f25210>,\n",
       "  <matplotlib.axis.XTick at 0x7fa859f25910>,\n",
       "  <matplotlib.axis.XTick at 0x7fa859f2a450>,\n",
       "  <matplotlib.axis.XTick at 0x7fa859f187d0>,\n",
       "  <matplotlib.axis.XTick at 0x7fa859f2a190>,\n",
       "  <matplotlib.axis.XTick at 0x7fa859f3d890>],\n",
       " [Text(0, 0, ''),\n",
       "  Text(0, 0, ''),\n",
       "  Text(0, 0, ''),\n",
       "  Text(0, 0, ''),\n",
       "  Text(0, 0, ''),\n",
       "  Text(0, 0, ''),\n",
       "  Text(0, 0, ''),\n",
       "  Text(0, 0, ''),\n",
       "  Text(0, 0, ''),\n",
       "  Text(0, 0, '')])"
      ]
     },
     "execution_count": 46,
     "metadata": {},
     "output_type": "execute_result"
    },
    {
     "data": {
      "image/png": "[encoded data removed]",
      "text/plain": [
       "<Figure size 864x432 with 1 Axes>"
      ]
     },
     "metadata": {
      "needs_background": "light"
     },
     "output_type": "display_data"
    }
   ],
   "source": [
    "xdata = [1,2,3,4,5,6,7,8,9,10]\n",
    "plt.figure(figsize = (12,6))\n",
    "sns.distplot(df['Quantity'])\n",
    "plt.xticks(xdata)"
   ]
  },
  {
   "cell_type": "markdown",
   "id": "1a439511",
   "metadata": {
    "papermill": {
     "duration": 0.030414,
     "end_time": "2022-11-14T16:24:06.771461",
     "exception": false,
     "start_time": "2022-11-14T16:24:06.741047",
     "status": "completed"
    },
    "tags": []
   },
   "source": [
    "Most of the customers buy 10 in quantity"
   ]
  },
  {
   "cell_type": "code",
   "execution_count": 47,
   "id": "721b0113",
   "metadata": {
    "execution": {
     "iopub.execute_input": "2022-11-14T16:24:06.833746Z",
     "iopub.status.busy": "2022-11-14T16:24:06.833223Z",
     "iopub.status.idle": "2022-11-14T16:24:06.847163Z",
     "shell.execute_reply": "2022-11-14T16:24:06.846146Z"
    },
    "papermill": {
     "duration": 0.048658,
     "end_time": "2022-11-14T16:24:06.849783",
     "exception": false,
     "start_time": "2022-11-14T16:24:06.801125",
     "status": "completed"
    },
    "tags": []
   },
   "outputs": [
    {
     "data": {
      "text/html": [
       "<div>\n",
       "<style scoped>\n",
       "    .dataframe tbody tr th:only-of-type {\n",
       "        vertical-align: middle;\n",
       "    }\n",
       "\n",
       "    .dataframe tbody tr th {\n",
       "        vertical-align: top;\n",
       "    }\n",
       "\n",
       "    .dataframe thead th {\n",
       "        text-align: right;\n",
       "    }\n",
       "</style>\n",
       "<table border=\"1\" class=\"dataframe\">\n",
       "  <thead>\n",
       "    <tr style=\"text-align: right;\">\n",
       "      <th></th>\n",
       "      <th>Quantity</th>\n",
       "    </tr>\n",
       "  </thead>\n",
       "  <tbody>\n",
       "    <tr>\n",
       "      <th>10</th>\n",
       "      <td>119</td>\n",
       "    </tr>\n",
       "    <tr>\n",
       "      <th>1</th>\n",
       "      <td>112</td>\n",
       "    </tr>\n",
       "    <tr>\n",
       "      <th>4</th>\n",
       "      <td>109</td>\n",
       "    </tr>\n",
       "    <tr>\n",
       "      <th>7</th>\n",
       "      <td>102</td>\n",
       "    </tr>\n",
       "    <tr>\n",
       "      <th>5</th>\n",
       "      <td>102</td>\n",
       "    </tr>\n",
       "    <tr>\n",
       "      <th>6</th>\n",
       "      <td>98</td>\n",
       "    </tr>\n",
       "    <tr>\n",
       "      <th>9</th>\n",
       "      <td>92</td>\n",
       "    </tr>\n",
       "    <tr>\n",
       "      <th>2</th>\n",
       "      <td>91</td>\n",
       "    </tr>\n",
       "    <tr>\n",
       "      <th>3</th>\n",
       "      <td>90</td>\n",
       "    </tr>\n",
       "    <tr>\n",
       "      <th>8</th>\n",
       "      <td>85</td>\n",
       "    </tr>\n",
       "  </tbody>\n",
       "</table>\n",
       "</div>"
      ],
      "text/plain": [
       "    Quantity\n",
       "10       119\n",
       "1        112\n",
       "4        109\n",
       "7        102\n",
       "5        102\n",
       "6         98\n",
       "9         92\n",
       "2         91\n",
       "3         90\n",
       "8         85"
      ]
     },
     "execution_count": 47,
     "metadata": {},
     "output_type": "execute_result"
    }
   ],
   "source": [
    "quantity_df = pd.DataFrame(df['Quantity'].value_counts())\n",
    "quantity_df"
   ]
  },
  {
   "cell_type": "code",
   "execution_count": 48,
   "id": "b1439046",
   "metadata": {
    "execution": {
     "iopub.execute_input": "2022-11-14T16:24:06.932345Z",
     "iopub.status.busy": "2022-11-14T16:24:06.930789Z",
     "iopub.status.idle": "2022-11-14T16:24:07.232442Z",
     "shell.execute_reply": "2022-11-14T16:24:07.231165Z"
    },
    "papermill": {
     "duration": 0.345443,
     "end_time": "2022-11-14T16:24:07.234992",
     "exception": false,
     "start_time": "2022-11-14T16:24:06.889549",
     "status": "completed"
    },
    "tags": []
   },
   "outputs": [
    {
     "data": {
      "text/plain": [
       "<AxesSubplot:ylabel='Quantity'>"
      ]
     },
     "execution_count": 48,
     "metadata": {},
     "output_type": "execute_result"
    },
    {
     "data": {
      "image/png": "[encoded data removed]",
      "text/plain": [
       "<Figure size 864x432 with 1 Axes>"
      ]
     },
     "metadata": {
      "needs_background": "light"
     },
     "output_type": "display_data"
    }
   ],
   "source": [
    "plt.figure(figsize=(12,6))\n",
    "sns.barplot(x = quantity_df.index , y = quantity_df['Quantity'] , palette = 'inferno')"
   ]
  },
  {
   "cell_type": "code",
   "execution_count": 49,
   "id": "85799ca1",
   "metadata": {
    "execution": {
     "iopub.execute_input": "2022-11-14T16:24:07.296548Z",
     "iopub.status.busy": "2022-11-14T16:24:07.296108Z",
     "iopub.status.idle": "2022-11-14T16:24:07.316445Z",
     "shell.execute_reply": "2022-11-14T16:24:07.315244Z"
    },
    "papermill": {
     "duration": 0.054894,
     "end_time": "2022-11-14T16:24:07.319266",
     "exception": false,
     "start_time": "2022-11-14T16:24:07.264372",
     "status": "completed"
    },
    "tags": []
   },
   "outputs": [],
   "source": [
    "# Import necessary libraries.\n",
    "import pandas as pd\n",
    "from mlxtend.frequent_patterns import apriori, association_rules\n",
    "import warnings\n",
    "warnings.filterwarnings('ignore')"
   ]
  }
 ],
 "metadata": {
  "kernelspec": {
   "display_name": "Python 3",
   "language": "python",
   "name": "python3"
  },
  "language_info": {
   "codemirror_mode": {
    "name": "ipython",
    "version": 3
   },
   "file_extension": ".py",
   "mimetype": "text/x-python",
   "name": "python",
   "nbconvert_exporter": "python",
   "pygments_lexer": "ipython3",
   "version": "3.7.12"
  },
  "papermill": {
   "default_parameters": {},
   "duration": 23.445108,
   "end_time": "2022-11-14T16:24:08.375430",
   "environment_variables": {},
   "exception": null,
   "input_path": "__notebook__.ipynb",
   "output_path": "__notebook__.ipynb",
   "parameters": {},
   "start_time": "2022-11-14T16:23:44.930322",
   "version": "2.3.4"
  }
 },
 "nbformat": 4,
 "nbformat_minor": 5
}
