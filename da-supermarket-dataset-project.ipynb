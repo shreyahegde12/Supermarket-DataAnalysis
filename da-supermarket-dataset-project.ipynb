{
 "cells": [
  {
   "cell_type": "code",
   "execution_count": 1,
   "id": "69dbbeff",
   "metadata": {
    "_cell_guid": "b1076dfc-b9ad-4769-8c92-a6c4dae69d19",
    "_uuid": "8f2839f25d086af736a60e9eeb907d3b93b6e0e5",
    "execution": {
     "iopub.execute_input": "2022-11-09T18:09:27.678910Z",
     "iopub.status.busy": "2022-11-09T18:09:27.678165Z",
     "iopub.status.idle": "2022-11-09T18:09:28.585813Z",
     "shell.execute_reply": "2022-11-09T18:09:28.584963Z"
    },
    "papermill": {
     "duration": 0.925954,
     "end_time": "2022-11-09T18:09:28.588484",
     "exception": false,
     "start_time": "2022-11-09T18:09:27.662530",
     "status": "completed"
    },
    "tags": []
   },
   "outputs": [],
   "source": [
    "import pandas as pd\n",
    "import numpy as np\n",
    "import matplotlib.pyplot as plt\n",
    "import seaborn as sns\n"
   ]
  },
  {
   "cell_type": "code",
   "execution_count": 2,
   "id": "5d186b02",
   "metadata": {
    "execution": {
     "iopub.execute_input": "2022-11-09T18:09:28.616164Z",
     "iopub.status.busy": "2022-11-09T18:09:28.615082Z",
     "iopub.status.idle": "2022-11-09T18:09:28.661925Z",
     "shell.execute_reply": "2022-11-09T18:09:28.660754Z"
    },
    "papermill": {
     "duration": 0.064025,
     "end_time": "2022-11-09T18:09:28.665141",
     "exception": false,
     "start_time": "2022-11-09T18:09:28.601116",
     "status": "completed"
    },
    "tags": []
   },
   "outputs": [
    {
     "data": {
      "text/html": [
       "<div>\n",
       "<style scoped>\n",
       "    .dataframe tbody tr th:only-of-type {\n",
       "        vertical-align: middle;\n",
       "    }\n",
       "\n",
       "    .dataframe tbody tr th {\n",
       "        vertical-align: top;\n",
       "    }\n",
       "\n",
       "    .dataframe thead th {\n",
       "        text-align: right;\n",
       "    }\n",
       "</style>\n",
       "<table border=\"1\" class=\"dataframe\">\n",
       "  <thead>\n",
       "    <tr style=\"text-align: right;\">\n",
       "      <th></th>\n",
       "      <th>Invoice ID</th>\n",
       "      <th>Branch</th>\n",
       "      <th>City</th>\n",
       "      <th>Customer type</th>\n",
       "      <th>Gender</th>\n",
       "      <th>Product line</th>\n",
       "      <th>Unit price</th>\n",
       "      <th>Quantity</th>\n",
       "      <th>Tax 5%</th>\n",
       "      <th>Total</th>\n",
       "      <th>Date</th>\n",
       "      <th>Time</th>\n",
       "      <th>Payment</th>\n",
       "      <th>cogs</th>\n",
       "      <th>gross margin percentage</th>\n",
       "      <th>gross income</th>\n",
       "      <th>Rating</th>\n",
       "    </tr>\n",
       "  </thead>\n",
       "  <tbody>\n",
       "    <tr>\n",
       "      <th>0</th>\n",
       "      <td>750-67-8428</td>\n",
       "      <td>A</td>\n",
       "      <td>Yangon</td>\n",
       "      <td>Member</td>\n",
       "      <td>Female</td>\n",
       "      <td>Health and beauty</td>\n",
       "      <td>74.69</td>\n",
       "      <td>7</td>\n",
       "      <td>26.1415</td>\n",
       "      <td>548.9715</td>\n",
       "      <td>1/5/2019</td>\n",
       "      <td>13:08</td>\n",
       "      <td>Ewallet</td>\n",
       "      <td>522.83</td>\n",
       "      <td>4.761905</td>\n",
       "      <td>26.1415</td>\n",
       "      <td>9.1</td>\n",
       "    </tr>\n",
       "    <tr>\n",
       "      <th>1</th>\n",
       "      <td>226-31-3081</td>\n",
       "      <td>C</td>\n",
       "      <td>Naypyitaw</td>\n",
       "      <td>Normal</td>\n",
       "      <td>Female</td>\n",
       "      <td>Electronic accessories</td>\n",
       "      <td>15.28</td>\n",
       "      <td>5</td>\n",
       "      <td>3.8200</td>\n",
       "      <td>80.2200</td>\n",
       "      <td>3/8/2019</td>\n",
       "      <td>10:29</td>\n",
       "      <td>Cash</td>\n",
       "      <td>76.40</td>\n",
       "      <td>4.761905</td>\n",
       "      <td>3.8200</td>\n",
       "      <td>9.6</td>\n",
       "    </tr>\n",
       "    <tr>\n",
       "      <th>2</th>\n",
       "      <td>631-41-3108</td>\n",
       "      <td>A</td>\n",
       "      <td>Yangon</td>\n",
       "      <td>Normal</td>\n",
       "      <td>Male</td>\n",
       "      <td>Home and lifestyle</td>\n",
       "      <td>46.33</td>\n",
       "      <td>7</td>\n",
       "      <td>16.2155</td>\n",
       "      <td>340.5255</td>\n",
       "      <td>3/3/2019</td>\n",
       "      <td>13:23</td>\n",
       "      <td>Credit card</td>\n",
       "      <td>324.31</td>\n",
       "      <td>4.761905</td>\n",
       "      <td>16.2155</td>\n",
       "      <td>7.4</td>\n",
       "    </tr>\n",
       "    <tr>\n",
       "      <th>3</th>\n",
       "      <td>123-19-1176</td>\n",
       "      <td>A</td>\n",
       "      <td>Yangon</td>\n",
       "      <td>Member</td>\n",
       "      <td>Male</td>\n",
       "      <td>Health and beauty</td>\n",
       "      <td>58.22</td>\n",
       "      <td>8</td>\n",
       "      <td>23.2880</td>\n",
       "      <td>489.0480</td>\n",
       "      <td>1/27/2019</td>\n",
       "      <td>20:33</td>\n",
       "      <td>Ewallet</td>\n",
       "      <td>465.76</td>\n",
       "      <td>4.761905</td>\n",
       "      <td>23.2880</td>\n",
       "      <td>8.4</td>\n",
       "    </tr>\n",
       "    <tr>\n",
       "      <th>4</th>\n",
       "      <td>373-73-7910</td>\n",
       "      <td>A</td>\n",
       "      <td>Yangon</td>\n",
       "      <td>Normal</td>\n",
       "      <td>Male</td>\n",
       "      <td>Sports and travel</td>\n",
       "      <td>86.31</td>\n",
       "      <td>7</td>\n",
       "      <td>30.2085</td>\n",
       "      <td>634.3785</td>\n",
       "      <td>2/8/2019</td>\n",
       "      <td>10:37</td>\n",
       "      <td>Ewallet</td>\n",
       "      <td>604.17</td>\n",
       "      <td>4.761905</td>\n",
       "      <td>30.2085</td>\n",
       "      <td>5.3</td>\n",
       "    </tr>\n",
       "  </tbody>\n",
       "</table>\n",
       "</div>"
      ],
      "text/plain": [
       "    Invoice ID Branch       City Customer type  Gender  \\\n",
       "0  750-67-8428      A     Yangon        Member  Female   \n",
       "1  226-31-3081      C  Naypyitaw        Normal  Female   \n",
       "2  631-41-3108      A     Yangon        Normal    Male   \n",
       "3  123-19-1176      A     Yangon        Member    Male   \n",
       "4  373-73-7910      A     Yangon        Normal    Male   \n",
       "\n",
       "             Product line  Unit price  Quantity   Tax 5%     Total       Date  \\\n",
       "0       Health and beauty       74.69         7  26.1415  548.9715   1/5/2019   \n",
       "1  Electronic accessories       15.28         5   3.8200   80.2200   3/8/2019   \n",
       "2      Home and lifestyle       46.33         7  16.2155  340.5255   3/3/2019   \n",
       "3       Health and beauty       58.22         8  23.2880  489.0480  1/27/2019   \n",
       "4       Sports and travel       86.31         7  30.2085  634.3785   2/8/2019   \n",
       "\n",
       "    Time      Payment    cogs  gross margin percentage  gross income  Rating  \n",
       "0  13:08      Ewallet  522.83                 4.761905       26.1415     9.1  \n",
       "1  10:29         Cash   76.40                 4.761905        3.8200     9.6  \n",
       "2  13:23  Credit card  324.31                 4.761905       16.2155     7.4  \n",
       "3  20:33      Ewallet  465.76                 4.761905       23.2880     8.4  \n",
       "4  10:37      Ewallet  604.17                 4.761905       30.2085     5.3  "
      ]
     },
     "execution_count": 2,
     "metadata": {},
     "output_type": "execute_result"
    }
   ],
   "source": [
    "df = pd.read_csv('../input/supermarket-sales/supermarket_sales - Sheet1.csv')\n",
    "df.head()"
   ]
  },
  {
   "cell_type": "code",
   "execution_count": 3,
   "id": "63def293",
   "metadata": {
    "execution": {
     "iopub.execute_input": "2022-11-09T18:09:28.695098Z",
     "iopub.status.busy": "2022-11-09T18:09:28.694134Z",
     "iopub.status.idle": "2022-11-09T18:09:28.718920Z",
     "shell.execute_reply": "2022-11-09T18:09:28.717606Z"
    },
    "papermill": {
     "duration": 0.042459,
     "end_time": "2022-11-09T18:09:28.722201",
     "exception": false,
     "start_time": "2022-11-09T18:09:28.679742",
     "status": "completed"
    },
    "tags": []
   },
   "outputs": [
    {
     "name": "stdout",
     "output_type": "stream",
     "text": [
      "<class 'pandas.core.frame.DataFrame'>\n",
      "RangeIndex: 1000 entries, 0 to 999\n",
      "Data columns (total 17 columns):\n",
      " #   Column                   Non-Null Count  Dtype  \n",
      "---  ------                   --------------  -----  \n",
      " 0   Invoice ID               1000 non-null   object \n",
      " 1   Branch                   1000 non-null   object \n",
      " 2   City                     1000 non-null   object \n",
      " 3   Customer type            1000 non-null   object \n",
      " 4   Gender                   1000 non-null   object \n",
      " 5   Product line             1000 non-null   object \n",
      " 6   Unit price               1000 non-null   float64\n",
      " 7   Quantity                 1000 non-null   int64  \n",
      " 8   Tax 5%                   1000 non-null   float64\n",
      " 9   Total                    1000 non-null   float64\n",
      " 10  Date                     1000 non-null   object \n",
      " 11  Time                     1000 non-null   object \n",
      " 12  Payment                  1000 non-null   object \n",
      " 13  cogs                     1000 non-null   float64\n",
      " 14  gross margin percentage  1000 non-null   float64\n",
      " 15  gross income             1000 non-null   float64\n",
      " 16  Rating                   1000 non-null   float64\n",
      "dtypes: float64(7), int64(1), object(9)\n",
      "memory usage: 132.9+ KB\n"
     ]
    }
   ],
   "source": [
    "df.info()"
   ]
  },
  {
   "cell_type": "code",
   "execution_count": 4,
   "id": "3af5398a",
   "metadata": {
    "execution": {
     "iopub.execute_input": "2022-11-09T18:09:28.750941Z",
     "iopub.status.busy": "2022-11-09T18:09:28.750310Z",
     "iopub.status.idle": "2022-11-09T18:09:28.796557Z",
     "shell.execute_reply": "2022-11-09T18:09:28.795368Z"
    },
    "papermill": {
     "duration": 0.063374,
     "end_time": "2022-11-09T18:09:28.799376",
     "exception": false,
     "start_time": "2022-11-09T18:09:28.736002",
     "status": "completed"
    },
    "tags": []
   },
   "outputs": [
    {
     "data": {
      "text/html": [
       "<div>\n",
       "<style scoped>\n",
       "    .dataframe tbody tr th:only-of-type {\n",
       "        vertical-align: middle;\n",
       "    }\n",
       "\n",
       "    .dataframe tbody tr th {\n",
       "        vertical-align: top;\n",
       "    }\n",
       "\n",
       "    .dataframe thead th {\n",
       "        text-align: right;\n",
       "    }\n",
       "</style>\n",
       "<table border=\"1\" class=\"dataframe\">\n",
       "  <thead>\n",
       "    <tr style=\"text-align: right;\">\n",
       "      <th></th>\n",
       "      <th>Unit price</th>\n",
       "      <th>Quantity</th>\n",
       "      <th>Tax 5%</th>\n",
       "      <th>Total</th>\n",
       "      <th>cogs</th>\n",
       "      <th>gross margin percentage</th>\n",
       "      <th>gross income</th>\n",
       "      <th>Rating</th>\n",
       "    </tr>\n",
       "  </thead>\n",
       "  <tbody>\n",
       "    <tr>\n",
       "      <th>count</th>\n",
       "      <td>1000.000000</td>\n",
       "      <td>1000.000000</td>\n",
       "      <td>1000.000000</td>\n",
       "      <td>1000.000000</td>\n",
       "      <td>1000.00000</td>\n",
       "      <td>1000.000000</td>\n",
       "      <td>1000.000000</td>\n",
       "      <td>1000.00000</td>\n",
       "    </tr>\n",
       "    <tr>\n",
       "      <th>mean</th>\n",
       "      <td>55.672130</td>\n",
       "      <td>5.510000</td>\n",
       "      <td>15.379369</td>\n",
       "      <td>322.966749</td>\n",
       "      <td>307.58738</td>\n",
       "      <td>4.761905</td>\n",
       "      <td>15.379369</td>\n",
       "      <td>6.97270</td>\n",
       "    </tr>\n",
       "    <tr>\n",
       "      <th>std</th>\n",
       "      <td>26.494628</td>\n",
       "      <td>2.923431</td>\n",
       "      <td>11.708825</td>\n",
       "      <td>245.885335</td>\n",
       "      <td>234.17651</td>\n",
       "      <td>0.000000</td>\n",
       "      <td>11.708825</td>\n",
       "      <td>1.71858</td>\n",
       "    </tr>\n",
       "    <tr>\n",
       "      <th>min</th>\n",
       "      <td>10.080000</td>\n",
       "      <td>1.000000</td>\n",
       "      <td>0.508500</td>\n",
       "      <td>10.678500</td>\n",
       "      <td>10.17000</td>\n",
       "      <td>4.761905</td>\n",
       "      <td>0.508500</td>\n",
       "      <td>4.00000</td>\n",
       "    </tr>\n",
       "    <tr>\n",
       "      <th>25%</th>\n",
       "      <td>32.875000</td>\n",
       "      <td>3.000000</td>\n",
       "      <td>5.924875</td>\n",
       "      <td>124.422375</td>\n",
       "      <td>118.49750</td>\n",
       "      <td>4.761905</td>\n",
       "      <td>5.924875</td>\n",
       "      <td>5.50000</td>\n",
       "    </tr>\n",
       "    <tr>\n",
       "      <th>50%</th>\n",
       "      <td>55.230000</td>\n",
       "      <td>5.000000</td>\n",
       "      <td>12.088000</td>\n",
       "      <td>253.848000</td>\n",
       "      <td>241.76000</td>\n",
       "      <td>4.761905</td>\n",
       "      <td>12.088000</td>\n",
       "      <td>7.00000</td>\n",
       "    </tr>\n",
       "    <tr>\n",
       "      <th>75%</th>\n",
       "      <td>77.935000</td>\n",
       "      <td>8.000000</td>\n",
       "      <td>22.445250</td>\n",
       "      <td>471.350250</td>\n",
       "      <td>448.90500</td>\n",
       "      <td>4.761905</td>\n",
       "      <td>22.445250</td>\n",
       "      <td>8.50000</td>\n",
       "    </tr>\n",
       "    <tr>\n",
       "      <th>max</th>\n",
       "      <td>99.960000</td>\n",
       "      <td>10.000000</td>\n",
       "      <td>49.650000</td>\n",
       "      <td>1042.650000</td>\n",
       "      <td>993.00000</td>\n",
       "      <td>4.761905</td>\n",
       "      <td>49.650000</td>\n",
       "      <td>10.00000</td>\n",
       "    </tr>\n",
       "  </tbody>\n",
       "</table>\n",
       "</div>"
      ],
      "text/plain": [
       "        Unit price     Quantity       Tax 5%        Total        cogs  \\\n",
       "count  1000.000000  1000.000000  1000.000000  1000.000000  1000.00000   \n",
       "mean     55.672130     5.510000    15.379369   322.966749   307.58738   \n",
       "std      26.494628     2.923431    11.708825   245.885335   234.17651   \n",
       "min      10.080000     1.000000     0.508500    10.678500    10.17000   \n",
       "25%      32.875000     3.000000     5.924875   124.422375   118.49750   \n",
       "50%      55.230000     5.000000    12.088000   253.848000   241.76000   \n",
       "75%      77.935000     8.000000    22.445250   471.350250   448.90500   \n",
       "max      99.960000    10.000000    49.650000  1042.650000   993.00000   \n",
       "\n",
       "       gross margin percentage  gross income      Rating  \n",
       "count              1000.000000   1000.000000  1000.00000  \n",
       "mean                  4.761905     15.379369     6.97270  \n",
       "std                   0.000000     11.708825     1.71858  \n",
       "min                   4.761905      0.508500     4.00000  \n",
       "25%                   4.761905      5.924875     5.50000  \n",
       "50%                   4.761905     12.088000     7.00000  \n",
       "75%                   4.761905     22.445250     8.50000  \n",
       "max                   4.761905     49.650000    10.00000  "
      ]
     },
     "execution_count": 4,
     "metadata": {},
     "output_type": "execute_result"
    }
   ],
   "source": [
    "df.describe()"
   ]
  },
  {
   "cell_type": "code",
   "execution_count": 5,
   "id": "f0be97fe",
   "metadata": {
    "execution": {
     "iopub.execute_input": "2022-11-09T18:09:28.833527Z",
     "iopub.status.busy": "2022-11-09T18:09:28.832872Z",
     "iopub.status.idle": "2022-11-09T18:09:28.839101Z",
     "shell.execute_reply": "2022-11-09T18:09:28.838106Z"
    },
    "papermill": {
     "duration": 0.027161,
     "end_time": "2022-11-09T18:09:28.841504",
     "exception": false,
     "start_time": "2022-11-09T18:09:28.814343",
     "status": "completed"
    },
    "tags": []
   },
   "outputs": [
    {
     "data": {
      "text/plain": [
       "1000"
      ]
     },
     "execution_count": 5,
     "metadata": {},
     "output_type": "execute_result"
    }
   ],
   "source": [
    "row=len(df.axes[0])\n",
    "row\n"
   ]
  },
  {
   "cell_type": "code",
   "execution_count": 6,
   "id": "b353fda4",
   "metadata": {
    "execution": {
     "iopub.execute_input": "2022-11-09T18:09:28.869504Z",
     "iopub.status.busy": "2022-11-09T18:09:28.869074Z",
     "iopub.status.idle": "2022-11-09T18:09:28.875868Z",
     "shell.execute_reply": "2022-11-09T18:09:28.874824Z"
    },
    "papermill": {
     "duration": 0.023417,
     "end_time": "2022-11-09T18:09:28.878174",
     "exception": false,
     "start_time": "2022-11-09T18:09:28.854757",
     "status": "completed"
    },
    "tags": []
   },
   "outputs": [
    {
     "data": {
      "text/plain": [
       "17"
      ]
     },
     "execution_count": 6,
     "metadata": {},
     "output_type": "execute_result"
    }
   ],
   "source": [
    "column=len(df.axes[1])\n",
    "column"
   ]
  },
  {
   "cell_type": "code",
   "execution_count": 7,
   "id": "6b01b6a9",
   "metadata": {
    "execution": {
     "iopub.execute_input": "2022-11-09T18:09:28.906757Z",
     "iopub.status.busy": "2022-11-09T18:09:28.905972Z",
     "iopub.status.idle": "2022-11-09T18:09:28.914967Z",
     "shell.execute_reply": "2022-11-09T18:09:28.914094Z"
    },
    "papermill": {
     "duration": 0.025718,
     "end_time": "2022-11-09T18:09:28.917110",
     "exception": false,
     "start_time": "2022-11-09T18:09:28.891392",
     "status": "completed"
    },
    "tags": []
   },
   "outputs": [
    {
     "data": {
      "text/plain": [
       "Invoice ID                 0\n",
       "Branch                     0\n",
       "City                       0\n",
       "Customer type              0\n",
       "Gender                     0\n",
       "Product line               0\n",
       "Unit price                 0\n",
       "Quantity                   0\n",
       "Tax 5%                     0\n",
       "Total                      0\n",
       "Date                       0\n",
       "Time                       0\n",
       "Payment                    0\n",
       "cogs                       0\n",
       "gross margin percentage    0\n",
       "gross income               0\n",
       "Rating                     0\n",
       "dtype: int64"
      ]
     },
     "execution_count": 7,
     "metadata": {},
     "output_type": "execute_result"
    }
   ],
   "source": [
    "df.isnull().sum()"
   ]
  },
  {
   "cell_type": "markdown",
   "id": "0975c4f5",
   "metadata": {
    "papermill": {
     "duration": 0.012924,
     "end_time": "2022-11-09T18:09:28.943349",
     "exception": false,
     "start_time": "2022-11-09T18:09:28.930425",
     "status": "completed"
    },
    "tags": []
   },
   "source": [
    "**There are no null values in the dataset.**"
   ]
  },
  {
   "cell_type": "code",
   "execution_count": 8,
   "id": "2cf586f0",
   "metadata": {
    "execution": {
     "iopub.execute_input": "2022-11-09T18:09:28.972486Z",
     "iopub.status.busy": "2022-11-09T18:09:28.971134Z",
     "iopub.status.idle": "2022-11-09T18:09:28.999144Z",
     "shell.execute_reply": "2022-11-09T18:09:28.998105Z"
    },
    "papermill": {
     "duration": 0.044695,
     "end_time": "2022-11-09T18:09:29.001419",
     "exception": false,
     "start_time": "2022-11-09T18:09:28.956724",
     "status": "completed"
    },
    "tags": []
   },
   "outputs": [
    {
     "data": {
      "text/html": [
       "<div>\n",
       "<style scoped>\n",
       "    .dataframe tbody tr th:only-of-type {\n",
       "        vertical-align: middle;\n",
       "    }\n",
       "\n",
       "    .dataframe tbody tr th {\n",
       "        vertical-align: top;\n",
       "    }\n",
       "\n",
       "    .dataframe thead th {\n",
       "        text-align: right;\n",
       "    }\n",
       "</style>\n",
       "<table border=\"1\" class=\"dataframe\">\n",
       "  <thead>\n",
       "    <tr style=\"text-align: right;\">\n",
       "      <th></th>\n",
       "      <th>Invoice ID</th>\n",
       "      <th>Branch</th>\n",
       "      <th>City</th>\n",
       "      <th>Customer type</th>\n",
       "      <th>Gender</th>\n",
       "      <th>Product line</th>\n",
       "      <th>Unit price</th>\n",
       "      <th>Quantity</th>\n",
       "      <th>Tax 5%</th>\n",
       "      <th>Total</th>\n",
       "      <th>Date</th>\n",
       "      <th>Time</th>\n",
       "      <th>Payment</th>\n",
       "      <th>cogs</th>\n",
       "      <th>gross margin percentage</th>\n",
       "      <th>gross income</th>\n",
       "      <th>Rating</th>\n",
       "    </tr>\n",
       "  </thead>\n",
       "  <tbody>\n",
       "    <tr>\n",
       "      <th>0</th>\n",
       "      <td>750-67-8428</td>\n",
       "      <td>A</td>\n",
       "      <td>Yangon</td>\n",
       "      <td>Member</td>\n",
       "      <td>Female</td>\n",
       "      <td>Health and beauty</td>\n",
       "      <td>74.69</td>\n",
       "      <td>7</td>\n",
       "      <td>26.1415</td>\n",
       "      <td>548.9715</td>\n",
       "      <td>1/5/2019</td>\n",
       "      <td>13:08</td>\n",
       "      <td>Ewallet</td>\n",
       "      <td>522.83</td>\n",
       "      <td>4.761905</td>\n",
       "      <td>26.1415</td>\n",
       "      <td>9.1</td>\n",
       "    </tr>\n",
       "    <tr>\n",
       "      <th>1</th>\n",
       "      <td>226-31-3081</td>\n",
       "      <td>C</td>\n",
       "      <td>Naypyitaw</td>\n",
       "      <td>Normal</td>\n",
       "      <td>Female</td>\n",
       "      <td>Electronic accessories</td>\n",
       "      <td>15.28</td>\n",
       "      <td>5</td>\n",
       "      <td>3.8200</td>\n",
       "      <td>80.2200</td>\n",
       "      <td>3/8/2019</td>\n",
       "      <td>10:29</td>\n",
       "      <td>Cash</td>\n",
       "      <td>76.40</td>\n",
       "      <td>4.761905</td>\n",
       "      <td>3.8200</td>\n",
       "      <td>9.6</td>\n",
       "    </tr>\n",
       "    <tr>\n",
       "      <th>2</th>\n",
       "      <td>631-41-3108</td>\n",
       "      <td>A</td>\n",
       "      <td>Yangon</td>\n",
       "      <td>Normal</td>\n",
       "      <td>Male</td>\n",
       "      <td>Home and lifestyle</td>\n",
       "      <td>46.33</td>\n",
       "      <td>7</td>\n",
       "      <td>16.2155</td>\n",
       "      <td>340.5255</td>\n",
       "      <td>3/3/2019</td>\n",
       "      <td>13:23</td>\n",
       "      <td>Credit card</td>\n",
       "      <td>324.31</td>\n",
       "      <td>4.761905</td>\n",
       "      <td>16.2155</td>\n",
       "      <td>7.4</td>\n",
       "    </tr>\n",
       "    <tr>\n",
       "      <th>3</th>\n",
       "      <td>123-19-1176</td>\n",
       "      <td>A</td>\n",
       "      <td>Yangon</td>\n",
       "      <td>Member</td>\n",
       "      <td>Male</td>\n",
       "      <td>Health and beauty</td>\n",
       "      <td>58.22</td>\n",
       "      <td>8</td>\n",
       "      <td>23.2880</td>\n",
       "      <td>489.0480</td>\n",
       "      <td>1/27/2019</td>\n",
       "      <td>20:33</td>\n",
       "      <td>Ewallet</td>\n",
       "      <td>465.76</td>\n",
       "      <td>4.761905</td>\n",
       "      <td>23.2880</td>\n",
       "      <td>8.4</td>\n",
       "    </tr>\n",
       "    <tr>\n",
       "      <th>4</th>\n",
       "      <td>373-73-7910</td>\n",
       "      <td>A</td>\n",
       "      <td>Yangon</td>\n",
       "      <td>Normal</td>\n",
       "      <td>Male</td>\n",
       "      <td>Sports and travel</td>\n",
       "      <td>86.31</td>\n",
       "      <td>7</td>\n",
       "      <td>30.2085</td>\n",
       "      <td>634.3785</td>\n",
       "      <td>2/8/2019</td>\n",
       "      <td>10:37</td>\n",
       "      <td>Ewallet</td>\n",
       "      <td>604.17</td>\n",
       "      <td>4.761905</td>\n",
       "      <td>30.2085</td>\n",
       "      <td>5.3</td>\n",
       "    </tr>\n",
       "    <tr>\n",
       "      <th>5</th>\n",
       "      <td>699-14-3026</td>\n",
       "      <td>C</td>\n",
       "      <td>Naypyitaw</td>\n",
       "      <td>Normal</td>\n",
       "      <td>Male</td>\n",
       "      <td>Electronic accessories</td>\n",
       "      <td>85.39</td>\n",
       "      <td>7</td>\n",
       "      <td>29.8865</td>\n",
       "      <td>627.6165</td>\n",
       "      <td>3/25/2019</td>\n",
       "      <td>18:30</td>\n",
       "      <td>Ewallet</td>\n",
       "      <td>597.73</td>\n",
       "      <td>4.761905</td>\n",
       "      <td>29.8865</td>\n",
       "      <td>4.1</td>\n",
       "    </tr>\n",
       "    <tr>\n",
       "      <th>6</th>\n",
       "      <td>355-53-5943</td>\n",
       "      <td>A</td>\n",
       "      <td>Yangon</td>\n",
       "      <td>Member</td>\n",
       "      <td>Female</td>\n",
       "      <td>Electronic accessories</td>\n",
       "      <td>68.84</td>\n",
       "      <td>6</td>\n",
       "      <td>20.6520</td>\n",
       "      <td>433.6920</td>\n",
       "      <td>2/25/2019</td>\n",
       "      <td>14:36</td>\n",
       "      <td>Ewallet</td>\n",
       "      <td>413.04</td>\n",
       "      <td>4.761905</td>\n",
       "      <td>20.6520</td>\n",
       "      <td>5.8</td>\n",
       "    </tr>\n",
       "    <tr>\n",
       "      <th>7</th>\n",
       "      <td>315-22-5665</td>\n",
       "      <td>C</td>\n",
       "      <td>Naypyitaw</td>\n",
       "      <td>Normal</td>\n",
       "      <td>Female</td>\n",
       "      <td>Home and lifestyle</td>\n",
       "      <td>73.56</td>\n",
       "      <td>10</td>\n",
       "      <td>36.7800</td>\n",
       "      <td>772.3800</td>\n",
       "      <td>2/24/2019</td>\n",
       "      <td>11:38</td>\n",
       "      <td>Ewallet</td>\n",
       "      <td>735.60</td>\n",
       "      <td>4.761905</td>\n",
       "      <td>36.7800</td>\n",
       "      <td>8.0</td>\n",
       "    </tr>\n",
       "    <tr>\n",
       "      <th>8</th>\n",
       "      <td>665-32-9167</td>\n",
       "      <td>A</td>\n",
       "      <td>Yangon</td>\n",
       "      <td>Member</td>\n",
       "      <td>Female</td>\n",
       "      <td>Health and beauty</td>\n",
       "      <td>36.26</td>\n",
       "      <td>2</td>\n",
       "      <td>3.6260</td>\n",
       "      <td>76.1460</td>\n",
       "      <td>1/10/2019</td>\n",
       "      <td>17:15</td>\n",
       "      <td>Credit card</td>\n",
       "      <td>72.52</td>\n",
       "      <td>4.761905</td>\n",
       "      <td>3.6260</td>\n",
       "      <td>7.2</td>\n",
       "    </tr>\n",
       "    <tr>\n",
       "      <th>9</th>\n",
       "      <td>692-92-5582</td>\n",
       "      <td>B</td>\n",
       "      <td>Mandalay</td>\n",
       "      <td>Member</td>\n",
       "      <td>Female</td>\n",
       "      <td>Food and beverages</td>\n",
       "      <td>54.84</td>\n",
       "      <td>3</td>\n",
       "      <td>8.2260</td>\n",
       "      <td>172.7460</td>\n",
       "      <td>2/20/2019</td>\n",
       "      <td>13:27</td>\n",
       "      <td>Credit card</td>\n",
       "      <td>164.52</td>\n",
       "      <td>4.761905</td>\n",
       "      <td>8.2260</td>\n",
       "      <td>5.9</td>\n",
       "    </tr>\n",
       "    <tr>\n",
       "      <th>10</th>\n",
       "      <td>351-62-0822</td>\n",
       "      <td>B</td>\n",
       "      <td>Mandalay</td>\n",
       "      <td>Member</td>\n",
       "      <td>Female</td>\n",
       "      <td>Fashion accessories</td>\n",
       "      <td>14.48</td>\n",
       "      <td>4</td>\n",
       "      <td>2.8960</td>\n",
       "      <td>60.8160</td>\n",
       "      <td>2/6/2019</td>\n",
       "      <td>18:07</td>\n",
       "      <td>Ewallet</td>\n",
       "      <td>57.92</td>\n",
       "      <td>4.761905</td>\n",
       "      <td>2.8960</td>\n",
       "      <td>4.5</td>\n",
       "    </tr>\n",
       "    <tr>\n",
       "      <th>11</th>\n",
       "      <td>529-56-3974</td>\n",
       "      <td>B</td>\n",
       "      <td>Mandalay</td>\n",
       "      <td>Member</td>\n",
       "      <td>Male</td>\n",
       "      <td>Electronic accessories</td>\n",
       "      <td>25.51</td>\n",
       "      <td>4</td>\n",
       "      <td>5.1020</td>\n",
       "      <td>107.1420</td>\n",
       "      <td>3/9/2019</td>\n",
       "      <td>17:03</td>\n",
       "      <td>Cash</td>\n",
       "      <td>102.04</td>\n",
       "      <td>4.761905</td>\n",
       "      <td>5.1020</td>\n",
       "      <td>6.8</td>\n",
       "    </tr>\n",
       "    <tr>\n",
       "      <th>12</th>\n",
       "      <td>365-64-0515</td>\n",
       "      <td>A</td>\n",
       "      <td>Yangon</td>\n",
       "      <td>Normal</td>\n",
       "      <td>Female</td>\n",
       "      <td>Electronic accessories</td>\n",
       "      <td>46.95</td>\n",
       "      <td>5</td>\n",
       "      <td>11.7375</td>\n",
       "      <td>246.4875</td>\n",
       "      <td>2/12/2019</td>\n",
       "      <td>10:25</td>\n",
       "      <td>Ewallet</td>\n",
       "      <td>234.75</td>\n",
       "      <td>4.761905</td>\n",
       "      <td>11.7375</td>\n",
       "      <td>7.1</td>\n",
       "    </tr>\n",
       "    <tr>\n",
       "      <th>13</th>\n",
       "      <td>252-56-2699</td>\n",
       "      <td>A</td>\n",
       "      <td>Yangon</td>\n",
       "      <td>Normal</td>\n",
       "      <td>Male</td>\n",
       "      <td>Food and beverages</td>\n",
       "      <td>43.19</td>\n",
       "      <td>10</td>\n",
       "      <td>21.5950</td>\n",
       "      <td>453.4950</td>\n",
       "      <td>2/7/2019</td>\n",
       "      <td>16:48</td>\n",
       "      <td>Ewallet</td>\n",
       "      <td>431.90</td>\n",
       "      <td>4.761905</td>\n",
       "      <td>21.5950</td>\n",
       "      <td>8.2</td>\n",
       "    </tr>\n",
       "    <tr>\n",
       "      <th>14</th>\n",
       "      <td>829-34-3910</td>\n",
       "      <td>A</td>\n",
       "      <td>Yangon</td>\n",
       "      <td>Normal</td>\n",
       "      <td>Female</td>\n",
       "      <td>Health and beauty</td>\n",
       "      <td>71.38</td>\n",
       "      <td>10</td>\n",
       "      <td>35.6900</td>\n",
       "      <td>749.4900</td>\n",
       "      <td>3/29/2019</td>\n",
       "      <td>19:21</td>\n",
       "      <td>Cash</td>\n",
       "      <td>713.80</td>\n",
       "      <td>4.761905</td>\n",
       "      <td>35.6900</td>\n",
       "      <td>5.7</td>\n",
       "    </tr>\n",
       "  </tbody>\n",
       "</table>\n",
       "</div>"
      ],
      "text/plain": [
       "     Invoice ID Branch       City Customer type  Gender  \\\n",
       "0   750-67-8428      A     Yangon        Member  Female   \n",
       "1   226-31-3081      C  Naypyitaw        Normal  Female   \n",
       "2   631-41-3108      A     Yangon        Normal    Male   \n",
       "3   123-19-1176      A     Yangon        Member    Male   \n",
       "4   373-73-7910      A     Yangon        Normal    Male   \n",
       "5   699-14-3026      C  Naypyitaw        Normal    Male   \n",
       "6   355-53-5943      A     Yangon        Member  Female   \n",
       "7   315-22-5665      C  Naypyitaw        Normal  Female   \n",
       "8   665-32-9167      A     Yangon        Member  Female   \n",
       "9   692-92-5582      B   Mandalay        Member  Female   \n",
       "10  351-62-0822      B   Mandalay        Member  Female   \n",
       "11  529-56-3974      B   Mandalay        Member    Male   \n",
       "12  365-64-0515      A     Yangon        Normal  Female   \n",
       "13  252-56-2699      A     Yangon        Normal    Male   \n",
       "14  829-34-3910      A     Yangon        Normal  Female   \n",
       "\n",
       "              Product line  Unit price  Quantity   Tax 5%     Total  \\\n",
       "0        Health and beauty       74.69         7  26.1415  548.9715   \n",
       "1   Electronic accessories       15.28         5   3.8200   80.2200   \n",
       "2       Home and lifestyle       46.33         7  16.2155  340.5255   \n",
       "3        Health and beauty       58.22         8  23.2880  489.0480   \n",
       "4        Sports and travel       86.31         7  30.2085  634.3785   \n",
       "5   Electronic accessories       85.39         7  29.8865  627.6165   \n",
       "6   Electronic accessories       68.84         6  20.6520  433.6920   \n",
       "7       Home and lifestyle       73.56        10  36.7800  772.3800   \n",
       "8        Health and beauty       36.26         2   3.6260   76.1460   \n",
       "9       Food and beverages       54.84         3   8.2260  172.7460   \n",
       "10     Fashion accessories       14.48         4   2.8960   60.8160   \n",
       "11  Electronic accessories       25.51         4   5.1020  107.1420   \n",
       "12  Electronic accessories       46.95         5  11.7375  246.4875   \n",
       "13      Food and beverages       43.19        10  21.5950  453.4950   \n",
       "14       Health and beauty       71.38        10  35.6900  749.4900   \n",
       "\n",
       "         Date   Time      Payment    cogs  gross margin percentage  \\\n",
       "0    1/5/2019  13:08      Ewallet  522.83                 4.761905   \n",
       "1    3/8/2019  10:29         Cash   76.40                 4.761905   \n",
       "2    3/3/2019  13:23  Credit card  324.31                 4.761905   \n",
       "3   1/27/2019  20:33      Ewallet  465.76                 4.761905   \n",
       "4    2/8/2019  10:37      Ewallet  604.17                 4.761905   \n",
       "5   3/25/2019  18:30      Ewallet  597.73                 4.761905   \n",
       "6   2/25/2019  14:36      Ewallet  413.04                 4.761905   \n",
       "7   2/24/2019  11:38      Ewallet  735.60                 4.761905   \n",
       "8   1/10/2019  17:15  Credit card   72.52                 4.761905   \n",
       "9   2/20/2019  13:27  Credit card  164.52                 4.761905   \n",
       "10   2/6/2019  18:07      Ewallet   57.92                 4.761905   \n",
       "11   3/9/2019  17:03         Cash  102.04                 4.761905   \n",
       "12  2/12/2019  10:25      Ewallet  234.75                 4.761905   \n",
       "13   2/7/2019  16:48      Ewallet  431.90                 4.761905   \n",
       "14  3/29/2019  19:21         Cash  713.80                 4.761905   \n",
       "\n",
       "    gross income  Rating  \n",
       "0        26.1415     9.1  \n",
       "1         3.8200     9.6  \n",
       "2        16.2155     7.4  \n",
       "3        23.2880     8.4  \n",
       "4        30.2085     5.3  \n",
       "5        29.8865     4.1  \n",
       "6        20.6520     5.8  \n",
       "7        36.7800     8.0  \n",
       "8         3.6260     7.2  \n",
       "9         8.2260     5.9  \n",
       "10        2.8960     4.5  \n",
       "11        5.1020     6.8  \n",
       "12       11.7375     7.1  \n",
       "13       21.5950     8.2  \n",
       "14       35.6900     5.7  "
      ]
     },
     "execution_count": 8,
     "metadata": {},
     "output_type": "execute_result"
    }
   ],
   "source": [
    "df.head(15)"
   ]
  },
  {
   "cell_type": "code",
   "execution_count": 9,
   "id": "d1918ca1",
   "metadata": {
    "execution": {
     "iopub.execute_input": "2022-11-09T18:09:29.030917Z",
     "iopub.status.busy": "2022-11-09T18:09:29.030511Z",
     "iopub.status.idle": "2022-11-09T18:09:29.256613Z",
     "shell.execute_reply": "2022-11-09T18:09:29.255743Z"
    },
    "papermill": {
     "duration": 0.243691,
     "end_time": "2022-11-09T18:09:29.259212",
     "exception": false,
     "start_time": "2022-11-09T18:09:29.015521",
     "status": "completed"
    },
    "tags": []
   },
   "outputs": [
    {
     "data": {
      "text/plain": [
       "<AxesSubplot:ylabel='Total'>"
      ]
     },
     "execution_count": 9,
     "metadata": {},
     "output_type": "execute_result"
    },
    {
     "data": {
      "image/png": "[encoded data removed]",
      "text/plain": [
       "<Figure size 288x576 with 1 Axes>"
      ]
     },
     "metadata": {
      "needs_background": "light"
     },
     "output_type": "display_data"
    }
   ],
   "source": [
    "plt.figure(figsize = (4,8))\n",
    "sns.boxplot(y = df.Total)"
   ]
  },
  {
   "cell_type": "code",
   "execution_count": 10,
   "id": "50735938",
   "metadata": {
    "execution": {
     "iopub.execute_input": "2022-11-09T18:09:29.292226Z",
     "iopub.status.busy": "2022-11-09T18:09:29.291847Z",
     "iopub.status.idle": "2022-11-09T18:09:29.471798Z",
     "shell.execute_reply": "2022-11-09T18:09:29.470686Z"
    },
    "papermill": {
     "duration": 0.19967,
     "end_time": "2022-11-09T18:09:29.474445",
     "exception": false,
     "start_time": "2022-11-09T18:09:29.274775",
     "status": "completed"
    },
    "tags": []
   },
   "outputs": [
    {
     "data": {
      "text/plain": [
       "<AxesSubplot:ylabel='cogs'>"
      ]
     },
     "execution_count": 10,
     "metadata": {},
     "output_type": "execute_result"
    },
    {
     "data": {
      "image/png": "[encoded data removed]",
      "text/plain": [
       "<Figure size 288x720 with 1 Axes>"
      ]
     },
     "metadata": {
      "needs_background": "light"
     },
     "output_type": "display_data"
    }
   ],
   "source": [
    "plt.figure(figsize = (4,10))\n",
    "sns.boxplot(y = df.cogs)"
   ]
  },
  {
   "cell_type": "code",
   "execution_count": 11,
   "id": "734a14fc",
   "metadata": {
    "execution": {
     "iopub.execute_input": "2022-11-09T18:09:29.505928Z",
     "iopub.status.busy": "2022-11-09T18:09:29.505109Z",
     "iopub.status.idle": "2022-11-09T18:09:29.511220Z",
     "shell.execute_reply": "2022-11-09T18:09:29.510144Z"
    },
    "papermill": {
     "duration": 0.024228,
     "end_time": "2022-11-09T18:09:29.513408",
     "exception": false,
     "start_time": "2022-11-09T18:09:29.489180",
     "status": "completed"
    },
    "tags": []
   },
   "outputs": [],
   "source": [
    "def find_outliers_IQR(df):\n",
    "\n",
    "   q1=df.quantile(0.25)\n",
    "\n",
    "   q3=df.quantile(0.75)\n",
    "\n",
    "   IQR=q3-q1\n",
    "\n",
    "   outliers = df[((df<(q1-1.5*IQR)) | (df>(q3+1.5*IQR)))]\n",
    "\n",
    "   return outliers"
   ]
  },
  {
   "cell_type": "code",
   "execution_count": 12,
   "id": "a160dd81",
   "metadata": {
    "execution": {
     "iopub.execute_input": "2022-11-09T18:09:29.544823Z",
     "iopub.status.busy": "2022-11-09T18:09:29.544434Z",
     "iopub.status.idle": "2022-11-09T18:09:29.553095Z",
     "shell.execute_reply": "2022-11-09T18:09:29.552185Z"
    },
    "papermill": {
     "duration": 0.026931,
     "end_time": "2022-11-09T18:09:29.555354",
     "exception": false,
     "start_time": "2022-11-09T18:09:29.528423",
     "status": "completed"
    },
    "tags": []
   },
   "outputs": [
    {
     "name": "stdout",
     "output_type": "stream",
     "text": [
      "number of outliers: 9\n"
     ]
    }
   ],
   "source": [
    "outliers = find_outliers_IQR(df[\"Total\"])\n",
    "\n",
    "print(\"number of outliers: \"+ str(len(outliers)))"
   ]
  },
  {
   "cell_type": "code",
   "execution_count": 13,
   "id": "52529f99",
   "metadata": {
    "execution": {
     "iopub.execute_input": "2022-11-09T18:09:29.586162Z",
     "iopub.status.busy": "2022-11-09T18:09:29.585752Z",
     "iopub.status.idle": "2022-11-09T18:09:29.594836Z",
     "shell.execute_reply": "2022-11-09T18:09:29.593523Z"
    },
    "papermill": {
     "duration": 0.027184,
     "end_time": "2022-11-09T18:09:29.597144",
     "exception": false,
     "start_time": "2022-11-09T18:09:29.569960",
     "status": "completed"
    },
    "tags": []
   },
   "outputs": [
    {
     "name": "stdout",
     "output_type": "stream",
     "text": [
      "number of outliers: 9\n"
     ]
    }
   ],
   "source": [
    "outliers = find_outliers_IQR(df[\"cogs\"])\n",
    "\n",
    "print(\"number of outliers: \"+ str(len(outliers)))"
   ]
  },
  {
   "cell_type": "markdown",
   "id": "2067b48a",
   "metadata": {
    "papermill": {
     "duration": 0.014574,
     "end_time": "2022-11-09T18:09:29.626463",
     "exception": false,
     "start_time": "2022-11-09T18:09:29.611889",
     "status": "completed"
    },
    "tags": []
   },
   "source": [
    "**Inconsistent ,Incorrect data**"
   ]
  },
  {
   "cell_type": "code",
   "execution_count": 14,
   "id": "551542a7",
   "metadata": {
    "execution": {
     "iopub.execute_input": "2022-11-09T18:09:29.657528Z",
     "iopub.status.busy": "2022-11-09T18:09:29.656705Z",
     "iopub.status.idle": "2022-11-09T18:09:29.666404Z",
     "shell.execute_reply": "2022-11-09T18:09:29.665428Z"
    },
    "papermill": {
     "duration": 0.027491,
     "end_time": "2022-11-09T18:09:29.668463",
     "exception": false,
     "start_time": "2022-11-09T18:09:29.640972",
     "status": "completed"
    },
    "tags": []
   },
   "outputs": [
    {
     "data": {
      "text/plain": [
       "0      False\n",
       "1       True\n",
       "2       True\n",
       "3       True\n",
       "4       True\n",
       "       ...  \n",
       "995     True\n",
       "996     True\n",
       "997     True\n",
       "998     True\n",
       "999     True\n",
       "Name: gross margin percentage, Length: 1000, dtype: bool"
      ]
     },
     "execution_count": 14,
     "metadata": {},
     "output_type": "execute_result"
    }
   ],
   "source": [
    "df['gross margin percentage'].duplicated()"
   ]
  },
  {
   "cell_type": "code",
   "execution_count": 15,
   "id": "24d4d2c5",
   "metadata": {
    "execution": {
     "iopub.execute_input": "2022-11-09T18:09:29.700429Z",
     "iopub.status.busy": "2022-11-09T18:09:29.699577Z",
     "iopub.status.idle": "2022-11-09T18:09:29.707494Z",
     "shell.execute_reply": "2022-11-09T18:09:29.706409Z"
    },
    "papermill": {
     "duration": 0.026429,
     "end_time": "2022-11-09T18:09:29.709673",
     "exception": false,
     "start_time": "2022-11-09T18:09:29.683244",
     "status": "completed"
    },
    "tags": []
   },
   "outputs": [
    {
     "data": {
      "text/plain": [
       "array([4.76190476])"
      ]
     },
     "execution_count": 15,
     "metadata": {},
     "output_type": "execute_result"
    }
   ],
   "source": [
    "df['gross margin percentage'].unique()"
   ]
  },
  {
   "cell_type": "code",
   "execution_count": 16,
   "id": "4b1f85ee",
   "metadata": {
    "execution": {
     "iopub.execute_input": "2022-11-09T18:09:29.740790Z",
     "iopub.status.busy": "2022-11-09T18:09:29.740376Z",
     "iopub.status.idle": "2022-11-09T18:09:29.746823Z",
     "shell.execute_reply": "2022-11-09T18:09:29.745566Z"
    },
    "papermill": {
     "duration": 0.024559,
     "end_time": "2022-11-09T18:09:29.748931",
     "exception": false,
     "start_time": "2022-11-09T18:09:29.724372",
     "status": "completed"
    },
    "tags": []
   },
   "outputs": [],
   "source": [
    "df = df.drop(['Invoice ID', 'Date'], axis = 1)"
   ]
  },
  {
   "cell_type": "code",
   "execution_count": 17,
   "id": "48906988",
   "metadata": {
    "execution": {
     "iopub.execute_input": "2022-11-09T18:09:29.784614Z",
     "iopub.status.busy": "2022-11-09T18:09:29.783018Z",
     "iopub.status.idle": "2022-11-09T18:09:29.791470Z",
     "shell.execute_reply": "2022-11-09T18:09:29.790128Z"
    },
    "papermill": {
     "duration": 0.028746,
     "end_time": "2022-11-09T18:09:29.793961",
     "exception": false,
     "start_time": "2022-11-09T18:09:29.765215",
     "status": "completed"
    },
    "tags": []
   },
   "outputs": [],
   "source": [
    "df = df.drop(['gross margin percentage'], axis = 1)"
   ]
  },
  {
   "cell_type": "code",
   "execution_count": 18,
   "id": "e640333d",
   "metadata": {
    "execution": {
     "iopub.execute_input": "2022-11-09T18:09:29.829692Z",
     "iopub.status.busy": "2022-11-09T18:09:29.828898Z",
     "iopub.status.idle": "2022-11-09T18:09:29.861192Z",
     "shell.execute_reply": "2022-11-09T18:09:29.860362Z"
    },
    "papermill": {
     "duration": 0.052883,
     "end_time": "2022-11-09T18:09:29.863527",
     "exception": false,
     "start_time": "2022-11-09T18:09:29.810644",
     "status": "completed"
    },
    "tags": []
   },
   "outputs": [
    {
     "data": {
      "text/html": [
       "<div>\n",
       "<style scoped>\n",
       "    .dataframe tbody tr th:only-of-type {\n",
       "        vertical-align: middle;\n",
       "    }\n",
       "\n",
       "    .dataframe tbody tr th {\n",
       "        vertical-align: top;\n",
       "    }\n",
       "\n",
       "    .dataframe thead th {\n",
       "        text-align: right;\n",
       "    }\n",
       "</style>\n",
       "<table border=\"1\" class=\"dataframe\">\n",
       "  <thead>\n",
       "    <tr style=\"text-align: right;\">\n",
       "      <th></th>\n",
       "      <th>Branch</th>\n",
       "      <th>City</th>\n",
       "      <th>Customer type</th>\n",
       "      <th>Gender</th>\n",
       "      <th>Product line</th>\n",
       "      <th>Unit price</th>\n",
       "      <th>Quantity</th>\n",
       "      <th>Tax 5%</th>\n",
       "      <th>Total</th>\n",
       "      <th>Time</th>\n",
       "      <th>Payment</th>\n",
       "      <th>cogs</th>\n",
       "      <th>gross income</th>\n",
       "      <th>Rating</th>\n",
       "    </tr>\n",
       "  </thead>\n",
       "  <tbody>\n",
       "    <tr>\n",
       "      <th>0</th>\n",
       "      <td>A</td>\n",
       "      <td>Yangon</td>\n",
       "      <td>Member</td>\n",
       "      <td>Female</td>\n",
       "      <td>Health and beauty</td>\n",
       "      <td>74.69</td>\n",
       "      <td>7</td>\n",
       "      <td>26.1415</td>\n",
       "      <td>548.9715</td>\n",
       "      <td>13:08</td>\n",
       "      <td>Ewallet</td>\n",
       "      <td>522.83</td>\n",
       "      <td>26.1415</td>\n",
       "      <td>9.1</td>\n",
       "    </tr>\n",
       "    <tr>\n",
       "      <th>1</th>\n",
       "      <td>C</td>\n",
       "      <td>Naypyitaw</td>\n",
       "      <td>Normal</td>\n",
       "      <td>Female</td>\n",
       "      <td>Electronic accessories</td>\n",
       "      <td>15.28</td>\n",
       "      <td>5</td>\n",
       "      <td>3.8200</td>\n",
       "      <td>80.2200</td>\n",
       "      <td>10:29</td>\n",
       "      <td>Cash</td>\n",
       "      <td>76.40</td>\n",
       "      <td>3.8200</td>\n",
       "      <td>9.6</td>\n",
       "    </tr>\n",
       "    <tr>\n",
       "      <th>2</th>\n",
       "      <td>A</td>\n",
       "      <td>Yangon</td>\n",
       "      <td>Normal</td>\n",
       "      <td>Male</td>\n",
       "      <td>Home and lifestyle</td>\n",
       "      <td>46.33</td>\n",
       "      <td>7</td>\n",
       "      <td>16.2155</td>\n",
       "      <td>340.5255</td>\n",
       "      <td>13:23</td>\n",
       "      <td>Credit card</td>\n",
       "      <td>324.31</td>\n",
       "      <td>16.2155</td>\n",
       "      <td>7.4</td>\n",
       "    </tr>\n",
       "    <tr>\n",
       "      <th>3</th>\n",
       "      <td>A</td>\n",
       "      <td>Yangon</td>\n",
       "      <td>Member</td>\n",
       "      <td>Male</td>\n",
       "      <td>Health and beauty</td>\n",
       "      <td>58.22</td>\n",
       "      <td>8</td>\n",
       "      <td>23.2880</td>\n",
       "      <td>489.0480</td>\n",
       "      <td>20:33</td>\n",
       "      <td>Ewallet</td>\n",
       "      <td>465.76</td>\n",
       "      <td>23.2880</td>\n",
       "      <td>8.4</td>\n",
       "    </tr>\n",
       "    <tr>\n",
       "      <th>4</th>\n",
       "      <td>A</td>\n",
       "      <td>Yangon</td>\n",
       "      <td>Normal</td>\n",
       "      <td>Male</td>\n",
       "      <td>Sports and travel</td>\n",
       "      <td>86.31</td>\n",
       "      <td>7</td>\n",
       "      <td>30.2085</td>\n",
       "      <td>634.3785</td>\n",
       "      <td>10:37</td>\n",
       "      <td>Ewallet</td>\n",
       "      <td>604.17</td>\n",
       "      <td>30.2085</td>\n",
       "      <td>5.3</td>\n",
       "    </tr>\n",
       "    <tr>\n",
       "      <th>...</th>\n",
       "      <td>...</td>\n",
       "      <td>...</td>\n",
       "      <td>...</td>\n",
       "      <td>...</td>\n",
       "      <td>...</td>\n",
       "      <td>...</td>\n",
       "      <td>...</td>\n",
       "      <td>...</td>\n",
       "      <td>...</td>\n",
       "      <td>...</td>\n",
       "      <td>...</td>\n",
       "      <td>...</td>\n",
       "      <td>...</td>\n",
       "      <td>...</td>\n",
       "    </tr>\n",
       "    <tr>\n",
       "      <th>995</th>\n",
       "      <td>C</td>\n",
       "      <td>Naypyitaw</td>\n",
       "      <td>Normal</td>\n",
       "      <td>Male</td>\n",
       "      <td>Health and beauty</td>\n",
       "      <td>40.35</td>\n",
       "      <td>1</td>\n",
       "      <td>2.0175</td>\n",
       "      <td>42.3675</td>\n",
       "      <td>13:46</td>\n",
       "      <td>Ewallet</td>\n",
       "      <td>40.35</td>\n",
       "      <td>2.0175</td>\n",
       "      <td>6.2</td>\n",
       "    </tr>\n",
       "    <tr>\n",
       "      <th>996</th>\n",
       "      <td>B</td>\n",
       "      <td>Mandalay</td>\n",
       "      <td>Normal</td>\n",
       "      <td>Female</td>\n",
       "      <td>Home and lifestyle</td>\n",
       "      <td>97.38</td>\n",
       "      <td>10</td>\n",
       "      <td>48.6900</td>\n",
       "      <td>1022.4900</td>\n",
       "      <td>17:16</td>\n",
       "      <td>Ewallet</td>\n",
       "      <td>973.80</td>\n",
       "      <td>48.6900</td>\n",
       "      <td>4.4</td>\n",
       "    </tr>\n",
       "    <tr>\n",
       "      <th>997</th>\n",
       "      <td>A</td>\n",
       "      <td>Yangon</td>\n",
       "      <td>Member</td>\n",
       "      <td>Male</td>\n",
       "      <td>Food and beverages</td>\n",
       "      <td>31.84</td>\n",
       "      <td>1</td>\n",
       "      <td>1.5920</td>\n",
       "      <td>33.4320</td>\n",
       "      <td>13:22</td>\n",
       "      <td>Cash</td>\n",
       "      <td>31.84</td>\n",
       "      <td>1.5920</td>\n",
       "      <td>7.7</td>\n",
       "    </tr>\n",
       "    <tr>\n",
       "      <th>998</th>\n",
       "      <td>A</td>\n",
       "      <td>Yangon</td>\n",
       "      <td>Normal</td>\n",
       "      <td>Male</td>\n",
       "      <td>Home and lifestyle</td>\n",
       "      <td>65.82</td>\n",
       "      <td>1</td>\n",
       "      <td>3.2910</td>\n",
       "      <td>69.1110</td>\n",
       "      <td>15:33</td>\n",
       "      <td>Cash</td>\n",
       "      <td>65.82</td>\n",
       "      <td>3.2910</td>\n",
       "      <td>4.1</td>\n",
       "    </tr>\n",
       "    <tr>\n",
       "      <th>999</th>\n",
       "      <td>A</td>\n",
       "      <td>Yangon</td>\n",
       "      <td>Member</td>\n",
       "      <td>Female</td>\n",
       "      <td>Fashion accessories</td>\n",
       "      <td>88.34</td>\n",
       "      <td>7</td>\n",
       "      <td>30.9190</td>\n",
       "      <td>649.2990</td>\n",
       "      <td>13:28</td>\n",
       "      <td>Cash</td>\n",
       "      <td>618.38</td>\n",
       "      <td>30.9190</td>\n",
       "      <td>6.6</td>\n",
       "    </tr>\n",
       "  </tbody>\n",
       "</table>\n",
       "<p>1000 rows × 14 columns</p>\n",
       "</div>"
      ],
      "text/plain": [
       "    Branch       City Customer type  Gender            Product line  \\\n",
       "0        A     Yangon        Member  Female       Health and beauty   \n",
       "1        C  Naypyitaw        Normal  Female  Electronic accessories   \n",
       "2        A     Yangon        Normal    Male      Home and lifestyle   \n",
       "3        A     Yangon        Member    Male       Health and beauty   \n",
       "4        A     Yangon        Normal    Male       Sports and travel   \n",
       "..     ...        ...           ...     ...                     ...   \n",
       "995      C  Naypyitaw        Normal    Male       Health and beauty   \n",
       "996      B   Mandalay        Normal  Female      Home and lifestyle   \n",
       "997      A     Yangon        Member    Male      Food and beverages   \n",
       "998      A     Yangon        Normal    Male      Home and lifestyle   \n",
       "999      A     Yangon        Member  Female     Fashion accessories   \n",
       "\n",
       "     Unit price  Quantity   Tax 5%      Total   Time      Payment    cogs  \\\n",
       "0         74.69         7  26.1415   548.9715  13:08      Ewallet  522.83   \n",
       "1         15.28         5   3.8200    80.2200  10:29         Cash   76.40   \n",
       "2         46.33         7  16.2155   340.5255  13:23  Credit card  324.31   \n",
       "3         58.22         8  23.2880   489.0480  20:33      Ewallet  465.76   \n",
       "4         86.31         7  30.2085   634.3785  10:37      Ewallet  604.17   \n",
       "..          ...       ...      ...        ...    ...          ...     ...   \n",
       "995       40.35         1   2.0175    42.3675  13:46      Ewallet   40.35   \n",
       "996       97.38        10  48.6900  1022.4900  17:16      Ewallet  973.80   \n",
       "997       31.84         1   1.5920    33.4320  13:22         Cash   31.84   \n",
       "998       65.82         1   3.2910    69.1110  15:33         Cash   65.82   \n",
       "999       88.34         7  30.9190   649.2990  13:28         Cash  618.38   \n",
       "\n",
       "     gross income  Rating  \n",
       "0         26.1415     9.1  \n",
       "1          3.8200     9.6  \n",
       "2         16.2155     7.4  \n",
       "3         23.2880     8.4  \n",
       "4         30.2085     5.3  \n",
       "..            ...     ...  \n",
       "995        2.0175     6.2  \n",
       "996       48.6900     4.4  \n",
       "997        1.5920     7.7  \n",
       "998        3.2910     4.1  \n",
       "999       30.9190     6.6  \n",
       "\n",
       "[1000 rows x 14 columns]"
      ]
     },
     "execution_count": 18,
     "metadata": {},
     "output_type": "execute_result"
    }
   ],
   "source": [
    "df"
   ]
  },
  {
   "cell_type": "code",
   "execution_count": 19,
   "id": "ee13375e",
   "metadata": {
    "execution": {
     "iopub.execute_input": "2022-11-09T18:09:29.898614Z",
     "iopub.status.busy": "2022-11-09T18:09:29.897960Z",
     "iopub.status.idle": "2022-11-09T18:09:29.949111Z",
     "shell.execute_reply": "2022-11-09T18:09:29.948250Z"
    },
    "papermill": {
     "duration": 0.071044,
     "end_time": "2022-11-09T18:09:29.951689",
     "exception": false,
     "start_time": "2022-11-09T18:09:29.880645",
     "status": "completed"
    },
    "tags": []
   },
   "outputs": [],
   "source": [
    "df['Time'] = pd.to_datetime(df['Time'])"
   ]
  },
  {
   "cell_type": "code",
   "execution_count": 20,
   "id": "7fe30e16",
   "metadata": {
    "execution": {
     "iopub.execute_input": "2022-11-09T18:09:29.986157Z",
     "iopub.status.busy": "2022-11-09T18:09:29.984999Z",
     "iopub.status.idle": "2022-11-09T18:09:29.991947Z",
     "shell.execute_reply": "2022-11-09T18:09:29.990914Z"
    },
    "papermill": {
     "duration": 0.026755,
     "end_time": "2022-11-09T18:09:29.994474",
     "exception": false,
     "start_time": "2022-11-09T18:09:29.967719",
     "status": "completed"
    },
    "tags": []
   },
   "outputs": [],
   "source": [
    "df['Hour'] = (df['Time']).dt.hour    #type(sales['Time'])"
   ]
  },
  {
   "cell_type": "code",
   "execution_count": 21,
   "id": "e8ca9959",
   "metadata": {
    "execution": {
     "iopub.execute_input": "2022-11-09T18:09:30.027368Z",
     "iopub.status.busy": "2022-11-09T18:09:30.026964Z",
     "iopub.status.idle": "2022-11-09T18:09:30.035338Z",
     "shell.execute_reply": "2022-11-09T18:09:30.034242Z"
    },
    "papermill": {
     "duration": 0.027172,
     "end_time": "2022-11-09T18:09:30.037637",
     "exception": false,
     "start_time": "2022-11-09T18:09:30.010465",
     "status": "completed"
    },
    "tags": []
   },
   "outputs": [
    {
     "data": {
      "text/plain": [
       "11"
      ]
     },
     "execution_count": 21,
     "metadata": {},
     "output_type": "execute_result"
    }
   ],
   "source": [
    "df['Hour'].nunique()  #gives us the number of unique hours "
   ]
  },
  {
   "cell_type": "markdown",
   "id": "df8d9cb4",
   "metadata": {
    "papermill": {
     "duration": 0.01491,
     "end_time": "2022-11-09T18:09:30.067945",
     "exception": false,
     "start_time": "2022-11-09T18:09:30.053035",
     "status": "completed"
    },
    "tags": []
   },
   "source": [
    "**Correlation between columns**"
   ]
  },
  {
   "cell_type": "code",
   "execution_count": 22,
   "id": "6b9f2c4e",
   "metadata": {
    "execution": {
     "iopub.execute_input": "2022-11-09T18:09:30.100805Z",
     "iopub.status.busy": "2022-11-09T18:09:30.100418Z",
     "iopub.status.idle": "2022-11-09T18:09:30.119601Z",
     "shell.execute_reply": "2022-11-09T18:09:30.118364Z"
    },
    "papermill": {
     "duration": 0.038282,
     "end_time": "2022-11-09T18:09:30.121876",
     "exception": false,
     "start_time": "2022-11-09T18:09:30.083594",
     "status": "completed"
    },
    "tags": []
   },
   "outputs": [
    {
     "data": {
      "text/html": [
       "<div>\n",
       "<style scoped>\n",
       "    .dataframe tbody tr th:only-of-type {\n",
       "        vertical-align: middle;\n",
       "    }\n",
       "\n",
       "    .dataframe tbody tr th {\n",
       "        vertical-align: top;\n",
       "    }\n",
       "\n",
       "    .dataframe thead th {\n",
       "        text-align: right;\n",
       "    }\n",
       "</style>\n",
       "<table border=\"1\" class=\"dataframe\">\n",
       "  <thead>\n",
       "    <tr style=\"text-align: right;\">\n",
       "      <th></th>\n",
       "      <th>Unit price</th>\n",
       "      <th>Quantity</th>\n",
       "      <th>Tax 5%</th>\n",
       "      <th>Total</th>\n",
       "      <th>cogs</th>\n",
       "      <th>gross income</th>\n",
       "      <th>Rating</th>\n",
       "      <th>Hour</th>\n",
       "    </tr>\n",
       "  </thead>\n",
       "  <tbody>\n",
       "    <tr>\n",
       "      <th>Unit price</th>\n",
       "      <td>1.000000</td>\n",
       "      <td>0.010778</td>\n",
       "      <td>0.633962</td>\n",
       "      <td>0.633962</td>\n",
       "      <td>0.633962</td>\n",
       "      <td>0.633962</td>\n",
       "      <td>-0.008778</td>\n",
       "      <td>0.008242</td>\n",
       "    </tr>\n",
       "    <tr>\n",
       "      <th>Quantity</th>\n",
       "      <td>0.010778</td>\n",
       "      <td>1.000000</td>\n",
       "      <td>0.705510</td>\n",
       "      <td>0.705510</td>\n",
       "      <td>0.705510</td>\n",
       "      <td>0.705510</td>\n",
       "      <td>-0.015815</td>\n",
       "      <td>-0.007317</td>\n",
       "    </tr>\n",
       "    <tr>\n",
       "      <th>Tax 5%</th>\n",
       "      <td>0.633962</td>\n",
       "      <td>0.705510</td>\n",
       "      <td>1.000000</td>\n",
       "      <td>1.000000</td>\n",
       "      <td>1.000000</td>\n",
       "      <td>1.000000</td>\n",
       "      <td>-0.036442</td>\n",
       "      <td>-0.002770</td>\n",
       "    </tr>\n",
       "    <tr>\n",
       "      <th>Total</th>\n",
       "      <td>0.633962</td>\n",
       "      <td>0.705510</td>\n",
       "      <td>1.000000</td>\n",
       "      <td>1.000000</td>\n",
       "      <td>1.000000</td>\n",
       "      <td>1.000000</td>\n",
       "      <td>-0.036442</td>\n",
       "      <td>-0.002770</td>\n",
       "    </tr>\n",
       "    <tr>\n",
       "      <th>cogs</th>\n",
       "      <td>0.633962</td>\n",
       "      <td>0.705510</td>\n",
       "      <td>1.000000</td>\n",
       "      <td>1.000000</td>\n",
       "      <td>1.000000</td>\n",
       "      <td>1.000000</td>\n",
       "      <td>-0.036442</td>\n",
       "      <td>-0.002770</td>\n",
       "    </tr>\n",
       "    <tr>\n",
       "      <th>gross income</th>\n",
       "      <td>0.633962</td>\n",
       "      <td>0.705510</td>\n",
       "      <td>1.000000</td>\n",
       "      <td>1.000000</td>\n",
       "      <td>1.000000</td>\n",
       "      <td>1.000000</td>\n",
       "      <td>-0.036442</td>\n",
       "      <td>-0.002770</td>\n",
       "    </tr>\n",
       "    <tr>\n",
       "      <th>Rating</th>\n",
       "      <td>-0.008778</td>\n",
       "      <td>-0.015815</td>\n",
       "      <td>-0.036442</td>\n",
       "      <td>-0.036442</td>\n",
       "      <td>-0.036442</td>\n",
       "      <td>-0.036442</td>\n",
       "      <td>1.000000</td>\n",
       "      <td>-0.030588</td>\n",
       "    </tr>\n",
       "    <tr>\n",
       "      <th>Hour</th>\n",
       "      <td>0.008242</td>\n",
       "      <td>-0.007317</td>\n",
       "      <td>-0.002770</td>\n",
       "      <td>-0.002770</td>\n",
       "      <td>-0.002770</td>\n",
       "      <td>-0.002770</td>\n",
       "      <td>-0.030588</td>\n",
       "      <td>1.000000</td>\n",
       "    </tr>\n",
       "  </tbody>\n",
       "</table>\n",
       "</div>"
      ],
      "text/plain": [
       "              Unit price  Quantity    Tax 5%     Total      cogs  \\\n",
       "Unit price      1.000000  0.010778  0.633962  0.633962  0.633962   \n",
       "Quantity        0.010778  1.000000  0.705510  0.705510  0.705510   \n",
       "Tax 5%          0.633962  0.705510  1.000000  1.000000  1.000000   \n",
       "Total           0.633962  0.705510  1.000000  1.000000  1.000000   \n",
       "cogs            0.633962  0.705510  1.000000  1.000000  1.000000   \n",
       "gross income    0.633962  0.705510  1.000000  1.000000  1.000000   \n",
       "Rating         -0.008778 -0.015815 -0.036442 -0.036442 -0.036442   \n",
       "Hour            0.008242 -0.007317 -0.002770 -0.002770 -0.002770   \n",
       "\n",
       "              gross income    Rating      Hour  \n",
       "Unit price        0.633962 -0.008778  0.008242  \n",
       "Quantity          0.705510 -0.015815 -0.007317  \n",
       "Tax 5%            1.000000 -0.036442 -0.002770  \n",
       "Total             1.000000 -0.036442 -0.002770  \n",
       "cogs              1.000000 -0.036442 -0.002770  \n",
       "gross income      1.000000 -0.036442 -0.002770  \n",
       "Rating           -0.036442  1.000000 -0.030588  \n",
       "Hour             -0.002770 -0.030588  1.000000  "
      ]
     },
     "execution_count": 22,
     "metadata": {},
     "output_type": "execute_result"
    }
   ],
   "source": [
    "df.corr(method ='pearson')"
   ]
  },
  {
   "cell_type": "markdown",
   "id": "63a6e10b",
   "metadata": {
    "papermill": {
     "duration": 0.015397,
     "end_time": "2022-11-09T18:09:30.153150",
     "exception": false,
     "start_time": "2022-11-09T18:09:30.137753",
     "status": "completed"
    },
    "tags": []
   },
   "source": [
    "**Plotting heatmap to check if any correlation between columns**"
   ]
  },
  {
   "cell_type": "code",
   "execution_count": 23,
   "id": "297e56ea",
   "metadata": {
    "execution": {
     "iopub.execute_input": "2022-11-09T18:09:30.186599Z",
     "iopub.status.busy": "2022-11-09T18:09:30.186143Z",
     "iopub.status.idle": "2022-11-09T18:09:30.751444Z",
     "shell.execute_reply": "2022-11-09T18:09:30.750343Z"
    },
    "papermill": {
     "duration": 0.585004,
     "end_time": "2022-11-09T18:09:30.754030",
     "exception": false,
     "start_time": "2022-11-09T18:09:30.169026",
     "status": "completed"
    },
    "tags": []
   },
   "outputs": [
    {
     "data": {
      "text/plain": [
       "<AxesSubplot:>"
      ]
     },
     "execution_count": 23,
     "metadata": {},
     "output_type": "execute_result"
    },
    {
     "data": {
      "image/png": "[encoded data removed]",
      "text/plain": [
       "<Figure size 432x288 with 2 Axes>"
      ]
     },
     "metadata": {
      "needs_background": "light"
     },
     "output_type": "display_data"
    }
   ],
   "source": [
    "sns.heatmap(df.corr(), annot=True)"
   ]
  },
  {
   "cell_type": "markdown",
   "id": "c4eabdbc",
   "metadata": {
    "papermill": {
     "duration": 0.023188,
     "end_time": "2022-11-09T18:09:30.797276",
     "exception": false,
     "start_time": "2022-11-09T18:09:30.774088",
     "status": "completed"
    },
    "tags": []
   },
   "source": [
    "**Data Visualisation**\n"
   ]
  },
  {
   "cell_type": "code",
   "execution_count": 24,
   "id": "7a5b7cb4",
   "metadata": {
    "execution": {
     "iopub.execute_input": "2022-11-09T18:09:30.844486Z",
     "iopub.status.busy": "2022-11-09T18:09:30.843700Z",
     "iopub.status.idle": "2022-11-09T18:09:31.089752Z",
     "shell.execute_reply": "2022-11-09T18:09:31.088550Z"
    },
    "papermill": {
     "duration": 0.27141,
     "end_time": "2022-11-09T18:09:31.092209",
     "exception": false,
     "start_time": "2022-11-09T18:09:30.820799",
     "status": "completed"
    },
    "tags": []
   },
   "outputs": [
    {
     "data": {
      "text/plain": [
       "array([[<AxesSubplot:title={'center':'cogs'}>]], dtype=object)"
      ]
     },
     "execution_count": 24,
     "metadata": {},
     "output_type": "execute_result"
    },
    {
     "data": {
      "image/png": "[encoded data removed]",
      "text/plain": [
       "<Figure size 432x288 with 1 Axes>"
      ]
     },
     "metadata": {
      "needs_background": "light"
     },
     "output_type": "display_data"
    }
   ],
   "source": [
    "df.hist(column = \"cogs\")"
   ]
  },
  {
   "cell_type": "markdown",
   "id": "86de18fe",
   "metadata": {
    "papermill": {
     "duration": 0.016351,
     "end_time": "2022-11-09T18:09:31.125376",
     "exception": false,
     "start_time": "2022-11-09T18:09:31.109025",
     "status": "completed"
    },
    "tags": []
   },
   "source": [
    "# Below graph shows count of females and males is almost same"
   ]
  },
  {
   "cell_type": "code",
   "execution_count": 25,
   "id": "b8c2a99b",
   "metadata": {
    "execution": {
     "iopub.execute_input": "2022-11-09T18:09:31.160890Z",
     "iopub.status.busy": "2022-11-09T18:09:31.160124Z",
     "iopub.status.idle": "2022-11-09T18:09:31.169766Z",
     "shell.execute_reply": "2022-11-09T18:09:31.168018Z"
    },
    "papermill": {
     "duration": 0.030465,
     "end_time": "2022-11-09T18:09:31.172607",
     "exception": false,
     "start_time": "2022-11-09T18:09:31.142142",
     "status": "completed"
    },
    "tags": []
   },
   "outputs": [
    {
     "name": "stdout",
     "output_type": "stream",
     "text": [
      "(1000, 15)\n"
     ]
    },
    {
     "data": {
      "text/plain": [
       "Female    501\n",
       "Male      499\n",
       "Name: Gender, dtype: int64"
      ]
     },
     "execution_count": 25,
     "metadata": {},
     "output_type": "execute_result"
    }
   ],
   "source": [
    "print(df.shape)\n",
    "df['Gender'].value_counts()"
   ]
  },
  {
   "cell_type": "code",
   "execution_count": 26,
   "id": "24582efd",
   "metadata": {
    "execution": {
     "iopub.execute_input": "2022-11-09T18:09:31.210026Z",
     "iopub.status.busy": "2022-11-09T18:09:31.209634Z",
     "iopub.status.idle": "2022-11-09T18:09:31.331832Z",
     "shell.execute_reply": "2022-11-09T18:09:31.330681Z"
    },
    "papermill": {
     "duration": 0.144186,
     "end_time": "2022-11-09T18:09:31.334451",
     "exception": false,
     "start_time": "2022-11-09T18:09:31.190265",
     "status": "completed"
    },
    "tags": []
   },
   "outputs": [
    {
     "name": "stderr",
     "output_type": "stream",
     "text": [
      "/opt/conda/lib/python3.7/site-packages/seaborn/_decorators.py:43: FutureWarning: Pass the following variable as a keyword arg: x. From version 0.12, the only valid positional argument will be `data`, and passing other arguments without an explicit keyword will result in an error or misinterpretation.\n",
      "  FutureWarning\n"
     ]
    },
    {
     "data": {
      "text/plain": [
       "<AxesSubplot:xlabel='Gender', ylabel='count'>"
      ]
     },
     "execution_count": 26,
     "metadata": {},
     "output_type": "execute_result"
    },
    {
     "data": {
      "image/png": "[encoded data removed]",
      "text/plain": [
       "<Figure size 432x288 with 1 Axes>"
      ]
     },
     "metadata": {
      "needs_background": "light"
     },
     "output_type": "display_data"
    }
   ],
   "source": [
    "sns.countplot('Gender' , data = df)"
   ]
  },
  {
   "cell_type": "markdown",
   "id": "1d426ee0",
   "metadata": {
    "papermill": {
     "duration": 0.017027,
     "end_time": "2022-11-09T18:09:31.368722",
     "exception": false,
     "start_time": "2022-11-09T18:09:31.351695",
     "status": "completed"
    },
    "tags": []
   },
   "source": [
    "**Creating dummies for Gender column for getting numeric data for seaborn bar plot**"
   ]
  },
  {
   "cell_type": "code",
   "execution_count": 27,
   "id": "945d036c",
   "metadata": {
    "execution": {
     "iopub.execute_input": "2022-11-09T18:09:31.406746Z",
     "iopub.status.busy": "2022-11-09T18:09:31.405881Z",
     "iopub.status.idle": "2022-11-09T18:09:31.416440Z",
     "shell.execute_reply": "2022-11-09T18:09:31.415332Z"
    },
    "papermill": {
     "duration": 0.032199,
     "end_time": "2022-11-09T18:09:31.418897",
     "exception": false,
     "start_time": "2022-11-09T18:09:31.386698",
     "status": "completed"
    },
    "tags": []
   },
   "outputs": [
    {
     "data": {
      "text/html": [
       "<div>\n",
       "<style scoped>\n",
       "    .dataframe tbody tr th:only-of-type {\n",
       "        vertical-align: middle;\n",
       "    }\n",
       "\n",
       "    .dataframe tbody tr th {\n",
       "        vertical-align: top;\n",
       "    }\n",
       "\n",
       "    .dataframe thead th {\n",
       "        text-align: right;\n",
       "    }\n",
       "</style>\n",
       "<table border=\"1\" class=\"dataframe\">\n",
       "  <thead>\n",
       "    <tr style=\"text-align: right;\">\n",
       "      <th></th>\n",
       "      <th>Female</th>\n",
       "      <th>Male</th>\n",
       "    </tr>\n",
       "  </thead>\n",
       "  <tbody>\n",
       "    <tr>\n",
       "      <th>0</th>\n",
       "      <td>1</td>\n",
       "      <td>0</td>\n",
       "    </tr>\n",
       "    <tr>\n",
       "      <th>1</th>\n",
       "      <td>1</td>\n",
       "      <td>0</td>\n",
       "    </tr>\n",
       "    <tr>\n",
       "      <th>2</th>\n",
       "      <td>0</td>\n",
       "      <td>1</td>\n",
       "    </tr>\n",
       "    <tr>\n",
       "      <th>3</th>\n",
       "      <td>0</td>\n",
       "      <td>1</td>\n",
       "    </tr>\n",
       "    <tr>\n",
       "      <th>4</th>\n",
       "      <td>0</td>\n",
       "      <td>1</td>\n",
       "    </tr>\n",
       "  </tbody>\n",
       "</table>\n",
       "</div>"
      ],
      "text/plain": [
       "   Female  Male\n",
       "0       1     0\n",
       "1       1     0\n",
       "2       0     1\n",
       "3       0     1\n",
       "4       0     1"
      ]
     },
     "execution_count": 27,
     "metadata": {},
     "output_type": "execute_result"
    }
   ],
   "source": [
    "gender_dummies  = pd.get_dummies(df['Gender'])\n",
    "gender_dummies.head()"
   ]
  },
  {
   "cell_type": "markdown",
   "id": "050b2a13",
   "metadata": {
    "papermill": {
     "duration": 0.017273,
     "end_time": "2022-11-09T18:09:31.453981",
     "exception": false,
     "start_time": "2022-11-09T18:09:31.436708",
     "status": "completed"
    },
    "tags": []
   },
   "source": [
    "**Joining original data frame (df) with gender dummies data frame (gender_dummies)**"
   ]
  },
  {
   "cell_type": "code",
   "execution_count": 28,
   "id": "2176b384",
   "metadata": {
    "execution": {
     "iopub.execute_input": "2022-11-09T18:09:31.491135Z",
     "iopub.status.busy": "2022-11-09T18:09:31.490137Z",
     "iopub.status.idle": "2022-11-09T18:09:31.512457Z",
     "shell.execute_reply": "2022-11-09T18:09:31.511660Z"
    },
    "papermill": {
     "duration": 0.043277,
     "end_time": "2022-11-09T18:09:31.514725",
     "exception": false,
     "start_time": "2022-11-09T18:09:31.471448",
     "status": "completed"
    },
    "tags": []
   },
   "outputs": [
    {
     "data": {
      "text/html": [
       "<div>\n",
       "<style scoped>\n",
       "    .dataframe tbody tr th:only-of-type {\n",
       "        vertical-align: middle;\n",
       "    }\n",
       "\n",
       "    .dataframe tbody tr th {\n",
       "        vertical-align: top;\n",
       "    }\n",
       "\n",
       "    .dataframe thead th {\n",
       "        text-align: right;\n",
       "    }\n",
       "</style>\n",
       "<table border=\"1\" class=\"dataframe\">\n",
       "  <thead>\n",
       "    <tr style=\"text-align: right;\">\n",
       "      <th></th>\n",
       "      <th>Branch</th>\n",
       "      <th>City</th>\n",
       "      <th>Customer type</th>\n",
       "      <th>Gender</th>\n",
       "      <th>Product line</th>\n",
       "      <th>Unit price</th>\n",
       "      <th>Quantity</th>\n",
       "      <th>Tax 5%</th>\n",
       "      <th>Total</th>\n",
       "      <th>Time</th>\n",
       "      <th>Payment</th>\n",
       "      <th>cogs</th>\n",
       "      <th>gross income</th>\n",
       "      <th>Rating</th>\n",
       "      <th>Hour</th>\n",
       "      <th>Female</th>\n",
       "      <th>Male</th>\n",
       "    </tr>\n",
       "  </thead>\n",
       "  <tbody>\n",
       "    <tr>\n",
       "      <th>0</th>\n",
       "      <td>A</td>\n",
       "      <td>Yangon</td>\n",
       "      <td>Member</td>\n",
       "      <td>Female</td>\n",
       "      <td>Health and beauty</td>\n",
       "      <td>74.69</td>\n",
       "      <td>7</td>\n",
       "      <td>26.1415</td>\n",
       "      <td>548.9715</td>\n",
       "      <td>2022-11-09 13:08:00</td>\n",
       "      <td>Ewallet</td>\n",
       "      <td>522.83</td>\n",
       "      <td>26.1415</td>\n",
       "      <td>9.1</td>\n",
       "      <td>13</td>\n",
       "      <td>1</td>\n",
       "      <td>0</td>\n",
       "    </tr>\n",
       "    <tr>\n",
       "      <th>1</th>\n",
       "      <td>C</td>\n",
       "      <td>Naypyitaw</td>\n",
       "      <td>Normal</td>\n",
       "      <td>Female</td>\n",
       "      <td>Electronic accessories</td>\n",
       "      <td>15.28</td>\n",
       "      <td>5</td>\n",
       "      <td>3.8200</td>\n",
       "      <td>80.2200</td>\n",
       "      <td>2022-11-09 10:29:00</td>\n",
       "      <td>Cash</td>\n",
       "      <td>76.40</td>\n",
       "      <td>3.8200</td>\n",
       "      <td>9.6</td>\n",
       "      <td>10</td>\n",
       "      <td>1</td>\n",
       "      <td>0</td>\n",
       "    </tr>\n",
       "    <tr>\n",
       "      <th>2</th>\n",
       "      <td>A</td>\n",
       "      <td>Yangon</td>\n",
       "      <td>Normal</td>\n",
       "      <td>Male</td>\n",
       "      <td>Home and lifestyle</td>\n",
       "      <td>46.33</td>\n",
       "      <td>7</td>\n",
       "      <td>16.2155</td>\n",
       "      <td>340.5255</td>\n",
       "      <td>2022-11-09 13:23:00</td>\n",
       "      <td>Credit card</td>\n",
       "      <td>324.31</td>\n",
       "      <td>16.2155</td>\n",
       "      <td>7.4</td>\n",
       "      <td>13</td>\n",
       "      <td>0</td>\n",
       "      <td>1</td>\n",
       "    </tr>\n",
       "    <tr>\n",
       "      <th>3</th>\n",
       "      <td>A</td>\n",
       "      <td>Yangon</td>\n",
       "      <td>Member</td>\n",
       "      <td>Male</td>\n",
       "      <td>Health and beauty</td>\n",
       "      <td>58.22</td>\n",
       "      <td>8</td>\n",
       "      <td>23.2880</td>\n",
       "      <td>489.0480</td>\n",
       "      <td>2022-11-09 20:33:00</td>\n",
       "      <td>Ewallet</td>\n",
       "      <td>465.76</td>\n",
       "      <td>23.2880</td>\n",
       "      <td>8.4</td>\n",
       "      <td>20</td>\n",
       "      <td>0</td>\n",
       "      <td>1</td>\n",
       "    </tr>\n",
       "    <tr>\n",
       "      <th>4</th>\n",
       "      <td>A</td>\n",
       "      <td>Yangon</td>\n",
       "      <td>Normal</td>\n",
       "      <td>Male</td>\n",
       "      <td>Sports and travel</td>\n",
       "      <td>86.31</td>\n",
       "      <td>7</td>\n",
       "      <td>30.2085</td>\n",
       "      <td>634.3785</td>\n",
       "      <td>2022-11-09 10:37:00</td>\n",
       "      <td>Ewallet</td>\n",
       "      <td>604.17</td>\n",
       "      <td>30.2085</td>\n",
       "      <td>5.3</td>\n",
       "      <td>10</td>\n",
       "      <td>0</td>\n",
       "      <td>1</td>\n",
       "    </tr>\n",
       "  </tbody>\n",
       "</table>\n",
       "</div>"
      ],
      "text/plain": [
       "  Branch       City Customer type  Gender            Product line  Unit price  \\\n",
       "0      A     Yangon        Member  Female       Health and beauty       74.69   \n",
       "1      C  Naypyitaw        Normal  Female  Electronic accessories       15.28   \n",
       "2      A     Yangon        Normal    Male      Home and lifestyle       46.33   \n",
       "3      A     Yangon        Member    Male       Health and beauty       58.22   \n",
       "4      A     Yangon        Normal    Male       Sports and travel       86.31   \n",
       "\n",
       "   Quantity   Tax 5%     Total                Time      Payment    cogs  \\\n",
       "0         7  26.1415  548.9715 2022-11-09 13:08:00      Ewallet  522.83   \n",
       "1         5   3.8200   80.2200 2022-11-09 10:29:00         Cash   76.40   \n",
       "2         7  16.2155  340.5255 2022-11-09 13:23:00  Credit card  324.31   \n",
       "3         8  23.2880  489.0480 2022-11-09 20:33:00      Ewallet  465.76   \n",
       "4         7  30.2085  634.3785 2022-11-09 10:37:00      Ewallet  604.17   \n",
       "\n",
       "   gross income  Rating  Hour  Female  Male  \n",
       "0       26.1415     9.1    13       1     0  \n",
       "1        3.8200     9.6    10       1     0  \n",
       "2       16.2155     7.4    13       0     1  \n",
       "3       23.2880     8.4    20       0     1  \n",
       "4       30.2085     5.3    10       0     1  "
      ]
     },
     "execution_count": 28,
     "metadata": {},
     "output_type": "execute_result"
    }
   ],
   "source": [
    "df = pd.concat([df, gender_dummies], axis = 1)\n",
    "df.head()"
   ]
  },
  {
   "cell_type": "code",
   "execution_count": 29,
   "id": "e30b79c7",
   "metadata": {
    "execution": {
     "iopub.execute_input": "2022-11-09T18:09:31.553731Z",
     "iopub.status.busy": "2022-11-09T18:09:31.552864Z",
     "iopub.status.idle": "2022-11-09T18:09:31.964400Z",
     "shell.execute_reply": "2022-11-09T18:09:31.963212Z"
    },
    "papermill": {
     "duration": 0.433773,
     "end_time": "2022-11-09T18:09:31.966965",
     "exception": false,
     "start_time": "2022-11-09T18:09:31.533192",
     "status": "completed"
    },
    "tags": []
   },
   "outputs": [
    {
     "data": {
      "image/png": "[encoded data removed]",
      "text/plain": [
       "<Figure size 432x288 with 1 Axes>"
      ]
     },
     "metadata": {
      "needs_background": "light"
     },
     "output_type": "display_data"
    }
   ],
   "source": [
    "genderCount  = sns.lineplot(x=\"Hour\",  y = 'Quantity',data =df).set_title(\"Product Sales per Hour\")"
   ]
  },
  {
   "cell_type": "markdown",
   "id": "75557d57",
   "metadata": {
    "papermill": {
     "duration": 0.018097,
     "end_time": "2022-11-09T18:09:32.003532",
     "exception": false,
     "start_time": "2022-11-09T18:09:31.985435",
     "status": "completed"
    },
    "tags": []
   },
   "source": [
    "# **Product Analysis**"
   ]
  },
  {
   "cell_type": "markdown",
   "id": "f91e2d88",
   "metadata": {
    "papermill": {
     "duration": 0.017943,
     "end_time": "2022-11-09T18:09:32.039700",
     "exception": false,
     "start_time": "2022-11-09T18:09:32.021757",
     "status": "completed"
    },
    "tags": []
   },
   "source": [
    "Let's look at the various products' performance."
   ]
  },
  {
   "cell_type": "code",
   "execution_count": 30,
   "id": "066310c2",
   "metadata": {
    "execution": {
     "iopub.execute_input": "2022-11-09T18:09:32.077862Z",
     "iopub.status.busy": "2022-11-09T18:09:32.077463Z",
     "iopub.status.idle": "2022-11-09T18:09:32.268846Z",
     "shell.execute_reply": "2022-11-09T18:09:32.267663Z"
    },
    "papermill": {
     "duration": 0.214006,
     "end_time": "2022-11-09T18:09:32.271916",
     "exception": false,
     "start_time": "2022-11-09T18:09:32.057910",
     "status": "completed"
    },
    "tags": []
   },
   "outputs": [
    {
     "data": {
      "text/plain": [
       "<AxesSubplot:xlabel='Quantity', ylabel='Product line'>"
      ]
     },
     "execution_count": 30,
     "metadata": {},
     "output_type": "execute_result"
    },
    {
     "data": {
      "image/png": "[encoded data removed]",
      "text/plain": [
       "<Figure size 432x288 with 1 Axes>"
      ]
     },
     "metadata": {
      "needs_background": "light"
     },
     "output_type": "display_data"
    }
   ],
   "source": [
    "sns.boxenplot(y = 'Product line', x = 'Quantity', data=df )"
   ]
  },
  {
   "cell_type": "markdown",
   "id": "417faa88",
   "metadata": {
    "papermill": {
     "duration": 0.018509,
     "end_time": "2022-11-09T18:09:32.309339",
     "exception": false,
     "start_time": "2022-11-09T18:09:32.290830",
     "status": "completed"
    },
    "tags": []
   },
   "source": [
    "From the above visual, Health and Beauty,Electronic accessories, Home and lifestyle, Sports and travel have a better average quantity sales"
   ]
  },
  {
   "cell_type": "code",
   "execution_count": 31,
   "id": "78929e6a",
   "metadata": {
    "execution": {
     "iopub.execute_input": "2022-11-09T18:09:32.349534Z",
     "iopub.status.busy": "2022-11-09T18:09:32.348883Z",
     "iopub.status.idle": "2022-11-09T18:09:32.577677Z",
     "shell.execute_reply": "2022-11-09T18:09:32.576605Z"
    },
    "papermill": {
     "duration": 0.25131,
     "end_time": "2022-11-09T18:09:32.580009",
     "exception": false,
     "start_time": "2022-11-09T18:09:32.328699",
     "status": "completed"
    },
    "tags": []
   },
   "outputs": [
    {
     "data": {
      "text/plain": [
       "<AxesSubplot:xlabel='count', ylabel='Product line'>"
      ]
     },
     "execution_count": 31,
     "metadata": {},
     "output_type": "execute_result"
    },
    {
     "data": {
      "image/png": "[encoded data removed]",
      "text/plain": [
       "<Figure size 432x288 with 1 Axes>"
      ]
     },
     "metadata": {
      "needs_background": "light"
     },
     "output_type": "display_data"
    }
   ],
   "source": [
    "sns.countplot(y = 'Product line', data=df, order = df['Product line'].value_counts().index )"
   ]
  },
  {
   "cell_type": "markdown",
   "id": "f89a88d3",
   "metadata": {
    "papermill": {
     "duration": 0.019024,
     "end_time": "2022-11-09T18:09:32.618426",
     "exception": false,
     "start_time": "2022-11-09T18:09:32.599402",
     "status": "completed"
    },
    "tags": []
   },
   "source": [
    "The above image shows the top product line item type sold in the given dataset. Fashion Accessories is the highest while Health and beauty is the lowest"
   ]
  },
  {
   "cell_type": "code",
   "execution_count": 32,
   "id": "3ff4bb40",
   "metadata": {
    "execution": {
     "iopub.execute_input": "2022-11-09T18:09:32.659161Z",
     "iopub.status.busy": "2022-11-09T18:09:32.658357Z",
     "iopub.status.idle": "2022-11-09T18:09:32.942321Z",
     "shell.execute_reply": "2022-11-09T18:09:32.941219Z"
    },
    "papermill": {
     "duration": 0.307196,
     "end_time": "2022-11-09T18:09:32.944924",
     "exception": false,
     "start_time": "2022-11-09T18:09:32.637728",
     "status": "completed"
    },
    "tags": []
   },
   "outputs": [
    {
     "data": {
      "text/plain": [
       "<AxesSubplot:xlabel='Rating', ylabel='Product line'>"
      ]
     },
     "execution_count": 32,
     "metadata": {},
     "output_type": "execute_result"
    },
    {
     "data": {
      "image/png": "[encoded data removed]",
      "text/plain": [
       "<Figure size 432x288 with 1 Axes>"
      ]
     },
     "metadata": {
      "needs_background": "light"
     },
     "output_type": "display_data"
    }
   ],
   "source": [
    "sns.boxenplot(y = 'Product line', x = 'Rating', data=df )"
   ]
  },
  {
   "cell_type": "markdown",
   "id": "9b6379b5",
   "metadata": {
    "papermill": {
     "duration": 0.022191,
     "end_time": "2022-11-09T18:09:32.988045",
     "exception": false,
     "start_time": "2022-11-09T18:09:32.965854",
     "status": "completed"
    },
    "tags": []
   },
   "source": [
    "Food and Beverages have the highest average rating while sports and travel the lowest."
   ]
  },
  {
   "cell_type": "code",
   "execution_count": 33,
   "id": "7e33135f",
   "metadata": {
    "execution": {
     "iopub.execute_input": "2022-11-09T18:09:33.029846Z",
     "iopub.status.busy": "2022-11-09T18:09:33.029458Z",
     "iopub.status.idle": "2022-11-09T18:09:33.422845Z",
     "shell.execute_reply": "2022-11-09T18:09:33.422054Z"
    },
    "papermill": {
     "duration": 0.416603,
     "end_time": "2022-11-09T18:09:33.424959",
     "exception": false,
     "start_time": "2022-11-09T18:09:33.008356",
     "status": "completed"
    },
    "tags": []
   },
   "outputs": [
    {
     "data": {
      "text/plain": [
       "<AxesSubplot:xlabel='Product line', ylabel='Female'>"
      ]
     },
     "execution_count": 33,
     "metadata": {},
     "output_type": "execute_result"
    },
    {
     "data": {
      "image/png": "[encoded data removed]",
      "text/plain": [
       "<Figure size 864x432 with 1 Axes>"
      ]
     },
     "metadata": {
      "needs_background": "light"
     },
     "output_type": "display_data"
    }
   ],
   "source": [
    "plt.figure(figsize = (12,6))\n",
    "sns.barplot(x = 'Product line', y = 'Female', data = df)"
   ]
  },
  {
   "cell_type": "markdown",
   "id": "63f224fd",
   "metadata": {
    "papermill": {
     "duration": 0.019372,
     "end_time": "2022-11-09T18:09:33.464326",
     "exception": false,
     "start_time": "2022-11-09T18:09:33.444954",
     "status": "completed"
    },
    "tags": []
   },
   "source": [
    "Popularity of different product lines in female category."
   ]
  },
  {
   "cell_type": "markdown",
   "id": "986fdd66",
   "metadata": {
    "papermill": {
     "duration": 0.019817,
     "end_time": "2022-11-09T18:09:33.504243",
     "exception": false,
     "start_time": "2022-11-09T18:09:33.484426",
     "status": "completed"
    },
    "tags": []
   },
   "source": [
    "# Plotting Customers per city"
   ]
  },
  {
   "cell_type": "code",
   "execution_count": 34,
   "id": "0a9d2f8c",
   "metadata": {
    "execution": {
     "iopub.execute_input": "2022-11-09T18:09:33.545870Z",
     "iopub.status.busy": "2022-11-09T18:09:33.545148Z",
     "iopub.status.idle": "2022-11-09T18:09:33.555214Z",
     "shell.execute_reply": "2022-11-09T18:09:33.554206Z"
    },
    "papermill": {
     "duration": 0.033657,
     "end_time": "2022-11-09T18:09:33.557681",
     "exception": false,
     "start_time": "2022-11-09T18:09:33.524024",
     "status": "completed"
    },
    "tags": []
   },
   "outputs": [
    {
     "data": {
      "text/html": [
       "<div>\n",
       "<style scoped>\n",
       "    .dataframe tbody tr th:only-of-type {\n",
       "        vertical-align: middle;\n",
       "    }\n",
       "\n",
       "    .dataframe tbody tr th {\n",
       "        vertical-align: top;\n",
       "    }\n",
       "\n",
       "    .dataframe thead th {\n",
       "        text-align: right;\n",
       "    }\n",
       "</style>\n",
       "<table border=\"1\" class=\"dataframe\">\n",
       "  <thead>\n",
       "    <tr style=\"text-align: right;\">\n",
       "      <th></th>\n",
       "      <th>City</th>\n",
       "    </tr>\n",
       "  </thead>\n",
       "  <tbody>\n",
       "    <tr>\n",
       "      <th>Yangon</th>\n",
       "      <td>340</td>\n",
       "    </tr>\n",
       "    <tr>\n",
       "      <th>Mandalay</th>\n",
       "      <td>332</td>\n",
       "    </tr>\n",
       "    <tr>\n",
       "      <th>Naypyitaw</th>\n",
       "      <td>328</td>\n",
       "    </tr>\n",
       "  </tbody>\n",
       "</table>\n",
       "</div>"
      ],
      "text/plain": [
       "           City\n",
       "Yangon      340\n",
       "Mandalay    332\n",
       "Naypyitaw   328"
      ]
     },
     "execution_count": 34,
     "metadata": {},
     "output_type": "execute_result"
    }
   ],
   "source": [
    "place_df = pd.DataFrame(df['City'].value_counts())\n",
    "place_df"
   ]
  },
  {
   "cell_type": "code",
   "execution_count": 35,
   "id": "519bfe14",
   "metadata": {
    "execution": {
     "iopub.execute_input": "2022-11-09T18:09:33.600119Z",
     "iopub.status.busy": "2022-11-09T18:09:33.599528Z",
     "iopub.status.idle": "2022-11-09T18:09:33.799681Z",
     "shell.execute_reply": "2022-11-09T18:09:33.798357Z"
    },
    "papermill": {
     "duration": 0.224238,
     "end_time": "2022-11-09T18:09:33.802215",
     "exception": false,
     "start_time": "2022-11-09T18:09:33.577977",
     "status": "completed"
    },
    "tags": []
   },
   "outputs": [
    {
     "data": {
      "text/plain": [
       "<AxesSubplot:ylabel='City'>"
      ]
     },
     "execution_count": 35,
     "metadata": {},
     "output_type": "execute_result"
    },
    {
     "data": {
      "image/png": "[encoded data removed]",
      "text/plain": [
       "<Figure size 432x288 with 1 Axes>"
      ]
     },
     "metadata": {
      "needs_background": "light"
     },
     "output_type": "display_data"
    }
   ],
   "source": [
    "sns.barplot(x = place_df.index  , y = place_df['City'], palette = 'hot')"
   ]
  },
  {
   "cell_type": "markdown",
   "id": "06535e81",
   "metadata": {
    "papermill": {
     "duration": 0.020298,
     "end_time": "2022-11-09T18:09:33.843195",
     "exception": false,
     "start_time": "2022-11-09T18:09:33.822897",
     "status": "completed"
    },
    "tags": []
   },
   "source": [
    "# Plotting different payment methods count"
   ]
  },
  {
   "cell_type": "code",
   "execution_count": 36,
   "id": "70b0e8f4",
   "metadata": {
    "execution": {
     "iopub.execute_input": "2022-11-09T18:09:33.886142Z",
     "iopub.status.busy": "2022-11-09T18:09:33.885756Z",
     "iopub.status.idle": "2022-11-09T18:09:33.896507Z",
     "shell.execute_reply": "2022-11-09T18:09:33.895484Z"
    },
    "papermill": {
     "duration": 0.034943,
     "end_time": "2022-11-09T18:09:33.898673",
     "exception": false,
     "start_time": "2022-11-09T18:09:33.863730",
     "status": "completed"
    },
    "tags": []
   },
   "outputs": [
    {
     "data": {
      "text/html": [
       "<div>\n",
       "<style scoped>\n",
       "    .dataframe tbody tr th:only-of-type {\n",
       "        vertical-align: middle;\n",
       "    }\n",
       "\n",
       "    .dataframe tbody tr th {\n",
       "        vertical-align: top;\n",
       "    }\n",
       "\n",
       "    .dataframe thead th {\n",
       "        text-align: right;\n",
       "    }\n",
       "</style>\n",
       "<table border=\"1\" class=\"dataframe\">\n",
       "  <thead>\n",
       "    <tr style=\"text-align: right;\">\n",
       "      <th></th>\n",
       "      <th>Payment</th>\n",
       "    </tr>\n",
       "  </thead>\n",
       "  <tbody>\n",
       "    <tr>\n",
       "      <th>Ewallet</th>\n",
       "      <td>345</td>\n",
       "    </tr>\n",
       "    <tr>\n",
       "      <th>Cash</th>\n",
       "      <td>344</td>\n",
       "    </tr>\n",
       "    <tr>\n",
       "      <th>Credit card</th>\n",
       "      <td>311</td>\n",
       "    </tr>\n",
       "  </tbody>\n",
       "</table>\n",
       "</div>"
      ],
      "text/plain": [
       "             Payment\n",
       "Ewallet          345\n",
       "Cash             344\n",
       "Credit card      311"
      ]
     },
     "execution_count": 36,
     "metadata": {},
     "output_type": "execute_result"
    }
   ],
   "source": [
    "payment_df = pd.DataFrame(df['Payment'].value_counts())\n",
    "payment_df"
   ]
  },
  {
   "cell_type": "code",
   "execution_count": 37,
   "id": "1ced000d",
   "metadata": {
    "execution": {
     "iopub.execute_input": "2022-11-09T18:09:33.941735Z",
     "iopub.status.busy": "2022-11-09T18:09:33.941264Z",
     "iopub.status.idle": "2022-11-09T18:09:34.149699Z",
     "shell.execute_reply": "2022-11-09T18:09:34.148581Z"
    },
    "papermill": {
     "duration": 0.232789,
     "end_time": "2022-11-09T18:09:34.152035",
     "exception": false,
     "start_time": "2022-11-09T18:09:33.919246",
     "status": "completed"
    },
    "tags": []
   },
   "outputs": [
    {
     "data": {
      "text/plain": [
       "<AxesSubplot:ylabel='Payment'>"
      ]
     },
     "execution_count": 37,
     "metadata": {},
     "output_type": "execute_result"
    },
    {
     "data": {
      "image/png": "[encoded data removed]",
      "text/plain": [
       "<Figure size 432x288 with 1 Axes>"
      ]
     },
     "metadata": {
      "needs_background": "light"
     },
     "output_type": "display_data"
    }
   ],
   "source": [
    "sns.barplot(x =payment_df.index , y = payment_df.Payment)"
   ]
  },
  {
   "cell_type": "markdown",
   "id": "1ecc85e8",
   "metadata": {
    "papermill": {
     "duration": 0.020846,
     "end_time": "2022-11-09T18:09:34.193797",
     "exception": false,
     "start_time": "2022-11-09T18:09:34.172951",
     "status": "completed"
    },
    "tags": []
   },
   "source": [
    "# Getting Gross Income Plot for each product line"
   ]
  },
  {
   "cell_type": "code",
   "execution_count": 38,
   "id": "9805a722",
   "metadata": {
    "execution": {
     "iopub.execute_input": "2022-11-09T18:09:34.236861Z",
     "iopub.status.busy": "2022-11-09T18:09:34.236448Z",
     "iopub.status.idle": "2022-11-09T18:09:34.635185Z",
     "shell.execute_reply": "2022-11-09T18:09:34.633776Z"
    },
    "papermill": {
     "duration": 0.423092,
     "end_time": "2022-11-09T18:09:34.637596",
     "exception": false,
     "start_time": "2022-11-09T18:09:34.214504",
     "status": "completed"
    },
    "tags": []
   },
   "outputs": [
    {
     "data": {
      "text/plain": [
       "<AxesSubplot:xlabel='Product line', ylabel='gross income'>"
      ]
     },
     "execution_count": 38,
     "metadata": {},
     "output_type": "execute_result"
    },
    {
     "data": {
      "image/png": "[encoded data removed]",
      "text/plain": [
       "<Figure size 864x432 with 1 Axes>"
      ]
     },
     "metadata": {
      "needs_background": "light"
     },
     "output_type": "display_data"
    }
   ],
   "source": [
    "plt.figure(figsize= (12,6))\n",
    "sns.barplot(x = df['Product line'], y = df['gross income'])"
   ]
  },
  {
   "cell_type": "markdown",
   "id": "68fb77a7",
   "metadata": {
    "papermill": {
     "duration": 0.021575,
     "end_time": "2022-11-09T18:09:34.681214",
     "exception": false,
     "start_time": "2022-11-09T18:09:34.659639",
     "status": "completed"
    },
    "tags": []
   },
   "source": [
    "# Getting Rating Plot for each product line"
   ]
  },
  {
   "cell_type": "code",
   "execution_count": 39,
   "id": "4112d964",
   "metadata": {
    "execution": {
     "iopub.execute_input": "2022-11-09T18:09:34.726925Z",
     "iopub.status.busy": "2022-11-09T18:09:34.726510Z",
     "iopub.status.idle": "2022-11-09T18:09:35.126212Z",
     "shell.execute_reply": "2022-11-09T18:09:35.124981Z"
    },
    "papermill": {
     "duration": 0.42611,
     "end_time": "2022-11-09T18:09:35.128570",
     "exception": false,
     "start_time": "2022-11-09T18:09:34.702460",
     "status": "completed"
    },
    "tags": []
   },
   "outputs": [
    {
     "data": {
      "text/plain": [
       "([<matplotlib.axis.XTick at 0x7fb0a38cae90>,\n",
       "  <matplotlib.axis.XTick at 0x7fb0a38d4150>,\n",
       "  <matplotlib.axis.XTick at 0x7fb0a38ca890>,\n",
       "  <matplotlib.axis.XTick at 0x7fb0a38380d0>,\n",
       "  <matplotlib.axis.XTick at 0x7fb0a382de90>,\n",
       "  <matplotlib.axis.XTick at 0x7fb0a382dad0>,\n",
       "  <matplotlib.axis.XTick at 0x7fb0a3838c50>,\n",
       "  <matplotlib.axis.XTick at 0x7fb0a38425d0>,\n",
       "  <matplotlib.axis.XTick at 0x7fb0a3842510>,\n",
       "  <matplotlib.axis.XTick at 0x7fb0a384a290>,\n",
       "  <matplotlib.axis.XTick at 0x7fb0a384a350>],\n",
       " [Text(0, 0, ''),\n",
       "  Text(0, 0, ''),\n",
       "  Text(0, 0, ''),\n",
       "  Text(0, 0, ''),\n",
       "  Text(0, 0, ''),\n",
       "  Text(0, 0, ''),\n",
       "  Text(0, 0, ''),\n",
       "  Text(0, 0, ''),\n",
       "  Text(0, 0, ''),\n",
       "  Text(0, 0, ''),\n",
       "  Text(0, 0, '')])"
      ]
     },
     "execution_count": 39,
     "metadata": {},
     "output_type": "execute_result"
    },
    {
     "data": {
      "image/png": "[encoded data removed]",
      "text/plain": [
       "<Figure size 864x432 with 1 Axes>"
      ]
     },
     "metadata": {
      "needs_background": "light"
     },
     "output_type": "display_data"
    }
   ],
   "source": [
    "xdata = [0,1,2,3,4,5,6,7,8,9,10]\n",
    "plt.figure(figsize = (12,6))\n",
    "sns.barplot(y = df['Product line'], x = df['Rating'])\n",
    "plt.xticks(xdata)"
   ]
  },
  {
   "cell_type": "markdown",
   "id": "aac7b73b",
   "metadata": {
    "papermill": {
     "duration": 0.022044,
     "end_time": "2022-11-09T18:09:35.173372",
     "exception": false,
     "start_time": "2022-11-09T18:09:35.151328",
     "status": "completed"
    },
    "tags": []
   },
   "source": [
    "# Total bill in each product line"
   ]
  },
  {
   "cell_type": "code",
   "execution_count": 40,
   "id": "fc472f51",
   "metadata": {
    "execution": {
     "iopub.execute_input": "2022-11-09T18:09:35.219453Z",
     "iopub.status.busy": "2022-11-09T18:09:35.218762Z",
     "iopub.status.idle": "2022-11-09T18:09:35.742918Z",
     "shell.execute_reply": "2022-11-09T18:09:35.741772Z"
    },
    "papermill": {
     "duration": 0.550599,
     "end_time": "2022-11-09T18:09:35.746010",
     "exception": false,
     "start_time": "2022-11-09T18:09:35.195411",
     "status": "completed"
    },
    "tags": []
   },
   "outputs": [
    {
     "data": {
      "text/plain": [
       "<AxesSubplot:xlabel='Total', ylabel='Product line'>"
      ]
     },
     "execution_count": 40,
     "metadata": {},
     "output_type": "execute_result"
    },
    {
     "data": {
      "image/png": "[encoded data removed]",
      "text/plain": [
       "<Figure size 864x432 with 1 Axes>"
      ]
     },
     "metadata": {
      "needs_background": "light"
     },
     "output_type": "display_data"
    }
   ],
   "source": [
    "plt.figure(figsize = (12,6))\n",
    "sns.barplot(x = df['Total'] , y = df['Product line'])"
   ]
  },
  {
   "cell_type": "markdown",
   "id": "42c4e58e",
   "metadata": {
    "papermill": {
     "duration": 0.021854,
     "end_time": "2022-11-09T18:09:35.790213",
     "exception": false,
     "start_time": "2022-11-09T18:09:35.768359",
     "status": "completed"
    },
    "tags": []
   },
   "source": [
    "**Exploring Quantity Column**"
   ]
  },
  {
   "cell_type": "code",
   "execution_count": 41,
   "id": "cd90bfcd",
   "metadata": {
    "execution": {
     "iopub.execute_input": "2022-11-09T18:09:35.836412Z",
     "iopub.status.busy": "2022-11-09T18:09:35.835979Z",
     "iopub.status.idle": "2022-11-09T18:09:36.126650Z",
     "shell.execute_reply": "2022-11-09T18:09:36.125258Z"
    },
    "papermill": {
     "duration": 0.316572,
     "end_time": "2022-11-09T18:09:36.129171",
     "exception": false,
     "start_time": "2022-11-09T18:09:35.812599",
     "status": "completed"
    },
    "tags": []
   },
   "outputs": [
    {
     "name": "stderr",
     "output_type": "stream",
     "text": [
      "/opt/conda/lib/python3.7/site-packages/seaborn/distributions.py:2619: FutureWarning: `distplot` is a deprecated function and will be removed in a future version. Please adapt your code to use either `displot` (a figure-level function with similar flexibility) or `histplot` (an axes-level function for histograms).\n",
      "  warnings.warn(msg, FutureWarning)\n"
     ]
    },
    {
     "data": {
      "text/plain": [
       "([<matplotlib.axis.XTick at 0x7fb0a3868290>,\n",
       "  <matplotlib.axis.XTick at 0x7fb0a37213d0>,\n",
       "  <matplotlib.axis.XTick at 0x7fb0a3743450>,\n",
       "  <matplotlib.axis.XTick at 0x7fb0a36fb150>,\n",
       "  <matplotlib.axis.XTick at 0x7fb0a36fb550>,\n",
       "  <matplotlib.axis.XTick at 0x7fb0a3703050>,\n",
       "  <matplotlib.axis.XTick at 0x7fb0a3703310>,\n",
       "  <matplotlib.axis.XTick at 0x7fb0a3703090>,\n",
       "  <matplotlib.axis.XTick at 0x7fb0a3703990>,\n",
       "  <matplotlib.axis.XTick at 0x7fb0a379ba50>],\n",
       " [Text(0, 0, ''),\n",
       "  Text(0, 0, ''),\n",
       "  Text(0, 0, ''),\n",
       "  Text(0, 0, ''),\n",
       "  Text(0, 0, ''),\n",
       "  Text(0, 0, ''),\n",
       "  Text(0, 0, ''),\n",
       "  Text(0, 0, ''),\n",
       "  Text(0, 0, ''),\n",
       "  Text(0, 0, '')])"
      ]
     },
     "execution_count": 41,
     "metadata": {},
     "output_type": "execute_result"
    },
    {
     "data": {
      "image/png": "[encoded data removed]",
      "text/plain": [
       "<Figure size 864x432 with 1 Axes>"
      ]
     },
     "metadata": {
      "needs_background": "light"
     },
     "output_type": "display_data"
    }
   ],
   "source": [
    "xdata = [1,2,3,4,5,6,7,8,9,10]\n",
    "plt.figure(figsize = (12,6))\n",
    "sns.distplot(df['Quantity'])\n",
    "plt.xticks(xdata)"
   ]
  },
  {
   "cell_type": "code",
   "execution_count": 42,
   "id": "ea94e0f1",
   "metadata": {
    "execution": {
     "iopub.execute_input": "2022-11-09T18:09:36.175960Z",
     "iopub.status.busy": "2022-11-09T18:09:36.175566Z",
     "iopub.status.idle": "2022-11-09T18:09:36.186425Z",
     "shell.execute_reply": "2022-11-09T18:09:36.185337Z"
    },
    "papermill": {
     "duration": 0.037166,
     "end_time": "2022-11-09T18:09:36.188923",
     "exception": false,
     "start_time": "2022-11-09T18:09:36.151757",
     "status": "completed"
    },
    "tags": []
   },
   "outputs": [
    {
     "data": {
      "text/html": [
       "<div>\n",
       "<style scoped>\n",
       "    .dataframe tbody tr th:only-of-type {\n",
       "        vertical-align: middle;\n",
       "    }\n",
       "\n",
       "    .dataframe tbody tr th {\n",
       "        vertical-align: top;\n",
       "    }\n",
       "\n",
       "    .dataframe thead th {\n",
       "        text-align: right;\n",
       "    }\n",
       "</style>\n",
       "<table border=\"1\" class=\"dataframe\">\n",
       "  <thead>\n",
       "    <tr style=\"text-align: right;\">\n",
       "      <th></th>\n",
       "      <th>Quantity</th>\n",
       "    </tr>\n",
       "  </thead>\n",
       "  <tbody>\n",
       "    <tr>\n",
       "      <th>10</th>\n",
       "      <td>119</td>\n",
       "    </tr>\n",
       "    <tr>\n",
       "      <th>1</th>\n",
       "      <td>112</td>\n",
       "    </tr>\n",
       "    <tr>\n",
       "      <th>4</th>\n",
       "      <td>109</td>\n",
       "    </tr>\n",
       "    <tr>\n",
       "      <th>7</th>\n",
       "      <td>102</td>\n",
       "    </tr>\n",
       "    <tr>\n",
       "      <th>5</th>\n",
       "      <td>102</td>\n",
       "    </tr>\n",
       "    <tr>\n",
       "      <th>6</th>\n",
       "      <td>98</td>\n",
       "    </tr>\n",
       "    <tr>\n",
       "      <th>9</th>\n",
       "      <td>92</td>\n",
       "    </tr>\n",
       "    <tr>\n",
       "      <th>2</th>\n",
       "      <td>91</td>\n",
       "    </tr>\n",
       "    <tr>\n",
       "      <th>3</th>\n",
       "      <td>90</td>\n",
       "    </tr>\n",
       "    <tr>\n",
       "      <th>8</th>\n",
       "      <td>85</td>\n",
       "    </tr>\n",
       "  </tbody>\n",
       "</table>\n",
       "</div>"
      ],
      "text/plain": [
       "    Quantity\n",
       "10       119\n",
       "1        112\n",
       "4        109\n",
       "7        102\n",
       "5        102\n",
       "6         98\n",
       "9         92\n",
       "2         91\n",
       "3         90\n",
       "8         85"
      ]
     },
     "execution_count": 42,
     "metadata": {},
     "output_type": "execute_result"
    }
   ],
   "source": [
    "quantity_df = pd.DataFrame(df['Quantity'].value_counts())\n",
    "quantity_df"
   ]
  },
  {
   "cell_type": "code",
   "execution_count": 43,
   "id": "3dd2e424",
   "metadata": {
    "execution": {
     "iopub.execute_input": "2022-11-09T18:09:36.236205Z",
     "iopub.status.busy": "2022-11-09T18:09:36.235827Z",
     "iopub.status.idle": "2022-11-09T18:09:36.433400Z",
     "shell.execute_reply": "2022-11-09T18:09:36.432139Z"
    },
    "papermill": {
     "duration": 0.223669,
     "end_time": "2022-11-09T18:09:36.435600",
     "exception": false,
     "start_time": "2022-11-09T18:09:36.211931",
     "status": "completed"
    },
    "tags": []
   },
   "outputs": [
    {
     "data": {
      "text/plain": [
       "<AxesSubplot:ylabel='Quantity'>"
      ]
     },
     "execution_count": 43,
     "metadata": {},
     "output_type": "execute_result"
    },
    {
     "data": {
      "image/png": "[encoded data removed]",
      "text/plain": [
       "<Figure size 864x432 with 1 Axes>"
      ]
     },
     "metadata": {
      "needs_background": "light"
     },
     "output_type": "display_data"
    }
   ],
   "source": [
    "plt.figure(figsize=(12,6))\n",
    "sns.barplot(x = quantity_df.index , y = quantity_df['Quantity'] , palette = 'inferno')"
   ]
  }
 ],
 "metadata": {
  "kernelspec": {
   "display_name": "Python 3",
   "language": "python",
   "name": "python3"
  },
  "language_info": {
   "codemirror_mode": {
    "name": "ipython",
    "version": 3
   },
   "file_extension": ".py",
   "mimetype": "text/x-python",
   "name": "python",
   "nbconvert_exporter": "python",
   "pygments_lexer": "ipython3",
   "version": "3.7.12"
  },
  "papermill": {
   "default_parameters": {},
   "duration": 17.867435,
   "end_time": "2022-11-09T18:09:37.280880",
   "environment_variables": {},
   "exception": null,
   "input_path": "__notebook__.ipynb",
   "output_path": "__notebook__.ipynb",
   "parameters": {},
   "start_time": "2022-11-09T18:09:19.413445",
   "version": "2.3.4"
  }
 },
 "nbformat": 4,
 "nbformat_minor": 5
}
